{
 "cells": [
  {
   "cell_type": "markdown",
   "metadata": {},
   "source": [
    "# Exercise 1: Returns to College\n",
    "## (a)"
   ]
  },
  {
   "cell_type": "code",
   "execution_count": 1,
   "metadata": {},
   "outputs": [],
   "source": [
    "url = paste(\"https://raw.githubusercontent.com/jtorcasso/teaching/\",\n",
    "\"master/econ210_fall2017/data/project/psid_1972.csv\", sep=\"\")\n",
    "df_full = read.csv(url)"
   ]
  },
  {
   "cell_type": "code",
   "execution_count": 2,
   "metadata": {},
   "outputs": [
    {
     "data": {
      "text/plain": [
       "   inc_labor            D         h_sentscore1972\n",
       " Min.   :     0   Min.   :0.000   Min.   : 0.0   \n",
       " 1st Qu.:  1972   1st Qu.:0.000   1st Qu.: 9.0   \n",
       " Median : 29602   Median :0.000   Median :10.0   \n",
       " Mean   : 36310   Mean   :0.188   Mean   : 9.9   \n",
       " 3rd Qu.: 56372   3rd Qu.:0.000   3rd Qu.:11.0   \n",
       " Max.   :557620   Max.   :1.000   Max.   :13.0   "
      ]
     },
     "metadata": {},
     "output_type": "display_data"
    }
   ],
   "source": [
    "df_full$D = ifelse(is.na(df_full$edu), NaN, ifelse(df_full$edu >= 16, 1, 0))\n",
    "cols = c(\"inc_labor\", \"D\", \"h_sentscore1972\")\n",
    "df = na.omit(df_full[,cols])\n",
    "N = dim(df)[1]\n",
    "summary(df)"
   ]
  },
  {
   "cell_type": "markdown",
   "metadata": {},
   "source": [
    "### (i)\n",
    "Since\n",
    "$$\n",
    "Y = \\gamma_0 + \\gamma_1D + \\epsilon = \\gamma_0 + \\gamma_1D + E[u] + u - E[u]\n",
    "$$\n",
    "$$\n",
    "= \\gamma_0 + E[u] + \\gamma_1D + u - E[u] = \\gamma_0 + E[u] + \\gamma_1D + \\gamma_2(A - E[A]) + \\epsilon\n",
    "$$\n",
    "$$\n",
    "= \\tilde{\\gamma}_0 + \\gamma_1D + \\mu,\n",
    "$$\n",
    "where $\\tilde{\\gamma}_0 = \\gamma_0 + E[u] = \\gamma_0 + \\gamma_2E[A]$ and $\\mu=\\gamma_2(A - E[A]) + \\epsilon$ is such that $E[\\mu] = 0$."
   ]
  },
  {
   "cell_type": "markdown",
   "metadata": {},
   "source": [
    "### (ii)\n",
    "$\\gamma_1$ is the causal effect of college on earnings. That is, the effect of going to college holding everything else constant. Some authors refer to this as the \"rate of return to schooling.\" "
   ]
  },
  {
   "cell_type": "markdown",
   "metadata": {},
   "source": [
    "### (iii)\n",
    "$\\beta_1$ is the increase in earnings associated with going to college. It is not the causal effect, like $\\gamma_1$. For instance, if attending college is more costly for low ability individuals and ability positively effects earnings, then $\\beta_1$ will in part capture the effect of being high ability on earnings."
   ]
  },
  {
   "cell_type": "markdown",
   "metadata": {},
   "source": [
    "### (iv)\n",
    "From class, we showed\n",
    "$$\n",
    "\\beta_1 = \\frac{Cov[Y,D]}{Var[D]} = \\gamma_1 + \\frac{Cov[D,\\mu]}{Var[D]}\n",
    "$$\n",
    "where, after substituting in for $\\mu$, we have\n",
    "$$\n",
    "= \\gamma_1 + \\frac{Cov[D,\\gamma_2(A - E[A]) + \\epsilon]}{Var[D]} = \\gamma_1 + \\gamma_2\\frac{Cov[D,A]}{Var[D]}\n",
    "$$\n",
    "and using the fact that (proved in last homework) $\\frac{Cov[D,A]}{Var[D]}=E[A|D=1]-E[A|D=0]$, we have\n",
    "$$\n",
    "= \\gamma_1 + \\gamma_2(E[A|D=1] - E[A|D=0]).\n",
    "$$\n",
    "Thus, if we expect $E[A|D=1] - E[A|D=0] > 0$, then $\\beta_1 > \\gamma_1$. That is, if the average ability of those that go to college is greater than the average ability of those that don't go to college, and if ability increases earnings ($\\gamma_2>0$), then $\\beta_1 > \\gamma_1$ and the slope coefficient of the regression is an upwardly biased estimate of $\\gamma_1$."
   ]
  },
  {
   "cell_type": "markdown",
   "metadata": {},
   "source": [
    "### (v)"
   ]
  },
  {
   "cell_type": "code",
   "execution_count": 3,
   "metadata": {},
   "outputs": [
    {
     "data": {
      "text/html": [
       "28972.5890976422"
      ],
      "text/latex": [
       "28972.5890976422"
      ],
      "text/markdown": [
       "28972.5890976422"
      ],
      "text/plain": [
       "[1] 28972.59"
      ]
     },
     "metadata": {},
     "output_type": "display_data"
    }
   ],
   "source": [
    "reg = function(Y, X){solve(t(X)%*%X)%*%t(X)%*%Y}\n",
    "Y = df$inc_labor\n",
    "X = cbind(rep(1, N), df$D)\n",
    "reg(Y, X)[2]"
   ]
  },
  {
   "cell_type": "markdown",
   "metadata": {},
   "source": [
    "### (vi)\n",
    "From class we proved the consistency of the OLS estimator for regression, that is $\\hat{\\beta}\\overset{p}{\\to}\\beta$ and therefore $\\hat{\\beta}_1\\overset{p}{\\to}\\beta_1$. But since we argued that $\\beta_1\\neq \\gamma_1$, then $\\hat{\\beta}_1$ is not consistent for $\\gamma_1$. "
   ]
  },
  {
   "cell_type": "markdown",
   "metadata": {},
   "source": [
    "## (b)\n",
    "### (i)\n",
    "If we define $X=(1,D,A)'$, then $Y=X'\\gamma + \\epsilon$. From class, we show that\n",
    "$$\n",
    "\\beta = E[XX']^{-1}E[XY] = \\gamma + E[XX']^{-1}E[X\\epsilon]\n",
    "$$\n",
    "so that $\\beta=\\gamma$ if\n",
    "$$\n",
    "0=E[X\\epsilon]=\n",
    "\\begin{pmatrix}\n",
    "E[\\epsilon] \\\\ E[D\\epsilon] \\\\ E[A\\epsilon].\n",
    "\\end{pmatrix}\n",
    "$$\n",
    "Since we assumed $E[\\epsilon] = 0$, this amounts to the condition $E[D\\epsilon]=E[A\\epsilon]=0$ or no correlation between $D$ and $\\epsilon$, and $A$ and $\\epsilon$. In other words, that $D$ and $A$ are both exogenous."
   ]
  },
  {
   "cell_type": "markdown",
   "metadata": {},
   "source": [
    "### (ii)\n",
    "Because we thought $\\beta_1$ from a-v would be biased upward because of ability, after controlling for ability, I suspect the estimate would be smaller. "
   ]
  },
  {
   "cell_type": "markdown",
   "metadata": {},
   "source": [
    "### (iii)\n",
    "I think that we have better reason to believe $\\beta_1=\\gamma_1$ after controlling for ability because we suspect the ability bias to be the biggest contributor to the bias term. However, if throught ability was multidimensional, for instance, including both a cognitive and noncognitive (or personality) component, then we might suspect that even after controlling for the cognitive component, we still have an upward bias in $\\beta_1$, since $E[D\\epsilon]$ may still be positive."
   ]
  },
  {
   "cell_type": "markdown",
   "metadata": {},
   "source": [
    "### (iv)"
   ]
  },
  {
   "cell_type": "code",
   "execution_count": 4,
   "metadata": {},
   "outputs": [
    {
     "data": {
      "text/html": [
       "25696.3311547401"
      ],
      "text/latex": [
       "25696.3311547401"
      ],
      "text/markdown": [
       "25696.3311547401"
      ],
      "text/plain": [
       "[1] 25696.33"
      ]
     },
     "metadata": {},
     "output_type": "display_data"
    }
   ],
   "source": [
    "X = cbind(rep(1, N), df$D, df$h_sentscore1972)\n",
    "reg(Y, X)[2]"
   ]
  },
  {
   "cell_type": "markdown",
   "metadata": {},
   "source": [
    "And indeed, we confirm our prediction from b-ii. After controlling for ability, the slope parameter on $D$ decreases."
   ]
  },
  {
   "cell_type": "markdown",
   "metadata": {},
   "source": [
    "### (v)\n",
    "We have that\n",
    "$$\n",
    "\\beta_1 = \\frac{Cov[Y,D]}{Var[D]} = \\frac{Cov[\\gamma_0 + \\gamma_1D + \\gamma_2A + \\epsilon, D]}{Var[D]}\n",
    "$$\n",
    "$$\n",
    "= \\gamma_1 + \\gamma_2\\frac{Cov[A,D]}{Var[D]}\n",
    "$$\n",
    "$$\n",
    "= \\gamma_1 + \\gamma_2(E[A|D=1] - E[A|D=0])\n",
    "$$\n",
    "so that $\\beta_1=\\gamma_1$ if $E[A|D=1] = E[A|D=0]$ or ability does not effect earnings ($\\gamma_2=0$)."
   ]
  },
  {
   "cell_type": "markdown",
   "metadata": {},
   "source": [
    "### (vi)\n",
    "Now, defining $\\tilde{Y} = Y - BLP(Y|A)$ and $\\tilde{D}=D-BLP(D|A)$, by Frisch-Waugh,\n",
    "$$\n",
    "\\beta_1 = \\frac{Cov[\\tilde{Y},\\tilde{D}]}{Var[\\tilde{D}]} = \\frac{Cov[Y - BLP(D|A),\\tilde{D}]}{Var[\\tilde{D}]}\n",
    "$$\n",
    "$$\n",
    "= \\frac{Cov[Y,\\tilde{D}]}{Var[\\tilde{D}]} = \\frac{Cov[\\gamma_0 + \\gamma_1D + \\gamma_2A + \\epsilon,\\tilde{D}]}{Var[\\tilde{D}]}\n",
    "$$\n",
    "$$\n",
    "= \\frac{\\gamma_1Cov[D,\\tilde{D}] + \\gamma_2Cov[A,\\tilde{D}] + Cov[\\epsilon,\\tilde{D}]}{Var[\\tilde{D}]}\n",
    "$$\n",
    "where since $Cov[D,\\tilde{D}] = Cov[\\tilde{D} + BLP(D|A),D] = Var[\\tilde{D}]$ and $Cov[A,\\tilde{D}]=E[A\\tilde{D}]=0$ by properties of BLP,\n",
    "$$\n",
    "= \\gamma_1 + \\frac{E[\\epsilon\\tilde{D}]}{Var[\\tilde{D}]}\n",
    "$$\n",
    "$$\n",
    "= \\gamma_1 + \\frac{E[\\epsilon(D-BLP(D|A))]}{Var[\\tilde{D}]} = \\gamma_1 - \\frac{E[\\epsilon BLP(D|A)]}{Var[\\tilde{D}]}\n",
    "$$\n",
    "$$\n",
    "=\\gamma_1 - \\frac{\\frac{Cov[D,A]}{Var[A]}E[A\\epsilon]}{Var[\\tilde{D}]}\n",
    "$$\n",
    "$$\n",
    "=\\gamma_1 - \\frac{E[A\\epsilon]}{Var[\\tilde{D}]}(E[A|D=1] - E[A|D=0])\n",
    "$$\n",
    "so that $\\beta_1=\\gamma_1$ if $E[A|D=1] = E[A|D=0]$ or $E[A\\epsilon]=0$."
   ]
  },
  {
   "cell_type": "markdown",
   "metadata": {},
   "source": [
    "### (vii)\n",
    "We were given that $E[D\\epsilon]=0$. Suppose further that $E[A|D=1]\\neq E[A|D=0]$. You can test this in the data and it should hold. But we don't know $\\gamma_2$ or $E[A\\epsilon]$. \n",
    "\n",
    "However, if $\\gamma_2=0$ and $E[A\\epsilon]\\neq 0$, then $\\beta_1$ from a univariate regression of $Y$ on $D$ would identify $\\gamma_1$ and $\\beta_1$ from a bivariate regression of $Y$ on $D$ and $A$ would not. But if $\\gamma_2\\neq 0$ and $E[A\\epsilon]=0$, then $\\beta_1$ from a bivariate regression of $Y$ on $D$ and $A$ would identify $\\gamma_1$ and $\\beta_1$ from a univariate regression of $Y$ on $D$ would not.\n",
    "\n",
    "Because we don't know $\\gamma_2$ and $E[A\\epsilon]$, we don't know whether it's a good idea to include $A$ in the regression or not. This is the depressing part.\n",
    "\n",
    "However, it's likely that $\\gamma_2>0$ and that $E[A\\epsilon]$ is small so that the bivariate regression is better. But because we don't know, it is best to come up with an instrument to find exogenous variation in $D$."
   ]
  },
  {
   "cell_type": "markdown",
   "metadata": {},
   "source": [
    "# Exercise 2: Testing Heterogeneous Returns to Schooling"
   ]
  },
  {
   "cell_type": "markdown",
   "metadata": {},
   "source": [
    "## (a)"
   ]
  },
  {
   "cell_type": "code",
   "execution_count": 5,
   "metadata": {},
   "outputs": [],
   "source": [
    "df_full$wage =  ifelse(df_full$inc_labor==0 | df_full$hours==0, NaN, df_full$inc_labor/df_full$hours)\n",
    "df.m = df_full[df_full$male==1,]\n",
    "cols = c(\"wage\", \"D\", \"h_sentscore1972\", \"age\", \"black\")\n",
    "df.m = na.omit(df.m[,cols])\n",
    "N = dim(df.m)[1]"
   ]
  },
  {
   "cell_type": "code",
   "execution_count": 6,
   "metadata": {
    "scrolled": true
   },
   "outputs": [
    {
     "data": {
      "text/plain": [
       "\n",
       "Call:\n",
       "lm(formula = log(wage) ~ black + D + D:black + h_sentscore1972 + \n",
       "    age + I(age^2), data = df.m)\n",
       "\n",
       "Residuals:\n",
       "     Min       1Q   Median       3Q      Max \n",
       "-2.89643 -0.26264  0.05766  0.31886  2.50580 \n",
       "\n",
       "Coefficients:\n",
       "                  Estimate Std. Error t value Pr(>|t|)    \n",
       "(Intercept)      0.6990147  0.2458950   2.843  0.00454 ** \n",
       "black           -0.1757128  0.0582436  -3.017  0.00260 ** \n",
       "D                0.3522977  0.0351464  10.024  < 2e-16 ***\n",
       "h_sentscore1972  0.0546821  0.0076922   7.109 1.83e-12 ***\n",
       "age              0.0862625  0.0119472   7.220 8.32e-13 ***\n",
       "I(age^2)        -0.0009278  0.0001443  -6.430 1.72e-10 ***\n",
       "black:D         -0.0994828  0.2276905  -0.437  0.66223    \n",
       "---\n",
       "Signif. codes:  0 ‘***’ 0.001 ‘**’ 0.01 ‘*’ 0.05 ‘.’ 0.1 ‘ ’ 1\n",
       "\n",
       "Residual standard error: 0.5342 on 1460 degrees of freedom\n",
       "Multiple R-squared:  0.1734,\tAdjusted R-squared:   0.17 \n",
       "F-statistic: 51.03 on 6 and 1460 DF,  p-value: < 2.2e-16\n"
      ]
     },
     "metadata": {},
     "output_type": "display_data"
    }
   ],
   "source": [
    "fit = lm(log(wage) ~ black + D + D:black + h_sentscore1972 + age + I(age^2), data=df.m)\n",
    "summary(fit)"
   ]
  },
  {
   "cell_type": "markdown",
   "metadata": {},
   "source": [
    "## (b)\n",
    "### (i)"
   ]
  },
  {
   "cell_type": "code",
   "execution_count": 7,
   "metadata": {},
   "outputs": [
    {
     "data": {
      "text/html": [
       "<table>\n",
       "<thead><tr><th scope=col>names</th><th scope=col></th></tr></thead>\n",
       "<tbody>\n",
       "\t<tr><td>(Intercept)          </td><td>0.699014721288868    </td></tr>\n",
       "\t<tr><td>black                </td><td>-0.17571282191806    </td></tr>\n",
       "\t<tr><td>D                    </td><td>0.352297724351845    </td></tr>\n",
       "\t<tr><td>black:D              </td><td>-0.0994828489382204  </td></tr>\n",
       "\t<tr><td>h_sentscore1972      </td><td>0.0546820984143524   </td></tr>\n",
       "\t<tr><td>age                  </td><td>0.0862624518137688   </td></tr>\n",
       "\t<tr><td>I(age^2)             </td><td>-0.000927842785057904</td></tr>\n",
       "</tbody>\n",
       "</table>\n"
      ],
      "text/latex": [
       "\\begin{tabular}{ll}\n",
       " names & \\\\\n",
       "\\hline\n",
       "\t (Intercept)           & 0.699014721288868    \\\\\n",
       "\t black                 & -0.17571282191806    \\\\\n",
       "\t D                     & 0.352297724351845    \\\\\n",
       "\t black:D               & -0.0994828489382204  \\\\\n",
       "\t h\\_sentscore1972     & 0.0546820984143524   \\\\\n",
       "\t age                   & 0.0862624518137688   \\\\\n",
       "\t I(age\\textasciicircum{}2)        & -0.000927842785057904            \\\\\n",
       "\\end{tabular}\n"
      ],
      "text/markdown": [
       "\n",
       "names |  | \n",
       "|---|---|---|---|---|---|---|\n",
       "| (Intercept)           | 0.699014721288868     | \n",
       "| black                 | -0.17571282191806     | \n",
       "| D                     | 0.352297724351845     | \n",
       "| black:D               | -0.0994828489382204   | \n",
       "| h_sentscore1972       | 0.0546820984143524    | \n",
       "| age                   | 0.0862624518137688    | \n",
       "| I(age^2)              | -0.000927842785057904 | \n",
       "\n",
       "\n"
      ],
      "text/plain": [
       "     names                                \n",
       "[1,] (Intercept)     0.699014721288868    \n",
       "[2,] black           -0.17571282191806    \n",
       "[3,] D               0.352297724351845    \n",
       "[4,] black:D         -0.0994828489382204  \n",
       "[5,] h_sentscore1972 0.0546820984143524   \n",
       "[6,] age             0.0862624518137688   \n",
       "[7,] I(age^2)        -0.000927842785057904"
      ]
     },
     "metadata": {},
     "output_type": "display_data"
    }
   ],
   "source": [
    "names = c(\"(Intercept)\", \"black\", \"D\", \"black:D\", \"h_sentscore1972\",\n",
    "         \"age\", \"I(age^2)\")\n",
    "Y=log(df.m$wage)\n",
    "X=cbind(rep(1, N), df.m$black, df.m$D, df.m$D*df.m$black,\n",
    "df.m$h_sentscore1972, df.m$age, df.m$age^2)\n",
    "\n",
    "reg = function(Y, X){solve(t(X)%*%X)%*%t(X)%*%Y}\n",
    "cbind(names, reg(Y, X))"
   ]
  },
  {
   "cell_type": "markdown",
   "metadata": {},
   "source": [
    "### (ii)"
   ]
  },
  {
   "cell_type": "code",
   "execution_count": 8,
   "metadata": {},
   "outputs": [
    {
     "data": {
      "text/html": [
       "<table>\n",
       "<thead><tr><th scope=col>names</th><th scope=col>se</th></tr></thead>\n",
       "<tbody>\n",
       "\t<tr><td>(Intercept)         </td><td>0.264028329149603   </td></tr>\n",
       "\t<tr><td>black               </td><td>0.0576630511077317  </td></tr>\n",
       "\t<tr><td>D                   </td><td>0.0331171527407276  </td></tr>\n",
       "\t<tr><td>black:D             </td><td>0.117551208916448   </td></tr>\n",
       "\t<tr><td>h_sentscore1972     </td><td>0.00807392382088216 </td></tr>\n",
       "\t<tr><td>age                 </td><td>0.012963899819327   </td></tr>\n",
       "\t<tr><td>I(age^2)            </td><td>0.000161992645432781</td></tr>\n",
       "</tbody>\n",
       "</table>\n"
      ],
      "text/latex": [
       "\\begin{tabular}{ll}\n",
       " names & se\\\\\n",
       "\\hline\n",
       "\t (Intercept)          & 0.264028329149603   \\\\\n",
       "\t black                & 0.0576630511077317  \\\\\n",
       "\t D                    & 0.0331171527407276  \\\\\n",
       "\t black:D              & 0.117551208916448   \\\\\n",
       "\t h\\_sentscore1972    & 0.00807392382088216 \\\\\n",
       "\t age                  & 0.012963899819327   \\\\\n",
       "\t I(age\\textasciicircum{}2)        & 0.000161992645432781             \\\\\n",
       "\\end{tabular}\n"
      ],
      "text/markdown": [
       "\n",
       "names | se | \n",
       "|---|---|---|---|---|---|---|\n",
       "| (Intercept)          | 0.264028329149603    | \n",
       "| black                | 0.0576630511077317   | \n",
       "| D                    | 0.0331171527407276   | \n",
       "| black:D              | 0.117551208916448    | \n",
       "| h_sentscore1972      | 0.00807392382088216  | \n",
       "| age                  | 0.012963899819327    | \n",
       "| I(age^2)             | 0.000161992645432781 | \n",
       "\n",
       "\n"
      ],
      "text/plain": [
       "     names           se                  \n",
       "[1,] (Intercept)     0.264028329149603   \n",
       "[2,] black           0.0576630511077317  \n",
       "[3,] D               0.0331171527407276  \n",
       "[4,] black:D         0.117551208916448   \n",
       "[5,] h_sentscore1972 0.00807392382088216 \n",
       "[6,] age             0.012963899819327   \n",
       "[7,] I(age^2)        0.000161992645432781"
      ]
     },
     "metadata": {},
     "output_type": "display_data"
    }
   ],
   "source": [
    "res = function(Y, X){Y - X%*%reg(Y, X)}\n",
    "U.hat = res(Y, X)\n",
    "\n",
    "# Multiplying row in X by corresponding element in U.hat\n",
    "XU = sweep(X, MARGIN=1, U.hat, `*`)\n",
    "\n",
    "# Calculating variance matrix\n",
    "V = N*solve(t(X)%*%X)%*%t(XU)%*%XU%*%solve(t(X)%*%X)\n",
    "se = sqrt(diag(V)/N)\n",
    "cbind(names, se)"
   ]
  },
  {
   "cell_type": "code",
   "execution_count": 9,
   "metadata": {},
   "outputs": [
    {
     "data": {
      "text/html": [
       "<table>\n",
       "<thead><tr><th scope=col>names</th><th scope=col>se</th></tr></thead>\n",
       "<tbody>\n",
       "\t<tr><td>(Intercept)         </td><td>0.245895004385014   </td></tr>\n",
       "\t<tr><td>black               </td><td>0.0582436406826939  </td></tr>\n",
       "\t<tr><td>D                   </td><td>0.0351464472693296  </td></tr>\n",
       "\t<tr><td>black:D             </td><td>0.22769046004374    </td></tr>\n",
       "\t<tr><td>h_sentscore1972     </td><td>0.00769219445396258 </td></tr>\n",
       "\t<tr><td>age                 </td><td>0.0119472228031754  </td></tr>\n",
       "\t<tr><td>I(age^2)            </td><td>0.000144294025221751</td></tr>\n",
       "</tbody>\n",
       "</table>\n"
      ],
      "text/latex": [
       "\\begin{tabular}{ll}\n",
       " names & se\\\\\n",
       "\\hline\n",
       "\t (Intercept)          & 0.245895004385014   \\\\\n",
       "\t black                & 0.0582436406826939  \\\\\n",
       "\t D                    & 0.0351464472693296  \\\\\n",
       "\t black:D              & 0.22769046004374    \\\\\n",
       "\t h\\_sentscore1972    & 0.00769219445396258 \\\\\n",
       "\t age                  & 0.0119472228031754  \\\\\n",
       "\t I(age\\textasciicircum{}2)        & 0.000144294025221751             \\\\\n",
       "\\end{tabular}\n"
      ],
      "text/markdown": [
       "\n",
       "names | se | \n",
       "|---|---|---|---|---|---|---|\n",
       "| (Intercept)          | 0.245895004385014    | \n",
       "| black                | 0.0582436406826939   | \n",
       "| D                    | 0.0351464472693296   | \n",
       "| black:D              | 0.22769046004374     | \n",
       "| h_sentscore1972      | 0.00769219445396258  | \n",
       "| age                  | 0.0119472228031754   | \n",
       "| I(age^2)             | 0.000144294025221751 | \n",
       "\n",
       "\n"
      ],
      "text/plain": [
       "     names           se                  \n",
       "[1,] (Intercept)     0.245895004385014   \n",
       "[2,] black           0.0582436406826939  \n",
       "[3,] D               0.0351464472693296  \n",
       "[4,] black:D         0.22769046004374    \n",
       "[5,] h_sentscore1972 0.00769219445396258 \n",
       "[6,] age             0.0119472228031754  \n",
       "[7,] I(age^2)        0.000144294025221751"
      ]
     },
     "metadata": {},
     "output_type": "display_data"
    }
   ],
   "source": [
    "K = dim(X)[2] - 1\n",
    "V.hom = (N/(N-K-1))*solve(t(X)%*%X)*sum(U.hat^2)\n",
    "se = sqrt(diag(V.hom)/N)\n",
    "cbind(names, se)"
   ]
  },
  {
   "cell_type": "markdown",
   "metadata": {},
   "source": [
    "### (iii)"
   ]
  },
  {
   "cell_type": "code",
   "execution_count": 10,
   "metadata": {},
   "outputs": [
    {
     "data": {
      "text/html": [
       "<table>\n",
       "<thead><tr><th scope=col>names</th><th scope=col></th></tr></thead>\n",
       "<tbody>\n",
       "\t<tr><td>(Intercept)       </td><td>2.84273656976932  </td></tr>\n",
       "\t<tr><td>black             </td><td>-3.0168584906175  </td></tr>\n",
       "\t<tr><td>D                 </td><td>10.0237079910855  </td></tr>\n",
       "\t<tr><td>black:D           </td><td>-0.436921463108772</td></tr>\n",
       "\t<tr><td>h_sentscore1972   </td><td>7.10877744207095  </td></tr>\n",
       "\t<tr><td>age               </td><td>7.22029322085141  </td></tr>\n",
       "\t<tr><td>I(age^2)          </td><td>-6.43022317543637 </td></tr>\n",
       "</tbody>\n",
       "</table>\n"
      ],
      "text/latex": [
       "\\begin{tabular}{ll}\n",
       " names & \\\\\n",
       "\\hline\n",
       "\t (Intercept)        & 2.84273656976932  \\\\\n",
       "\t black              & -3.0168584906175  \\\\\n",
       "\t D                  & 10.0237079910855  \\\\\n",
       "\t black:D            & -0.436921463108772\\\\\n",
       "\t h\\_sentscore1972  & 7.10877744207095  \\\\\n",
       "\t age                & 7.22029322085141  \\\\\n",
       "\t I(age\\textasciicircum{}2)        & -6.43022317543637                \\\\\n",
       "\\end{tabular}\n"
      ],
      "text/markdown": [
       "\n",
       "names |  | \n",
       "|---|---|---|---|---|---|---|\n",
       "| (Intercept)        | 2.84273656976932   | \n",
       "| black              | -3.0168584906175   | \n",
       "| D                  | 10.0237079910855   | \n",
       "| black:D            | -0.436921463108772 | \n",
       "| h_sentscore1972    | 7.10877744207095   | \n",
       "| age                | 7.22029322085141   | \n",
       "| I(age^2)           | -6.43022317543637  | \n",
       "\n",
       "\n"
      ],
      "text/plain": [
       "     names                             \n",
       "[1,] (Intercept)     2.84273656976932  \n",
       "[2,] black           -3.0168584906175  \n",
       "[3,] D               10.0237079910855  \n",
       "[4,] black:D         -0.436921463108772\n",
       "[5,] h_sentscore1972 7.10877744207095  \n",
       "[6,] age             7.22029322085141  \n",
       "[7,] I(age^2)        -6.43022317543637 "
      ]
     },
     "metadata": {},
     "output_type": "display_data"
    }
   ],
   "source": [
    "b.hat = reg(Y, X)\n",
    "t.stats = b.hat/se\n",
    "cbind(names, t.stats)"
   ]
  },
  {
   "cell_type": "markdown",
   "metadata": {},
   "source": [
    "### (iv)"
   ]
  },
  {
   "cell_type": "code",
   "execution_count": 11,
   "metadata": {},
   "outputs": [
    {
     "data": {
      "text/html": [
       "<table>\n",
       "<thead><tr><th scope=col>names</th><th scope=col></th></tr></thead>\n",
       "<tbody>\n",
       "\t<tr><td>(Intercept)         </td><td>0.00453504365463564 </td></tr>\n",
       "\t<tr><td>black               </td><td>0.00259825865106666 </td></tr>\n",
       "\t<tr><td>D                   </td><td>0                   </td></tr>\n",
       "\t<tr><td>black:D             </td><td>0.662232917153247   </td></tr>\n",
       "\t<tr><td>h_sentscore1972     </td><td>1.82565074169361e-12</td></tr>\n",
       "\t<tr><td>age                 </td><td>8.31779090049167e-13</td></tr>\n",
       "\t<tr><td>I(age^2)            </td><td>1.72193148628708e-10</td></tr>\n",
       "</tbody>\n",
       "</table>\n"
      ],
      "text/latex": [
       "\\begin{tabular}{ll}\n",
       " names & \\\\\n",
       "\\hline\n",
       "\t (Intercept)          & 0.00453504365463564 \\\\\n",
       "\t black                & 0.00259825865106666 \\\\\n",
       "\t D                    & 0                   \\\\\n",
       "\t black:D              & 0.662232917153247   \\\\\n",
       "\t h\\_sentscore1972    & 1.82565074169361e-12\\\\\n",
       "\t age                  & 8.31779090049167e-13\\\\\n",
       "\t I(age\\textasciicircum{}2)        & 1.72193148628708e-10             \\\\\n",
       "\\end{tabular}\n"
      ],
      "text/markdown": [
       "\n",
       "names |  | \n",
       "|---|---|---|---|---|---|---|\n",
       "| (Intercept)          | 0.00453504365463564  | \n",
       "| black                | 0.00259825865106666  | \n",
       "| D                    | 0                    | \n",
       "| black:D              | 0.662232917153247    | \n",
       "| h_sentscore1972      | 1.82565074169361e-12 | \n",
       "| age                  | 8.31779090049167e-13 | \n",
       "| I(age^2)             | 1.72193148628708e-10 | \n",
       "\n",
       "\n"
      ],
      "text/plain": [
       "     names                               \n",
       "[1,] (Intercept)     0.00453504365463564 \n",
       "[2,] black           0.00259825865106666 \n",
       "[3,] D               0                   \n",
       "[4,] black:D         0.662232917153247   \n",
       "[5,] h_sentscore1972 1.82565074169361e-12\n",
       "[6,] age             8.31779090049167e-13\n",
       "[7,] I(age^2)        1.72193148628708e-10"
      ]
     },
     "metadata": {},
     "output_type": "display_data"
    }
   ],
   "source": [
    "p.vals = 2*(1 - pt(abs(t.stats), df=N-K-1))\n",
    "cbind(names, p.vals)"
   ]
  },
  {
   "cell_type": "code",
   "execution_count": 12,
   "metadata": {},
   "outputs": [
    {
     "data": {
      "text/html": [
       "<table>\n",
       "<thead><tr><th scope=col>names</th><th scope=col></th></tr></thead>\n",
       "<tbody>\n",
       "\t<tr><td>(Intercept)         </td><td>0.00447280228842706 </td></tr>\n",
       "\t<tr><td>black               </td><td>0.00255409013199004 </td></tr>\n",
       "\t<tr><td>D                   </td><td>0                   </td></tr>\n",
       "\t<tr><td>black:D             </td><td>0.662168305789016   </td></tr>\n",
       "\t<tr><td>h_sentscore1972     </td><td>1.17084120176969e-12</td></tr>\n",
       "\t<tr><td>age                 </td><td>5.18696197104873e-13</td></tr>\n",
       "\t<tr><td>I(age^2)            </td><td>1.2741674382255e-10 </td></tr>\n",
       "</tbody>\n",
       "</table>\n"
      ],
      "text/latex": [
       "\\begin{tabular}{ll}\n",
       " names & \\\\\n",
       "\\hline\n",
       "\t (Intercept)          & 0.00447280228842706 \\\\\n",
       "\t black                & 0.00255409013199004 \\\\\n",
       "\t D                    & 0                   \\\\\n",
       "\t black:D              & 0.662168305789016   \\\\\n",
       "\t h\\_sentscore1972    & 1.17084120176969e-12\\\\\n",
       "\t age                  & 5.18696197104873e-13\\\\\n",
       "\t I(age\\textasciicircum{}2)        & 1.2741674382255e-10              \\\\\n",
       "\\end{tabular}\n"
      ],
      "text/markdown": [
       "\n",
       "names |  | \n",
       "|---|---|---|---|---|---|---|\n",
       "| (Intercept)          | 0.00447280228842706  | \n",
       "| black                | 0.00255409013199004  | \n",
       "| D                    | 0                    | \n",
       "| black:D              | 0.662168305789016    | \n",
       "| h_sentscore1972      | 1.17084120176969e-12 | \n",
       "| age                  | 5.18696197104873e-13 | \n",
       "| I(age^2)             | 1.2741674382255e-10  | \n",
       "\n",
       "\n"
      ],
      "text/plain": [
       "     names                               \n",
       "[1,] (Intercept)     0.00447280228842706 \n",
       "[2,] black           0.00255409013199004 \n",
       "[3,] D               0                   \n",
       "[4,] black:D         0.662168305789016   \n",
       "[5,] h_sentscore1972 1.17084120176969e-12\n",
       "[6,] age             5.18696197104873e-13\n",
       "[7,] I(age^2)        1.2741674382255e-10 "
      ]
     },
     "metadata": {},
     "output_type": "display_data"
    }
   ],
   "source": [
    "cbind(names, 2*(1 - pnorm(abs(t.stats))))"
   ]
  },
  {
   "cell_type": "markdown",
   "metadata": {},
   "source": [
    "### (v)"
   ]
  },
  {
   "cell_type": "code",
   "execution_count": 27,
   "metadata": {},
   "outputs": [
    {
     "data": {
      "text/html": [
       "<table>\n",
       "<tbody>\n",
       "\t<tr><td>0</td><td>1</td><td>0</td><td>0</td><td>0</td><td>0</td><td>0</td></tr>\n",
       "\t<tr><td>0</td><td>0</td><td>1</td><td>0</td><td>0</td><td>0</td><td>0</td></tr>\n",
       "\t<tr><td>0</td><td>0</td><td>0</td><td>1</td><td>0</td><td>0</td><td>0</td></tr>\n",
       "\t<tr><td>0</td><td>0</td><td>0</td><td>0</td><td>1</td><td>0</td><td>0</td></tr>\n",
       "\t<tr><td>0</td><td>0</td><td>0</td><td>0</td><td>0</td><td>1</td><td>0</td></tr>\n",
       "\t<tr><td>0</td><td>0</td><td>0</td><td>0</td><td>0</td><td>0</td><td>1</td></tr>\n",
       "</tbody>\n",
       "</table>\n"
      ],
      "text/latex": [
       "\\begin{tabular}{lllllll}\n",
       "\t 0 & 1 & 0 & 0 & 0 & 0 & 0\\\\\n",
       "\t 0 & 0 & 1 & 0 & 0 & 0 & 0\\\\\n",
       "\t 0 & 0 & 0 & 1 & 0 & 0 & 0\\\\\n",
       "\t 0 & 0 & 0 & 0 & 1 & 0 & 0\\\\\n",
       "\t 0 & 0 & 0 & 0 & 0 & 1 & 0\\\\\n",
       "\t 0 & 0 & 0 & 0 & 0 & 0 & 1\\\\\n",
       "\\end{tabular}\n"
      ],
      "text/markdown": [
       "\n",
       "| 0 | 1 | 0 | 0 | 0 | 0 | 0 | \n",
       "| 0 | 0 | 1 | 0 | 0 | 0 | 0 | \n",
       "| 0 | 0 | 0 | 1 | 0 | 0 | 0 | \n",
       "| 0 | 0 | 0 | 0 | 1 | 0 | 0 | \n",
       "| 0 | 0 | 0 | 0 | 0 | 1 | 0 | \n",
       "| 0 | 0 | 0 | 0 | 0 | 0 | 1 | \n",
       "\n",
       "\n"
      ],
      "text/plain": [
       "     [,1] [,2] [,3] [,4] [,5] [,6] [,7]\n",
       "[1,] 0    1    0    0    0    0    0   \n",
       "[2,] 0    0    1    0    0    0    0   \n",
       "[3,] 0    0    0    1    0    0    0   \n",
       "[4,] 0    0    0    0    1    0    0   \n",
       "[5,] 0    0    0    0    0    1    0   \n",
       "[6,] 0    0    0    0    0    0    1   "
      ]
     },
     "metadata": {},
     "output_type": "display_data"
    }
   ],
   "source": [
    "R = diag(K+1)[1:K+1,]\n",
    "R"
   ]
  },
  {
   "cell_type": "code",
   "execution_count": 28,
   "metadata": {},
   "outputs": [
    {
     "data": {
      "text/html": [
       "<ol class=list-inline>\n",
       "\t<li>51.0341125501918</li>\n",
       "\t<li>0</li>\n",
       "</ol>\n"
      ],
      "text/latex": [
       "\\begin{enumerate*}\n",
       "\\item 51.0341125501918\n",
       "\\item 0\n",
       "\\end{enumerate*}\n"
      ],
      "text/markdown": [
       "1. 51.0341125501918\n",
       "2. 0\n",
       "\n",
       "\n"
      ],
      "text/plain": [
       "[1] 51.03411  0.00000"
      ]
     },
     "metadata": {},
     "output_type": "display_data"
    }
   ],
   "source": [
    "q = dim(R)[1]\n",
    "f.stat = N*t(R%*%b.hat)%*%solve(R%*%V.hom%*%t(R))%*%(R%*%b.hat)/q\n",
    "p.val = 1 - pf(f.stat, df1=q, df2=N-K-1)\n",
    "c(f.stat, p.val)"
   ]
  },
  {
   "cell_type": "markdown",
   "metadata": {},
   "source": [
    "### (vi)"
   ]
  },
  {
   "cell_type": "code",
   "execution_count": 29,
   "metadata": {},
   "outputs": [
    {
     "data": {
      "text/html": [
       "0.173368737826406"
      ],
      "text/latex": [
       "0.173368737826406"
      ],
      "text/markdown": [
       "0.173368737826406"
      ],
      "text/plain": [
       "[1] 0.1733687"
      ]
     },
     "metadata": {},
     "output_type": "display_data"
    }
   ],
   "source": [
    "R2 = 1 - sum(U.hat^2)/sum((Y - mean(Y))^2)\n",
    "R2"
   ]
  },
  {
   "cell_type": "code",
   "execution_count": 30,
   "metadata": {},
   "outputs": [
    {
     "data": {
      "text/html": [
       "51.0341125499713"
      ],
      "text/latex": [
       "51.0341125499713"
      ],
      "text/markdown": [
       "51.0341125499713"
      ],
      "text/plain": [
       "[1] 51.03411"
      ]
     },
     "metadata": {},
     "output_type": "display_data"
    }
   ],
   "source": [
    "f.stat = ((R2)/(1-R2))*((N-K-1)/q)\n",
    "f.stat"
   ]
  },
  {
   "cell_type": "markdown",
   "metadata": {},
   "source": [
    "Therefore, $X$ explains about 17% of the variance in $Y$."
   ]
  },
  {
   "cell_type": "markdown",
   "metadata": {},
   "source": [
    "### (vii)"
   ]
  },
  {
   "cell_type": "code",
   "execution_count": 13,
   "metadata": {},
   "outputs": [
    {
     "name": "stderr",
     "output_type": "stream",
     "text": [
      "Loading required package: zoo\n",
      "\n",
      "Attaching package: ‘zoo’\n",
      "\n",
      "The following objects are masked from ‘package:base’:\n",
      "\n",
      "    as.Date, as.Date.numeric\n",
      "\n"
     ]
    },
    {
     "data": {
      "text/plain": [
       "\n",
       "t test of coefficients:\n",
       "\n",
       "                   Estimate  Std. Error t value  Pr(>|t|)    \n",
       "(Intercept)      0.69901472  0.26402833  2.6475  0.008196 ** \n",
       "black           -0.17571282  0.05766305 -3.0472  0.002351 ** \n",
       "D                0.35229772  0.03311715 10.6379 < 2.2e-16 ***\n",
       "h_sentscore1972  0.05468210  0.00807392  6.7727 1.827e-11 ***\n",
       "age              0.08626245  0.01296390  6.6541 4.021e-11 ***\n",
       "I(age^2)        -0.00092784  0.00016199 -5.7277 1.234e-08 ***\n",
       "black:D         -0.09948285  0.11755121 -0.8463  0.397528    \n",
       "---\n",
       "Signif. codes:  0 ‘***’ 0.001 ‘**’ 0.01 ‘*’ 0.05 ‘.’ 0.1 ‘ ’ 1\n"
      ]
     },
     "metadata": {},
     "output_type": "display_data"
    }
   ],
   "source": [
    "library(lmtest)\n",
    "library(sandwich)\n",
    "\n",
    "fit = lm(log(wage) ~ black + D + D:black + h_sentscore1972 + age + I(age^2), data=df.m)\n",
    "coeftest(fit, vcov=vcovHC(fit, type=\"HC\"))"
   ]
  },
  {
   "cell_type": "code",
   "execution_count": 15,
   "metadata": {},
   "outputs": [
    {
     "data": {
      "text/html": [
       "<table>\n",
       "<thead><tr><th scope=col>names</th><th scope=col>se</th></tr></thead>\n",
       "<tbody>\n",
       "\t<tr><td>(Intercept)         </td><td>0.264028329149603   </td></tr>\n",
       "\t<tr><td>black               </td><td>0.0576630511077317  </td></tr>\n",
       "\t<tr><td>D                   </td><td>0.0331171527407276  </td></tr>\n",
       "\t<tr><td>black:D             </td><td>0.117551208916448   </td></tr>\n",
       "\t<tr><td>h_sentscore1972     </td><td>0.00807392382088216 </td></tr>\n",
       "\t<tr><td>age                 </td><td>0.012963899819327   </td></tr>\n",
       "\t<tr><td>I(age^2)            </td><td>0.000161992645432781</td></tr>\n",
       "</tbody>\n",
       "</table>\n"
      ],
      "text/latex": [
       "\\begin{tabular}{ll}\n",
       " names & se\\\\\n",
       "\\hline\n",
       "\t (Intercept)          & 0.264028329149603   \\\\\n",
       "\t black                & 0.0576630511077317  \\\\\n",
       "\t D                    & 0.0331171527407276  \\\\\n",
       "\t black:D              & 0.117551208916448   \\\\\n",
       "\t h\\_sentscore1972    & 0.00807392382088216 \\\\\n",
       "\t age                  & 0.012963899819327   \\\\\n",
       "\t I(age\\textasciicircum{}2)        & 0.000161992645432781             \\\\\n",
       "\\end{tabular}\n"
      ],
      "text/markdown": [
       "\n",
       "names | se | \n",
       "|---|---|---|---|---|---|---|\n",
       "| (Intercept)          | 0.264028329149603    | \n",
       "| black                | 0.0576630511077317   | \n",
       "| D                    | 0.0331171527407276   | \n",
       "| black:D              | 0.117551208916448    | \n",
       "| h_sentscore1972      | 0.00807392382088216  | \n",
       "| age                  | 0.012963899819327    | \n",
       "| I(age^2)             | 0.000161992645432781 | \n",
       "\n",
       "\n"
      ],
      "text/plain": [
       "     names           se                  \n",
       "[1,] (Intercept)     0.264028329149603   \n",
       "[2,] black           0.0576630511077317  \n",
       "[3,] D               0.0331171527407276  \n",
       "[4,] black:D         0.117551208916448   \n",
       "[5,] h_sentscore1972 0.00807392382088216 \n",
       "[6,] age             0.012963899819327   \n",
       "[7,] I(age^2)        0.000161992645432781"
      ]
     },
     "metadata": {},
     "output_type": "display_data"
    }
   ],
   "source": [
    "se = sqrt(diag(V)/N)\n",
    "cbind(names, se)"
   ]
  },
  {
   "cell_type": "code",
   "execution_count": 17,
   "metadata": {},
   "outputs": [
    {
     "data": {
      "text/html": [
       "<table>\n",
       "<thead><tr><th scope=col>names</th><th scope=col></th></tr></thead>\n",
       "<tbody>\n",
       "\t<tr><td>(Intercept)       </td><td>2.64749893899754  </td></tr>\n",
       "\t<tr><td>black             </td><td>-3.04723420877914 </td></tr>\n",
       "\t<tr><td>D                 </td><td>10.6379231061911  </td></tr>\n",
       "\t<tr><td>black:D           </td><td>-0.846293711950937</td></tr>\n",
       "\t<tr><td>h_sentscore1972   </td><td>6.77267950843482  </td></tr>\n",
       "\t<tr><td>age               </td><td>6.65405109696742  </td></tr>\n",
       "\t<tr><td>I(age^2)          </td><td>-5.72768462777476 </td></tr>\n",
       "</tbody>\n",
       "</table>\n"
      ],
      "text/latex": [
       "\\begin{tabular}{ll}\n",
       " names & \\\\\n",
       "\\hline\n",
       "\t (Intercept)        & 2.64749893899754  \\\\\n",
       "\t black              & -3.04723420877914 \\\\\n",
       "\t D                  & 10.6379231061911  \\\\\n",
       "\t black:D            & -0.846293711950937\\\\\n",
       "\t h\\_sentscore1972  & 6.77267950843482  \\\\\n",
       "\t age                & 6.65405109696742  \\\\\n",
       "\t I(age\\textasciicircum{}2)        & -5.72768462777476                \\\\\n",
       "\\end{tabular}\n"
      ],
      "text/markdown": [
       "\n",
       "names |  | \n",
       "|---|---|---|---|---|---|---|\n",
       "| (Intercept)        | 2.64749893899754   | \n",
       "| black              | -3.04723420877914  | \n",
       "| D                  | 10.6379231061911   | \n",
       "| black:D            | -0.846293711950937 | \n",
       "| h_sentscore1972    | 6.77267950843482   | \n",
       "| age                | 6.65405109696742   | \n",
       "| I(age^2)           | -5.72768462777476  | \n",
       "\n",
       "\n"
      ],
      "text/plain": [
       "     names                             \n",
       "[1,] (Intercept)     2.64749893899754  \n",
       "[2,] black           -3.04723420877914 \n",
       "[3,] D               10.6379231061911  \n",
       "[4,] black:D         -0.846293711950937\n",
       "[5,] h_sentscore1972 6.77267950843482  \n",
       "[6,] age             6.65405109696742  \n",
       "[7,] I(age^2)        -5.72768462777476 "
      ]
     },
     "metadata": {},
     "output_type": "display_data"
    }
   ],
   "source": [
    "t.stats = b.hat/se\n",
    "cbind(names, t.stats)"
   ]
  },
  {
   "cell_type": "code",
   "execution_count": 19,
   "metadata": {},
   "outputs": [
    {
     "data": {
      "text/html": [
       "<table>\n",
       "<thead><tr><th scope=col>names</th><th scope=col></th></tr></thead>\n",
       "<tbody>\n",
       "\t<tr><td>(Intercept)         </td><td>0.00819624261973972 </td></tr>\n",
       "\t<tr><td>black               </td><td>0.00235101643142999 </td></tr>\n",
       "\t<tr><td>D                   </td><td>0                   </td></tr>\n",
       "\t<tr><td>black:D             </td><td>0.397527600090964   </td></tr>\n",
       "\t<tr><td>h_sentscore1972     </td><td>1.82693860040217e-11</td></tr>\n",
       "\t<tr><td>age                 </td><td>4.02140543087626e-11</td></tr>\n",
       "\t<tr><td>I(age^2)            </td><td>1.23428662845981e-08</td></tr>\n",
       "</tbody>\n",
       "</table>\n"
      ],
      "text/latex": [
       "\\begin{tabular}{ll}\n",
       " names & \\\\\n",
       "\\hline\n",
       "\t (Intercept)          & 0.00819624261973972 \\\\\n",
       "\t black                & 0.00235101643142999 \\\\\n",
       "\t D                    & 0                   \\\\\n",
       "\t black:D              & 0.397527600090964   \\\\\n",
       "\t h\\_sentscore1972    & 1.82693860040217e-11\\\\\n",
       "\t age                  & 4.02140543087626e-11\\\\\n",
       "\t I(age\\textasciicircum{}2)        & 1.23428662845981e-08             \\\\\n",
       "\\end{tabular}\n"
      ],
      "text/markdown": [
       "\n",
       "names |  | \n",
       "|---|---|---|---|---|---|---|\n",
       "| (Intercept)          | 0.00819624261973972  | \n",
       "| black                | 0.00235101643142999  | \n",
       "| D                    | 0                    | \n",
       "| black:D              | 0.397527600090964    | \n",
       "| h_sentscore1972      | 1.82693860040217e-11 | \n",
       "| age                  | 4.02140543087626e-11 | \n",
       "| I(age^2)             | 1.23428662845981e-08 | \n",
       "\n",
       "\n"
      ],
      "text/plain": [
       "     names                               \n",
       "[1,] (Intercept)     0.00819624261973972 \n",
       "[2,] black           0.00235101643142999 \n",
       "[3,] D               0                   \n",
       "[4,] black:D         0.397527600090964   \n",
       "[5,] h_sentscore1972 1.82693860040217e-11\n",
       "[6,] age             4.02140543087626e-11\n",
       "[7,] I(age^2)        1.23428662845981e-08"
      ]
     },
     "metadata": {},
     "output_type": "display_data"
    }
   ],
   "source": [
    "p.vals = 2*(1 - pt(abs(t.stats), df=N-K-1))\n",
    "cbind(names, p.vals)"
   ]
  },
  {
   "cell_type": "code",
   "execution_count": 31,
   "metadata": {},
   "outputs": [
    {
     "data": {
      "text/html": [
       "<ol class=list-inline>\n",
       "\t<li>53.3838582964647</li>\n",
       "\t<li>0</li>\n",
       "</ol>\n"
      ],
      "text/latex": [
       "\\begin{enumerate*}\n",
       "\\item 53.3838582964647\n",
       "\\item 0\n",
       "\\end{enumerate*}\n"
      ],
      "text/markdown": [
       "1. 53.3838582964647\n",
       "2. 0\n",
       "\n",
       "\n"
      ],
      "text/plain": [
       "[1] 53.38386  0.00000"
      ]
     },
     "metadata": {},
     "output_type": "display_data"
    }
   ],
   "source": [
    "f.stat = N*t(R%*%b.hat)%*%solve(R%*%V%*%t(R))%*%(R%*%b.hat)/q\n",
    "p.val = 1 - pf(f.stat, df1=q, df2=N-K-1)\n",
    "c(f.stat, p.val)"
   ]
  },
  {
   "cell_type": "markdown",
   "metadata": {},
   "source": [
    "## (c)\n",
    "The null hypothesis is $H_0:\\beta_k=0$. Because by assuming $E[X\\epsilon]=0$, we have that $\\beta=\\gamma$, i.e., regression identifies $\\gamma$. Therefore, any hypothesis on $\\beta$ is the same as a hypothesis on $\\gamma$."
   ]
  },
  {
   "cell_type": "markdown",
   "metadata": {},
   "source": [
    "## (d)\n",
    "We fail to reject the null that $\\gamma_{1,d}=0$. Thus, it appears that the returns are statistically equal. But we may fear that we have too small a sample of black people, therefore leading to imprecision in our estimate of $\\gamma_{1,d}$."
   ]
  }
 ],
 "metadata": {
  "kernelspec": {
   "display_name": "R",
   "language": "R",
   "name": "ir"
  },
  "language_info": {
   "codemirror_mode": "r",
   "file_extension": ".r",
   "mimetype": "text/x-r-source",
   "name": "R",
   "pygments_lexer": "r",
   "version": "3.2.3"
  }
 },
 "nbformat": 4,
 "nbformat_minor": 2
}
