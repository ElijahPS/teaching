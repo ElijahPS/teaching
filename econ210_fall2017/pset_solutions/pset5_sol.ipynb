{
 "cells": [
  {
   "cell_type": "markdown",
   "metadata": {},
   "source": [
    "# Exercise 1: Theory and Simulation for Multivariate Regression\n",
    "## (a)\n",
    "$$\n",
    "E[Y] = E[\\beta_0 + \\beta_1X_2 + \\beta_2X_2 + U] = \\beta_0 + \\beta_1E[X_1] + \\beta_2E[X_2] = 4 + 2*1 + 1*2 = 8\n",
    "$$"
   ]
  },
  {
   "cell_type": "code",
   "execution_count": 1,
   "metadata": {
    "collapsed": true
   },
   "outputs": [],
   "source": [
    "library(MASS)\n",
    "N = 1000\n",
    "set.seed(210)\n",
    "b0 = 4\n",
    "b1 = 2\n",
    "b2 = 1\n",
    "\n",
    "X1.X2 = mvrnorm(N, mu=c(1, 2), Sigma=cbind(c(1, 1), c(1, 4)))\n",
    "X1 = X1.X2[,1]\n",
    "X2 = X1.X2[,2]\n",
    "\n",
    "U = rnorm(N, mean=0, sd=2)\n",
    "\n",
    "Y = b0 + b1*X1 + b2*X2 + U"
   ]
  },
  {
   "cell_type": "code",
   "execution_count": 2,
   "metadata": {},
   "outputs": [
    {
     "data": {
      "text/html": [
       "7.82126510840697"
      ],
      "text/latex": [
       "7.82126510840697"
      ],
      "text/markdown": [
       "7.82126510840697"
      ],
      "text/plain": [
       "[1] 7.821265"
      ]
     },
     "metadata": {},
     "output_type": "display_data"
    }
   ],
   "source": [
    "mean(Y)"
   ]
  },
  {
   "cell_type": "markdown",
   "metadata": {},
   "source": [
    "So that our sample mean is as expected, close to its population counterpart."
   ]
  },
  {
   "cell_type": "markdown",
   "metadata": {},
   "source": [
    "## (b)"
   ]
  },
  {
   "cell_type": "code",
   "execution_count": 3,
   "metadata": {},
   "outputs": [
    {
     "data": {
      "text/html": [
       "<ol class=list-inline>\n",
       "\t<li>3.90268278557711</li>\n",
       "\t<li>2.10454069849628</li>\n",
       "\t<li>1.00639398546523</li>\n",
       "</ol>\n"
      ],
      "text/latex": [
       "\\begin{enumerate*}\n",
       "\\item 3.90268278557711\n",
       "\\item 2.10454069849628\n",
       "\\item 1.00639398546523\n",
       "\\end{enumerate*}\n"
      ],
      "text/markdown": [
       "1. 3.90268278557711\n",
       "2. 2.10454069849628\n",
       "3. 1.00639398546523\n",
       "\n",
       "\n"
      ],
      "text/plain": [
       "[1] 3.902683 2.104541 1.006394"
      ]
     },
     "metadata": {},
     "output_type": "display_data"
    }
   ],
   "source": [
    "# A function to do regression\n",
    "reg = function(Y,X) {solve(t(X)%*%X)%*%t(X)%*%Y}\n",
    "\n",
    "# A regression to form residuals of a regression\n",
    "res = function(Y,X) {Y - X%*%reg(Y,X)}\n",
    "\n",
    "# Residuals from regression on X2\n",
    "X1.t2 = res(X1, cbind(rep(1,N), X2))\n",
    "Y.t2 = res(Y, cbind(rep(1,N), X2))\n",
    "\n",
    "b1 = cov(Y.t2, X1.t2)/var(X1.t2)\n",
    "\n",
    "# Residuals from a regression on X1\n",
    "X2.t1 = res(X2, cbind(rep(1,N), X1))\n",
    "Y.t1 = res(Y, cbind(rep(1,N), X1))\n",
    "\n",
    "b2 = cov(Y.t1, X2.t1)/var(X2.t1)\n",
    "\n",
    "b0 = mean(Y) - b1*mean(X1) - b2*mean(X2)\n",
    "\n",
    "c(b0, b1, b2)"
   ]
  },
  {
   "cell_type": "markdown",
   "metadata": {},
   "source": [
    "And we obtain estimates very close to the population counterparts."
   ]
  },
  {
   "cell_type": "markdown",
   "metadata": {},
   "source": [
    "## (c)"
   ]
  },
  {
   "cell_type": "code",
   "execution_count": 4,
   "metadata": {},
   "outputs": [
    {
     "data": {
      "text/html": [
       "<ol class=list-inline>\n",
       "\t<li>3.90268278557713</li>\n",
       "\t<li>2.10454069849627</li>\n",
       "\t<li>1.00639398546523</li>\n",
       "</ol>\n"
      ],
      "text/latex": [
       "\\begin{enumerate*}\n",
       "\\item 3.90268278557713\n",
       "\\item 2.10454069849627\n",
       "\\item 1.00639398546523\n",
       "\\end{enumerate*}\n"
      ],
      "text/markdown": [
       "1. 3.90268278557713\n",
       "2. 2.10454069849627\n",
       "3. 1.00639398546523\n",
       "\n",
       "\n"
      ],
      "text/plain": [
       "[1] 3.902683 2.104541 1.006394"
      ]
     },
     "metadata": {},
     "output_type": "display_data"
    }
   ],
   "source": [
    "b = reg(Y, cbind(rep(1,N), X1, X2))\n",
    "c(b)"
   ]
  },
  {
   "cell_type": "markdown",
   "metadata": {},
   "source": [
    "And we obtain identical numerical estimates."
   ]
  },
  {
   "cell_type": "markdown",
   "metadata": {},
   "source": [
    "## (d)\n",
    "We know from univariate regression that\n",
    "\n",
    "$$\n",
    "\\alpha_1 = \\frac{Cov[Y,X_1]}{Var[X_1]}.\n",
    "$$\n",
    "\n",
    "So let's continue to work this out.\n",
    "\n",
    "$$\n",
    "= \\frac{Cov[\\beta_0 + \\beta_1X_1 + \\beta_2X_2 + (Y - BLP(Y|X_1,X_2)), X_1]}{Var[X_1]} \n",
    "$$\n",
    "\n",
    "$$\n",
    "= \\beta_1 + \\beta_2\\frac{Cov[X_2,X_1]}{Var[X_1]} + \\frac{Cov[Y - BLP(Y|X_1,X_2), X_1]}{Var[X_1]}\n",
    "$$\n",
    "\n",
    "where since $Cov[Y - BLP(Y|X_1,X_2), X_1] = E[(Y - BLP(Y|X_1,X_2))X_1] = 0$ by properties of BLP,\n",
    "\n",
    "$$\n",
    "= \\beta_1 + \\beta_2\\frac{Cov[X_2,X_1]}{Var[X_1]},\n",
    "$$\n",
    "\n",
    "so that $\\alpha_1\\neq\\beta_1$ unless after controlling for $X_1$, $X_2$ is uncorrelated with $Y$, i.e., $\\beta_2=0$ or that $X_1$ is uncorrelated with $X_2$, i.e., $Cov[X_2,X_1]=0$. In our case $Cov[X_1,X_2] = 1$, $\\beta_2=1$ and $Var[X_1] = 1$, so that $\\alpha_1 = 2 + 1 = 3$."
   ]
  },
  {
   "cell_type": "code",
   "execution_count": 5,
   "metadata": {},
   "outputs": [
    {
     "data": {
      "text/html": [
       "3.13334429628409"
      ],
      "text/latex": [
       "3.13334429628409"
      ],
      "text/markdown": [
       "3.13334429628409"
      ],
      "text/plain": [
       "[1] 3.133344"
      ]
     },
     "metadata": {},
     "output_type": "display_data"
    }
   ],
   "source": [
    "a1 = cov(Y, X1)/var(X1)\n",
    "a1"
   ]
  },
  {
   "cell_type": "markdown",
   "metadata": {},
   "source": [
    "# Exercise 2: Gender Wage Gaps"
   ]
  },
  {
   "cell_type": "code",
   "execution_count": 6,
   "metadata": {
    "collapsed": true
   },
   "outputs": [],
   "source": [
    "url = \"https://raw.githubusercontent.com/jtorcasso/teaching/master/econ210_fall2017/data/psid_1980.csv\"\n",
    "df = read.csv(url)\n",
    "\n",
    "# Generating wage and log wage data\n",
    "df$wage =  ifelse(df$inc_labor==0 | df$hours==0, NaN, df$inc_labor/df$hours)\n",
    "df$logwage = log(df$wage)\n",
    "\n",
    "# Generating works variable\n",
    "df$works = ifelse(df$hours > 200, 1, 0)"
   ]
  },
  {
   "cell_type": "markdown",
   "metadata": {},
   "source": [
    "## (a)"
   ]
  },
  {
   "cell_type": "code",
   "execution_count": 7,
   "metadata": {},
   "outputs": [
    {
     "data": {
      "text/html": [
       "<table>\n",
       "<thead><tr><th scope=col>male</th><th scope=col>wage</th></tr></thead>\n",
       "<tbody>\n",
       "\t<tr><td>0       </td><td>16.42977</td></tr>\n",
       "\t<tr><td>1       </td><td>28.10706</td></tr>\n",
       "</tbody>\n",
       "</table>\n"
      ],
      "text/latex": [
       "\\begin{tabular}{r|ll}\n",
       " male & wage\\\\\n",
       "\\hline\n",
       "\t 0        & 16.42977\\\\\n",
       "\t 1        & 28.10706\\\\\n",
       "\\end{tabular}\n"
      ],
      "text/markdown": [
       "\n",
       "male | wage | \n",
       "|---|---|\n",
       "| 0        | 16.42977 | \n",
       "| 1        | 28.10706 | \n",
       "\n",
       "\n"
      ],
      "text/plain": [
       "  male wage    \n",
       "1 0    16.42977\n",
       "2 1    28.10706"
      ]
     },
     "metadata": {},
     "output_type": "display_data"
    }
   ],
   "source": [
    "means = aggregate(wage ~ male, data=df, mean, na.rm=T)\n",
    "means"
   ]
  },
  {
   "cell_type": "code",
   "execution_count": 8,
   "metadata": {},
   "outputs": [
    {
     "data": {
      "text/html": [
       "11.6772950870862"
      ],
      "text/latex": [
       "11.6772950870862"
      ],
      "text/markdown": [
       "11.6772950870862"
      ],
      "text/plain": [
       "[1] 11.6773"
      ]
     },
     "metadata": {},
     "output_type": "display_data"
    }
   ],
   "source": [
    "diff = means$wage[2] - means$wage[1]\n",
    "diff"
   ]
  },
  {
   "cell_type": "markdown",
   "metadata": {},
   "source": [
    "## (b)"
   ]
  },
  {
   "cell_type": "code",
   "execution_count": 9,
   "metadata": {},
   "outputs": [
    {
     "data": {
      "text/html": [
       "<table>\n",
       "<tbody>\n",
       "\t<tr><td>16.42977</td></tr>\n",
       "\t<tr><td>11.67730</td></tr>\n",
       "</tbody>\n",
       "</table>\n"
      ],
      "text/latex": [
       "\\begin{tabular}{l}\n",
       "\t 16.42977\\\\\n",
       "\t 11.67730\\\\\n",
       "\\end{tabular}\n"
      ],
      "text/markdown": [
       "\n",
       "| 16.42977 | \n",
       "| 11.67730 | \n",
       "\n",
       "\n"
      ],
      "text/plain": [
       "     [,1]    \n",
       "[1,] 16.42977\n",
       "[2,] 11.67730"
      ]
     },
     "metadata": {},
     "output_type": "display_data"
    }
   ],
   "source": [
    "df.cc = na.omit(df) # complete cases\n",
    "N = dim(df.cc)[1]\n",
    "\n",
    "Y = df.cc$wage\n",
    "X = cbind(rep(1, N), df.cc$male)\n",
    "\n",
    "b = reg(Y, X)\n",
    "b"
   ]
  },
  {
   "cell_type": "markdown",
   "metadata": {},
   "source": [
    "Wow, it appears that the OLS estimates of a regression of wages on a male indicator give the mean wages of females as an estimate for $\\beta_0$, the intercept parameter, and the mean difference between males and females as an estimate for $\\beta_1$, the slope parameter."
   ]
  },
  {
   "cell_type": "markdown",
   "metadata": {},
   "source": [
    "## (c)\n",
    "First consider the slope parameter $\\beta_1$. Because this is the univariate regression case, \n",
    "$$\n",
    "\\beta_1 = \\frac{Cov[W,D]}{Var[D]} = \\frac{E[WD] - E[W]E[D]}{E[D^2] - E[D]^2}\n",
    "$$\n",
    "then use Law of Iterated Expectations to show $E[WD]=E[W\\cdot 1|D=1]P(D=1) + E[W\\cdot 0|D=0]P(D=0) = E[W|D=1]P(D=1)$ and $E[W] = E[W|D=1]P(D=1) + E[W|D=0]P(D=0)$ and note that $E[D]=P(D=1)$ and $E[D^2]=E[D]$,\n",
    "and $P(D=0) = 1 - P(D=1)$, so that\n",
    "$$\n",
    "\\beta_1 = \\frac{E[W|D=1]P(D=1) - [E[W|D=1]P(D=1) + E[W|D=0]P(D=0)]P(D=1)}{P(D=1)[1-P(D=1)]}\n",
    "$$\n",
    "$$\n",
    "= \\frac{E[W|D=1][P(D=1) - P(D=1)^2] - E[W|D=0]P(D=0)P(D=1)}{P(D=1)[1-P(D=1)]}\n",
    "$$\n",
    "$$\n",
    "= \\frac{E[W|D=1]P(D=1)[1 - P(D=1)] - E[W|D=0]P(D=1)[1-P(D=1)]}{P(D=1)[1-P(D=1)]}\n",
    "$$\n",
    "$$\n",
    "= E[W|D=1] - E[W|D=0].\n",
    "$$\n",
    "\n",
    "Next, since $\\beta_0=E[W] - \\beta_1E[D]$ we have\n",
    "$$\n",
    "\\beta_0 = E[W|D=1]P(D=1) + E[W|D=0]P(D=0) - \\bigg(E[W|D=1] - E[W|D=0]\\bigg)P(D=1)\n",
    "$$\n",
    "$$\n",
    "= E[W|D=0]P(D=0) + E[W|D=0]P(D=1)\n",
    "$$\n",
    "$$\n",
    "= E[W|D=0]P(D=0) + E[W|D=0][1 - P(D=0)] = E[W|D=0]\n",
    "$$"
   ]
  },
  {
   "cell_type": "markdown",
   "metadata": {},
   "source": [
    "## (d)\n",
    "Because sample means are sums and the population expectations are sums (or integrals), the intuition of the proof from part (c) carries through for the OLS estimates since\n",
    "$$\n",
    "\\hat{\\beta}_1 = \\frac{\\hat{\\sigma}_{WD}}{\\hat{\\sigma}_D^2} = \\frac{\\frac{1}{N}\\sum_{i=1}^NW_iD_i - \\bar{W}_N\\bar{D}_N}{\\frac{1}{N}\\sum_{i=1}D_i^2 - \\bar{D}_N^2}\n",
    "$$\n",
    "and\n",
    "$$\n",
    "\\hat{\\beta}_0 = \\bar{W}_N - \\hat{\\beta}_1\\bar{D}_N\n",
    "$$\n",
    "are just functions of sample means analagous to the population means in part (c)."
   ]
  },
  {
   "cell_type": "markdown",
   "metadata": {},
   "source": [
    "## (e)\n",
    "From class, we have that\n",
    "$$\n",
    "\\beta_1 = \\gamma_1 + \\gamma_2\\frac{Cov[S,D]}{Var[D]}\n",
    "$$\n",
    "and using our result from (c), this simplifies to\n",
    "$$\n",
    "\\beta_1 = \\gamma_1 + \\gamma_2\\bigg(E[S|D=1] - E[S|D=0]\\bigg)\n",
    "$$\n",
    "Looking at this expression, we first note that it is likely $\\gamma_2>0$, since more education should imply higher wages. Second, it is likely $E[S|D=1] - E[S|D=0] > 0$ since at this time (1980), men were still more educated than women. Therefore, it is likely that $\\beta_1 > \\gamma_1$. Let's see if this holds empirically. "
   ]
  },
  {
   "cell_type": "markdown",
   "metadata": {},
   "source": [
    "## (f)\n",
    "It is likely that part of the positive effect of captured by $\\beta_1$ is associated with women having less schooling. So once we control for schooling (or hold schooling fixed), the difference between male and female wages should be smaller."
   ]
  },
  {
   "cell_type": "markdown",
   "metadata": {},
   "source": [
    "## (g)"
   ]
  },
  {
   "cell_type": "code",
   "execution_count": 10,
   "metadata": {},
   "outputs": [
    {
     "data": {
      "text/html": [
       "11.9126791248213"
      ],
      "text/latex": [
       "11.9126791248213"
      ],
      "text/markdown": [
       "11.9126791248213"
      ],
      "text/plain": [
       "[1] 11.91268"
      ]
     },
     "metadata": {},
     "output_type": "display_data"
    }
   ],
   "source": [
    "X = cbind(rep(1, N), df.cc$male, df.cc$edu)\n",
    "g = reg(Y, X)\n",
    "g[2]"
   ]
  },
  {
   "cell_type": "markdown",
   "metadata": {},
   "source": [
    "My prediction was wrong! The wage gap appears to grow after controlling for education. Let's see if our assumption that males have more schooling was correct."
   ]
  },
  {
   "cell_type": "code",
   "execution_count": 11,
   "metadata": {},
   "outputs": [
    {
     "data": {
      "text/html": [
       "<table>\n",
       "<thead><tr><th scope=col>male</th><th scope=col>edu</th></tr></thead>\n",
       "<tbody>\n",
       "\t<tr><td>0       </td><td>13.39966</td></tr>\n",
       "\t<tr><td>1       </td><td>13.23971</td></tr>\n",
       "</tbody>\n",
       "</table>\n"
      ],
      "text/latex": [
       "\\begin{tabular}{r|ll}\n",
       " male & edu\\\\\n",
       "\\hline\n",
       "\t 0        & 13.39966\\\\\n",
       "\t 1        & 13.23971\\\\\n",
       "\\end{tabular}\n"
      ],
      "text/markdown": [
       "\n",
       "male | edu | \n",
       "|---|---|\n",
       "| 0        | 13.39966 | \n",
       "| 1        | 13.23971 | \n",
       "\n",
       "\n"
      ],
      "text/plain": [
       "  male edu     \n",
       "1 0    13.39966\n",
       "2 1    13.23971"
      ]
     },
     "metadata": {},
     "output_type": "display_data"
    }
   ],
   "source": [
    "aggregate(edu ~ male, data=df.cc, mean, na.rm=T)"
   ]
  },
  {
   "cell_type": "markdown",
   "metadata": {},
   "source": [
    "Apparently, women have more schooling? Thus, once we control for schooling, the wage gap (i.e., $\\gamma_1$) increases relative to $\\beta_1$, when we don't control for schooling. Why does this defy expectations? Because our sample already contains lots of selection. \n",
    "\n",
    "## (h)\n",
    "We are estimating the regression conditional on observing wages. But it is likely that in 1980, women that work (for which we observe wages) are very different from women that don't work. For instance, they are likely of higher ability and therefore, have more schooling. Let's see if sample means for all men and women (including those that don't work), conform to our expectations."
   ]
  },
  {
   "cell_type": "code",
   "execution_count": 12,
   "metadata": {},
   "outputs": [
    {
     "data": {
      "text/html": [
       "<table>\n",
       "<thead><tr><th scope=col>male</th><th scope=col>edu</th></tr></thead>\n",
       "<tbody>\n",
       "\t<tr><td>0       </td><td>13.06799</td></tr>\n",
       "\t<tr><td>1       </td><td>13.16766</td></tr>\n",
       "</tbody>\n",
       "</table>\n"
      ],
      "text/latex": [
       "\\begin{tabular}{r|ll}\n",
       " male & edu\\\\\n",
       "\\hline\n",
       "\t 0        & 13.06799\\\\\n",
       "\t 1        & 13.16766\\\\\n",
       "\\end{tabular}\n"
      ],
      "text/markdown": [
       "\n",
       "male | edu | \n",
       "|---|---|\n",
       "| 0        | 13.06799 | \n",
       "| 1        | 13.16766 | \n",
       "\n",
       "\n"
      ],
      "text/plain": [
       "  male edu     \n",
       "1 0    13.06799\n",
       "2 1    13.16766"
      ]
     },
     "metadata": {},
     "output_type": "display_data"
    }
   ],
   "source": [
    "aggregate(edu ~ male, data=df, mean)"
   ]
  },
  {
   "cell_type": "markdown",
   "metadata": {},
   "source": [
    "Indeed, males have more schooling when we don't select on just those people that are working. Thus, the selection is what is driving our result that $\\hat{\\beta}_1 < \\hat{\\gamma}_1$. More importantly, if we were able to observe wages for everyone, the wage gap would likely to be higher, since women that work are likely of higher ability (and therefore have higher wages) than women who choose not work.\n",
    "\n",
    "On the other hand, this could be completely wrong. It could be that women that don't work are of higher ability if they are able to match with higher ability husbands who can support a household with their income. But this argument is not consistent with the data saying that women not in the workforce have lower levels of schooling."
   ]
  }
 ],
 "metadata": {
  "kernelspec": {
   "display_name": "R",
   "language": "R",
   "name": "ir"
  },
  "language_info": {
   "codemirror_mode": "r",
   "file_extension": ".r",
   "mimetype": "text/x-r-source",
   "name": "R",
   "pygments_lexer": "r",
   "version": "3.2.3"
  }
 },
 "nbformat": 4,
 "nbformat_minor": 2
}
