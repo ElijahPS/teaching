{
 "cells": [
  {
   "cell_type": "markdown",
   "metadata": {},
   "source": [
    "# Exercise 1: Collinearity (by hand)\n",
    "## (a)\n",
    "The sample mean of $Y$ is $\\bar{Y}_N = (0 + 3 + 6)/3 = 3$ and for $X_1$, $\\bar{X}_N = (3 + 4 + 5)/3 = 4$. Therefore, the numerator is\n",
    "$$\n",
    "(0 - 3)(3 - 4) + (3 - 3)(4 - 4) + (6 - 3)(5 - 4) = 3 + 0 + 3 = 6\n",
    "$$\n",
    "and the denominator is\n",
    "$$\n",
    "(3 - 4)^2 + (4 - 4)^2 + (5 - 4)^2 = 1 + 0 + 1 = 2,\n",
    "$$\n",
    "so that $\\hat{\\beta}_1 = 6/2 = 3$. Then $\\hat{\\beta}_0 = 3 - (3)4 = -9$."
   ]
  },
  {
   "cell_type": "markdown",
   "metadata": {},
   "source": [
    "## (b)\n",
    "First lets obtain $\\boldsymbol{X}'\\boldsymbol{X}$, which is\n",
    "$$\n",
    "\\begin{pmatrix}\n",
    "1 & 1 & 1 \\\\ 3 & 4 & 5\n",
    "\\end{pmatrix}\n",
    "\\begin{pmatrix}\n",
    "1 & 3 \\\\ 1 & 4 \\\\ 1 & 5\n",
    "\\end{pmatrix} =\n",
    "\\begin{pmatrix}\n",
    "1\\cdot 1 + 1\\cdot 1 + 1\\cdot 1 & 1\\cdot 3 + 1\\cdot 4 + 1\\cdot 5 \\\\\n",
    "3\\cdot 1 + 4\\cdot 1 + 5\\cdot 1 & 3\\cdot 3 + 4\\cdot 4 + 5\\cdot 5\n",
    "\\end{pmatrix} = \n",
    "\\begin{pmatrix}\n",
    "3 & 12 \\\\\n",
    "12 & 50\n",
    "\\end{pmatrix}.\n",
    "$$\n",
    "Next, we take the inverse of this matrix using the formula for the inverse of a 2x2 matrix\n",
    "$$\n",
    "A = \\begin{pmatrix}\n",
    "a & b \\\\\n",
    "c & d\n",
    "\\end{pmatrix}\n",
    "$$\n",
    "where\n",
    "$$\n",
    "A^{-1} = \\frac{1}{ad - bc}\\begin{pmatrix}\n",
    "d & -b \\\\\n",
    "-c & a\n",
    "\\end{pmatrix},\n",
    "$$\n",
    "so that in our example\n",
    "$$\n",
    "(\\boldsymbol{X}'\\boldsymbol{X})^{-1} = \n",
    "\\frac{1}{150 - 144}\\begin{pmatrix}\n",
    "50 & -12 \\\\\n",
    "-12 & 3\n",
    "\\end{pmatrix} =\n",
    "\\begin{pmatrix}\n",
    "\\frac{25}{3} & -2 \\\\\n",
    "-2 & \\frac{1}{2}.\n",
    "\\end{pmatrix}\n",
    "$$\n",
    "Next we determine $\\boldsymbol{X}'\\boldsymbol{Y}$.\n",
    "$$\n",
    "\\boldsymbol{X}'\\boldsymbol{Y} = \\begin{pmatrix}\n",
    "1 & 1 & 1 \\\\ 3 & 4 & 5\n",
    "\\end{pmatrix}\n",
    "\\begin{pmatrix}\n",
    "0 \\\\ 3 \\\\ 6\n",
    "\\end{pmatrix} = \n",
    "\\begin{pmatrix}\n",
    "1\\cdot 0 + 1\\cdot 3 + 6\\cdot 1 \\\\\n",
    "3\\cdot 0 + 3\\cdot 4 + 5\\cdot 6\n",
    "\\end{pmatrix} = \n",
    "\\begin{pmatrix}\n",
    "9 \\\\ 42\n",
    "\\end{pmatrix}.\n",
    "$$\n",
    "Therefore,\n",
    "$$\n",
    "(\\boldsymbol{X}'\\boldsymbol{X})^{-1}\\boldsymbol{X}'\\boldsymbol{Y} = \n",
    "\\begin{pmatrix}\n",
    "\\frac{25}{3} & -2 \\\\\n",
    "-2 & \\frac{1}{2}\n",
    "\\end{pmatrix}\n",
    "\\begin{pmatrix}\n",
    "9 \\\\ 42\n",
    "\\end{pmatrix} = \n",
    "\\begin{pmatrix}\n",
    "-9 \\\\ 3\n",
    "\\end{pmatrix},\n",
    "$$\n",
    "and we obtain estimates identical to part (a). If you want, you can confirm the result in R."
   ]
  },
  {
   "cell_type": "code",
   "execution_count": 12,
   "metadata": {},
   "outputs": [
    {
     "data": {
      "text/html": [
       "<table>\n",
       "<tbody>\n",
       "\t<tr><td>-9</td></tr>\n",
       "\t<tr><td> 3</td></tr>\n",
       "</tbody>\n",
       "</table>\n"
      ],
      "text/latex": [
       "\\begin{tabular}{l}\n",
       "\t -9\\\\\n",
       "\t  3\\\\\n",
       "\\end{tabular}\n"
      ],
      "text/markdown": [
       "\n",
       "| -9 | \n",
       "|  3 | \n",
       "\n",
       "\n"
      ],
      "text/plain": [
       "     [,1]\n",
       "[1,] -9  \n",
       "[2,]  3  "
      ]
     },
     "metadata": {},
     "output_type": "display_data"
    }
   ],
   "source": [
    "X = cbind(rep(1, 3), c(3, 4, 5))\n",
    "Y = c(0, 3, 6)\n",
    "b = solve(t(X)%*%X)%*%t(X)%*%Y\n",
    "b"
   ]
  },
  {
   "cell_type": "markdown",
   "metadata": {},
   "source": [
    "## (c)\n",
    "We need to assume that $E[XX']$ is invertible, or equivalently, that there is no perfect collinearity in $X$. This means that $\\forall$ non-zero $c\\in\\boldsymbol{R}^2$, $P(X'c=0)<1$. In the $2\\times 2$ case, \n",
    "$$\n",
    "E[XX'] = \\begin{pmatrix}\n",
    "1 & E[X_1] \\\\\n",
    "E[X_1] & E[X_1^2]\n",
    "\\end{pmatrix}.\n",
    "$$\n",
    "A matrix is invertible if and only if it has a non-zero determinant. The determinant of $E[XX']$ is $E[X_1^2] - E[X_1]^2 = Var[X_1]$. If this is non-zero, and since $Var[X_1]\\geq 0$, then $Var[X_1]>0$. "
   ]
  },
  {
   "cell_type": "markdown",
   "metadata": {},
   "source": [
    "## (d)\n",
    "If the sample variance is really small the magnitudes of $\\hat{\\beta}_1$ and $\\hat{\\beta}_0$ are large. The sample counterpart to the conditions in (c) are that $\\boldsymbol{X}'\\boldsymbol{X}$ is invertible, or more simply, in this univariate cases, that the sample variance of $X_1$ is greater than 0. Thus, if there is ANY variance in our data, we can estimate $\\beta$. The idea about the magnitude of $\\hat{\\beta}_1$ and $\\hat{\\beta}_0$ exploding is that we essentially run into an identification problem. If there actually was no variation in $X_1$, i.e., $Var[X_1]=0$, then we are essentially trying to describe the mean of Y, $E[Y]$ using two constants, $\\beta_0$ and $\\beta_1$. But since there are an infinite number of possible $\\beta_0$ and $\\beta_1$ such that $\\beta_0 + \\beta_1 = E[Y]$, this can be reflected in the variance of our sample estimators $\\hat{\\beta}_0$ and $\\hat{\\beta}_1$ if the sample variance of $X_1$ is small."
   ]
  },
  {
   "cell_type": "markdown",
   "metadata": {},
   "source": [
    "## (e)\n",
    "It is obvious that $\\boldsymbol{X}$ is rank 2 because you cannot write $(1,1,1)'$ as a linear combination of $(3,4,5)'$. Suppose $\\exists c\\neq 0$ such that $c(1,1,1)'= (3,4,5)'$. Then $c=3$ and $c=4$, a contradiction. From part (b), we have that\n",
    "$$\n",
    "\\boldsymbol{X}'\\boldsymbol{X} = \\begin{pmatrix}\n",
    "3 & 12 \\\\\n",
    "12 & 50\n",
    "\\end{pmatrix}.\n",
    "$$\n",
    "One could use the same proof, on both the columns and rows, to show that there does not exist $c\\neq 0$, such that $c(3, 12)'= (12, 15)'$, so that the rows and columns are linearly independent, and therefore this matrix is of rank 2. The determinant is just $3\\cdot 50 - 12\\cdot 12 = 150 - 144 = 6\\neq 0$. To find the eigenvalues remember that an eigenvalue is defined as a $\\lambda$ such that $\\boldsymbol{X}'\\boldsymbol{X}v = \\lambda v$ for some non-zero $v$. This implies that $(I\\lambda - \\boldsymbol{X}'\\boldsymbol{X})v=0$, so that by solving for the $\\lambda$ in the expression $det(I\\lambda - \\boldsymbol{X}'\\boldsymbol{X})=0$, where $det$ denotes determinant, we can find our eigenvalues $\\lambda$. Writing this out we have\n",
    "$$\n",
    "det\\begin{pmatrix}\n",
    "\\lambda - 3 & -12 \\\\ -12 & \\lambda - 50\n",
    "\\end{pmatrix} = (\\lambda - 3)(\\lambda - 50) - 144 = 0\n",
    "$$\n",
    "so that $\\lambda^2 - 53\\lambda + 150 - 144 = 0$ for which we obtain solutions\n",
    "$$\n",
    "\\lambda = \\frac{53 \\pm \\sqrt{53^2 - 24}}{2},\n",
    "$$\n",
    "which we can find on our computer:"
   ]
  },
  {
   "cell_type": "code",
   "execution_count": 16,
   "metadata": {},
   "outputs": [
    {
     "data": {
      "text/html": [
       "<ol class=list-inline>\n",
       "\t<li>52.8865496039175</li>\n",
       "\t<li>0.113450396082477</li>\n",
       "</ol>\n"
      ],
      "text/latex": [
       "\\begin{enumerate*}\n",
       "\\item 52.8865496039175\n",
       "\\item 0.113450396082477\n",
       "\\end{enumerate*}\n"
      ],
      "text/markdown": [
       "1. 52.8865496039175\n",
       "2. 0.113450396082477\n",
       "\n",
       "\n"
      ],
      "text/plain": [
       "[1] 52.8865496  0.1134504"
      ]
     },
     "metadata": {},
     "output_type": "display_data"
    }
   ],
   "source": [
    "c((53 + sqrt(53^2 - 24))/2, (53 - sqrt(53^2 - 24))/2)"
   ]
  },
  {
   "cell_type": "markdown",
   "metadata": {},
   "source": [
    "Which we can confirm in R."
   ]
  },
  {
   "cell_type": "code",
   "execution_count": 17,
   "metadata": {},
   "outputs": [
    {
     "data": {
      "text/html": [
       "<ol class=list-inline>\n",
       "\t<li>52.8865496039175</li>\n",
       "\t<li>0.113450396082477</li>\n",
       "</ol>\n"
      ],
      "text/latex": [
       "\\begin{enumerate*}\n",
       "\\item 52.8865496039175\n",
       "\\item 0.113450396082477\n",
       "\\end{enumerate*}\n"
      ],
      "text/markdown": [
       "1. 52.8865496039175\n",
       "2. 0.113450396082477\n",
       "\n",
       "\n"
      ],
      "text/plain": [
       "[1] 52.8865496  0.1134504"
      ]
     },
     "metadata": {},
     "output_type": "display_data"
    }
   ],
   "source": [
    "eigen(t(X)%*%X)$values"
   ]
  },
  {
   "cell_type": "markdown",
   "metadata": {},
   "source": [
    "We can also confirm our result for the determinant."
   ]
  },
  {
   "cell_type": "code",
   "execution_count": 13,
   "metadata": {},
   "outputs": [
    {
     "data": {
      "text/html": [
       "6"
      ],
      "text/latex": [
       "6"
      ],
      "text/markdown": [
       "6"
      ],
      "text/plain": [
       "[1] 6"
      ]
     },
     "metadata": {},
     "output_type": "display_data"
    }
   ],
   "source": [
    "det(t(X)%*%X)"
   ]
  },
  {
   "cell_type": "markdown",
   "metadata": {},
   "source": [
    "Knowing that $\\boldsymbol{X}'\\boldsymbol{X}$ is invertible, or equivalently that the columns of $\\boldsymbol{X}$ are linearly independent means that each column has it's own information content separate from the other columns. As an example, we saw in class if we had $X=(1,X_1,X_2)'$ and $X_1$ was a male indicator and $X_2$ a female indicator, then $X$ will have the problem of perfect collinearity. This will translate into $\\boldsymbol{X}$ having columns that are linearly independent. And the reason is simple: knowing that someone is male is enough to know that they are not female, so using $X_2$ in addition to $X_1$ brings no more informational content."
   ]
  },
  {
   "cell_type": "markdown",
   "metadata": {},
   "source": [
    "# Exercise 2: Collinearity (by Computer)"
   ]
  },
  {
   "cell_type": "code",
   "execution_count": 27,
   "metadata": {},
   "outputs": [
    {
     "data": {
      "text/html": [
       "31.351980836561"
      ],
      "text/latex": [
       "31.351980836561"
      ],
      "text/markdown": [
       "31.351980836561"
      ],
      "text/plain": [
       "[1] 31.35198"
      ]
     },
     "metadata": {},
     "output_type": "display_data"
    }
   ],
   "source": [
    "N = 100\n",
    "set.seed(210)\n",
    "\n",
    "X1 = rnorm(N, mean=1, sd=15)\n",
    "X2 = X1 + rnorm(N, mean=0, sd=1)\n",
    "X = cbind(rep(1, N), X1, X2)\n",
    "norm.X = apply(X, 2, function(x){sqrt(sum(x^2))})\n",
    "X.n = sweep(X, 2, norm.X, \"/\")\n",
    "X.eig = eigen(t(X.n)%*%X.n)$values\n",
    "cond.no = sqrt(max(X.eig)/min(X.eig))\n",
    "cond.no"
   ]
  },
  {
   "cell_type": "markdown",
   "metadata": {},
   "source": [
    "We see that $\\gamma \\approx 31.4 > 20$, so our data exhibits multicollinearity."
   ]
  },
  {
   "cell_type": "markdown",
   "metadata": {
    "collapsed": true
   },
   "source": [
    "# Exercise 3: Theory and Simulation for Regression"
   ]
  },
  {
   "cell_type": "code",
   "execution_count": 11,
   "metadata": {
    "collapsed": true
   },
   "outputs": [],
   "source": [
    "set.seed(210)\n",
    "N = 1000 # sample size\n",
    "\n",
    "# Regression parameters\n",
    "b0 = -3\n",
    "b1 = 2\n",
    "\n",
    "U = rnorm(N, mean=0, sd=3)\n",
    "X1 = rnorm(N, mean=2, sd=2)\n",
    "\n",
    "Y = b0 + X1*b1 + U"
   ]
  },
  {
   "cell_type": "markdown",
   "metadata": {},
   "source": [
    "# (a)\n",
    "Let $X=(1,X_1)'$. In order to estimate $\\beta=(\\beta_0,\\beta_1)'$ by OLS, we must have that $E[XX']$ is invertible or equivalently, that $X$ has no perfect collinearity. Because $X$ contains $X_1$ and a constant, this is equivalent to $Var[X_1]>0$."
   ]
  },
  {
   "cell_type": "code",
   "execution_count": 12,
   "metadata": {},
   "outputs": [
    {
     "data": {
      "text/html": [
       "<ol class=list-inline>\n",
       "\t<li>-3.03916229754142</li>\n",
       "\t<li>1.97325974131421</li>\n",
       "</ol>\n"
      ],
      "text/latex": [
       "\\begin{enumerate*}\n",
       "\\item -3.03916229754142\n",
       "\\item 1.97325974131421\n",
       "\\end{enumerate*}\n"
      ],
      "text/markdown": [
       "1. -3.03916229754142\n",
       "2. 1.97325974131421\n",
       "\n",
       "\n"
      ],
      "text/plain": [
       "[1] -3.039162  1.973260"
      ]
     },
     "metadata": {},
     "output_type": "display_data"
    }
   ],
   "source": [
    "b1.hat = cov(Y,X1)/var(X1)\n",
    "b0.hat = mean(Y) - mean(X1)*b1.hat\n",
    "c(b0.hat, b1.hat)"
   ]
  },
  {
   "cell_type": "markdown",
   "metadata": {},
   "source": [
    "We obtain estimates very close to the truth."
   ]
  },
  {
   "cell_type": "markdown",
   "metadata": {},
   "source": [
    "## (b)\n",
    "The ith row represents the ith observation $X_i=(1,X_{1,i})'$. The OLS estimator in matrix notation is\n",
    "\n",
    "$$\n",
    "\\hat{\\beta}_N = (\\boldsymbol{X}'\\boldsymbol{X})^{-1}\\boldsymbol{X}'\\boldsymbol{Y},\n",
    "$$\n",
    "\n",
    "where $\\boldsymbol{X}$ is an $N\\times 2$ matrix and $\\boldsymbol{Y}$ is a $N\\times 1$ vector."
   ]
  },
  {
   "cell_type": "code",
   "execution_count": 13,
   "metadata": {},
   "outputs": [
    {
     "data": {
      "text/html": [
       "<ol class=list-inline>\n",
       "\t<li>-3.03916229754142</li>\n",
       "\t<li>1.97325974131421</li>\n",
       "</ol>\n"
      ],
      "text/latex": [
       "\\begin{enumerate*}\n",
       "\\item -3.03916229754142\n",
       "\\item 1.97325974131421\n",
       "\\end{enumerate*}\n"
      ],
      "text/markdown": [
       "1. -3.03916229754142\n",
       "2. 1.97325974131421\n",
       "\n",
       "\n"
      ],
      "text/plain": [
       "[1] -3.039162  1.973260"
      ]
     },
     "metadata": {},
     "output_type": "display_data"
    }
   ],
   "source": [
    "X = cbind(rep(1, N), X1)\n",
    "b.hat = solve(t(X)%*%X)%*%t(X)%*%Y\n",
    "c(b.hat)"
   ]
  },
  {
   "cell_type": "markdown",
   "metadata": {},
   "source": [
    "And we obtain estimates identical to those in part (a)."
   ]
  },
  {
   "cell_type": "markdown",
   "metadata": {},
   "source": [
    "# Exercise 4: A Regression of Your Choice"
   ]
  }
 ],
 "metadata": {
  "kernelspec": {
   "display_name": "R",
   "language": "R",
   "name": "ir"
  },
  "language_info": {
   "codemirror_mode": "r",
   "file_extension": ".r",
   "mimetype": "text/x-r-source",
   "name": "R",
   "pygments_lexer": "r",
   "version": "3.2.3"
  }
 },
 "nbformat": 4,
 "nbformat_minor": 2
}
