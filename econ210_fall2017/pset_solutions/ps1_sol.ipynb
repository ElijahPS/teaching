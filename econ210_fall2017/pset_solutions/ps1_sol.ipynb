{
 "cells": [
  {
   "cell_type": "markdown",
   "metadata": {},
   "source": [
    "# Exercise 1: Probability\n",
    "Before we begin, notice that there are a total of"
   ]
  },
  {
   "cell_type": "code",
   "execution_count": 7,
   "metadata": {},
   "outputs": [
    {
     "data": {
      "text/html": [
       "345"
      ],
      "text/latex": [
       "345"
      ],
      "text/markdown": [
       "345"
      ],
      "text/plain": [
       "[1] 345"
      ]
     },
     "metadata": {},
     "output_type": "display_data"
    }
   ],
   "source": [
    "65 + 100 + 110 + 70"
   ]
  },
  {
   "cell_type": "markdown",
   "metadata": {},
   "source": [
    "individuals."
   ]
  },
  {
   "cell_type": "markdown",
   "metadata": {
    "collapsed": true
   },
   "source": [
    "## (a)\n",
    "$P(M=0)=180/345=$ "
   ]
  },
  {
   "cell_type": "code",
   "execution_count": 4,
   "metadata": {},
   "outputs": [
    {
     "data": {
      "text/html": [
       "0.521739130434783"
      ],
      "text/latex": [
       "0.521739130434783"
      ],
      "text/markdown": [
       "0.521739130434783"
      ],
      "text/plain": [
       "[1] 0.5217391"
      ]
     },
     "metadata": {},
     "output_type": "display_data"
    }
   ],
   "source": [
    "180/345"
   ]
  },
  {
   "cell_type": "markdown",
   "metadata": {},
   "source": [
    "$P(M=1)=165/345=$"
   ]
  },
  {
   "cell_type": "code",
   "execution_count": 5,
   "metadata": {},
   "outputs": [
    {
     "data": {
      "text/html": [
       "0.478260869565217"
      ],
      "text/latex": [
       "0.478260869565217"
      ],
      "text/markdown": [
       "0.478260869565217"
      ],
      "text/plain": [
       "[1] 0.4782609"
      ]
     },
     "metadata": {},
     "output_type": "display_data"
    }
   ],
   "source": [
    "165/345"
   ]
  },
  {
   "cell_type": "markdown",
   "metadata": {},
   "source": [
    "## (b)\n",
    "$P(F=1,M=0) = 110/345 = $"
   ]
  },
  {
   "cell_type": "code",
   "execution_count": 6,
   "metadata": {},
   "outputs": [
    {
     "data": {
      "text/html": [
       "0.318840579710145"
      ],
      "text/latex": [
       "0.318840579710145"
      ],
      "text/markdown": [
       "0.318840579710145"
      ],
      "text/plain": [
       "[1] 0.3188406"
      ]
     },
     "metadata": {},
     "output_type": "display_data"
    }
   ],
   "source": [
    "110/345"
   ]
  },
  {
   "cell_type": "markdown",
   "metadata": {},
   "source": [
    "## (c)\n",
    "$P(F=0|M=0) = 70/180 = $"
   ]
  },
  {
   "cell_type": "code",
   "execution_count": 8,
   "metadata": {},
   "outputs": [
    {
     "data": {
      "text/html": [
       "0.388888888888889"
      ],
      "text/latex": [
       "0.388888888888889"
      ],
      "text/markdown": [
       "0.388888888888889"
      ],
      "text/plain": [
       "[1] 0.3888889"
      ]
     },
     "metadata": {},
     "output_type": "display_data"
    }
   ],
   "source": [
    "70/180"
   ]
  },
  {
   "cell_type": "markdown",
   "metadata": {},
   "source": [
    "Then,\n",
    "\n",
    "$$\n",
    "P(F=0,M=0)/P(M=0)= \\frac{70/345}{180/345} = 70/80\n",
    "$$\n",
    "\n",
    "which verifies the equivalence between the two expressions. Next consider, $P(F=0) = 170/345$. We also have that $P(F=0,M=1)=100/345$ and $P(F=0,M=0) = 70/345$, so that adding the two we get $170/345$. Finally we have that\n",
    "\n",
    "$$\n",
    "P(F=0|M=1)P(M=1) = (100/165)(165/345) = 100/345$\n",
    "$$\n",
    "\n",
    "and\n",
    "\n",
    "$$\n",
    "P(F=0|M=0)P(M=0) = (70/180)(180/345) = 70/345,\n",
    "$$\n",
    "\n",
    "so that adding the two we obtain $170/345$, thus verifying that all three expressions are equal.\n",
    "\n",
    "Finally, we verify Baye's rule. $P(F=0|M=0) = 70/180$. And\n",
    "\n",
    "$$\n",
    "\\frac{P(M=0|F=0)P(F=0)}{P(M=0)} = \\frac{(70/170)(170/345)}{180/345} = 70/180.\n",
    "$$"
   ]
  },
  {
   "cell_type": "markdown",
   "metadata": {},
   "source": [
    "## (d)\n",
    "We know the following: $P(F=1) = 0.5$, $P(F=1|M=0)=0.2$ and $P(M=1,F=0)=0.3$. We must now try to solve for the unknowns. \n",
    "\n",
    "First, notice that $0.5 = P(F=1) = P(F=1,M=1) + P(F=1,M=0) = a + b$. Next, notice that $c=P(M=0,F=0) = P(F=0) - P(M=1,F=0) = (1 - 0.5) - 0.3 = 0.2$. Thus, $P(M=0) = P(M=0,F=1) + P(M=0,F=0) = b + 0.2$. Then, by Baye's rule\n",
    "\n",
    "$$\n",
    "P(F=1|M=0) = \\frac{P(M=0|F=1)P(F=1)}{P(M=0)}\n",
    "$$\n",
    "\n",
    "so that\n",
    "\n",
    "$$\n",
    "b + 0.2 = P(M=0) = \\frac{P(M=0|F=1)P(F=1)}{P(F=1|M=0)} = \\frac{P(M=0|F=1)0.5}{0.2}\n",
    "$$\n",
    "\n",
    "and since $P(M=0|F=1) = 1 - P(M=1|F=1) = 1 - \\frac{P(M=1,F=1)}{P(F=1)} = 1 - a/0.5$ then we have\n",
    "\n",
    "$$\n",
    "b + 0.2 = \\frac{(1-a/0.5)0.5}{0.2} = \\frac{0.5 - a}{0.2},\n",
    "$$\n",
    "\n",
    "so that together with the fact that $a + b = 0.5$, we can solve for $a$ and $b$, obtaining\n",
    "\n",
    "$$\n",
    "(0.5 - a) + 0.2 = \\frac{0.5-a}{0.2}\n",
    "$$\n",
    "\n",
    "which implies $a=9/20$ and therefore $b=1/20$."
   ]
  },
  {
   "cell_type": "markdown",
   "metadata": {},
   "source": [
    "# Exercise 2: Data and Histograms\n",
    "## (a)\n",
    "\n",
    "If we layout the data in order we have"
   ]
  },
  {
   "cell_type": "code",
   "execution_count": 18,
   "metadata": {},
   "outputs": [
    {
     "data": {
      "text/html": [
       "<ol class=list-inline>\n",
       "\t<li>7</li>\n",
       "\t<li>8</li>\n",
       "\t<li>10</li>\n",
       "\t<li>15</li>\n",
       "\t<li>15</li>\n",
       "\t<li>16</li>\n",
       "\t<li>22</li>\n",
       "\t<li>28</li>\n",
       "\t<li>30</li>\n",
       "\t<li>32</li>\n",
       "\t<li>33</li>\n",
       "\t<li>34</li>\n",
       "\t<li>34</li>\n",
       "\t<li>40</li>\n",
       "\t<li>51</li>\n",
       "</ol>\n"
      ],
      "text/latex": [
       "\\begin{enumerate*}\n",
       "\\item 7\n",
       "\\item 8\n",
       "\\item 10\n",
       "\\item 15\n",
       "\\item 15\n",
       "\\item 16\n",
       "\\item 22\n",
       "\\item 28\n",
       "\\item 30\n",
       "\\item 32\n",
       "\\item 33\n",
       "\\item 34\n",
       "\\item 34\n",
       "\\item 40\n",
       "\\item 51\n",
       "\\end{enumerate*}\n"
      ],
      "text/markdown": [
       "1. 7\n",
       "2. 8\n",
       "3. 10\n",
       "4. 15\n",
       "5. 15\n",
       "6. 16\n",
       "7. 22\n",
       "8. 28\n",
       "9. 30\n",
       "10. 32\n",
       "11. 33\n",
       "12. 34\n",
       "13. 34\n",
       "14. 40\n",
       "15. 51\n",
       "\n",
       "\n"
      ],
      "text/plain": [
       " [1]  7  8 10 15 15 16 22 28 30 32 33 34 34 40 51"
      ]
     },
     "metadata": {},
     "output_type": "display_data"
    }
   ],
   "source": [
    "W = c(8, 10, 34, 51, 16, 30, 32, 34, 22, 40, 7, 15, 15, 28, 33)\n",
    "sort(W)"
   ]
  },
  {
   "cell_type": "markdown",
   "metadata": {},
   "source": [
    "So that the first bin will have 6 observations, the second bin 7, and the third bin 2. As a result, the densities are $6/15$, $7/15$ and $2/15$. We can plot the histogram using bar graph."
   ]
  },
  {
   "cell_type": "code",
   "execution_count": 19,
   "metadata": {},
   "outputs": [
    {
     "data": {
      "image/png": "[encoded data removed]",
      "text/plain": [
       "plot without title"
      ]
     },
     "metadata": {},
     "output_type": "display_data"
    }
   ],
   "source": [
    "dens = c(6/15, 7/15, 2/15)\n",
    "barplot(dens)"
   ]
  },
  {
   "cell_type": "markdown",
   "metadata": {},
   "source": [
    "## (b)\n",
    "Recall that the sample variance is\n",
    "\n",
    "$$\n",
    "\\frac{1}{N}\\sum_{i=1}^N(W_i - \\bar{W}_N)^2\n",
    "$$\n",
    "\n",
    "where $\\bar{W}_N$ is the sample mean, $W_i$ denotes the wage of observation $i$ and $N$ is the sample size. Note that sometimes the sample variance is define with an $N-1$ in the denominator rather than $N$, don't worry about this now. The sample mean is"
   ]
  },
  {
   "cell_type": "code",
   "execution_count": 20,
   "metadata": {},
   "outputs": [
    {
     "data": {
      "text/html": [
       "25"
      ],
      "text/latex": [
       "25"
      ],
      "text/markdown": [
       "25"
      ],
      "text/plain": [
       "[1] 25"
      ]
     },
     "metadata": {},
     "output_type": "display_data"
    }
   ],
   "source": [
    "mean(W)"
   ]
  },
  {
   "cell_type": "markdown",
   "metadata": {},
   "source": [
    "So that the sample variance is\n",
    "\n",
    "$$\n",
    "\\frac{1}{15}\\bigg((8 - 25)^2 + (10 - 25)^2 + ... + (33 - 25)^2\\bigg) = \n",
    "$$"
   ]
  },
  {
   "cell_type": "code",
   "execution_count": 27,
   "metadata": {},
   "outputs": [
    {
     "data": {
      "text/html": [
       "155.866666666667"
      ],
      "text/latex": [
       "155.866666666667"
      ],
      "text/markdown": [
       "155.866666666667"
      ],
      "text/plain": [
       "[1] 155.8667"
      ]
     },
     "metadata": {},
     "output_type": "display_data"
    }
   ],
   "source": [
    "sum((W - 25)^2)/15"
   ]
  },
  {
   "cell_type": "markdown",
   "metadata": {},
   "source": [
    "# Exercise 3: Occupation Choice and Earnings\n"
   ]
  },
  {
   "cell_type": "markdown",
   "metadata": {},
   "source": [
    "What we want students to notice about this statement is that just because average earnings between lawyers and engineers are different this does not imply that for a new individual (the TV audience) a switch from becoming a lawyer to an engineer will cause an increase in that individual's earnings by \\$50,000.\n",
    "\n",
    "The media \"expert\" is confusing a statistical difference in means with an economic parameter: the return to becoming an engineer rather than a lawyer. Is it reasonable to think that the difference in means captures this parameter? No. It is likely that individuals select into different occupations based on ability. Thus, the average earnings of engineers in the data are likely higher than the average earnings of lawyers in the data *had they instead become engineers*. Thus, for those aspiring lawyers the media \"expert\" is trying to persuade, an increase in \\$50,000 to becoming an engineer is likely an overestimate.\n",
    "\n",
    "The two hypotheticals of interest are the earnings of an individual as an engineer and as a lawyer. It is the thought experiment, \"What would Johnny make if he became a lawyer?\" and \"What would Johnny make if he became an engineer?\" *holding all of Johnny's characteristics constant*. These two counterfactuals are likely not captured by the sample means because of a selection problem: people gifted in law become lawyers, while people gifted in engineering become engineers.\n",
    "\n",
    "This course will be about mapping data objects to economic parameters, and the pitfalls of doing so without careful thought. This was just a taste of what's to come."
   ]
  },
  {
   "cell_type": "markdown",
   "metadata": {},
   "source": [
    "# Exercise 4: Executing R Code\n",
    "(a) and (b) are just downloading a running some copied code snippets.\n",
    "\n",
    "## (c)"
   ]
  },
  {
   "cell_type": "code",
   "execution_count": 28,
   "metadata": {},
   "outputs": [
    {
     "data": {
      "image/png": "[encoded data removed]",
      "text/plain": [
       "Plot with title \"Histogram of sample1\""
      ]
     },
     "metadata": {},
     "output_type": "display_data"
    }
   ],
   "source": [
    "set.seed(210)\n",
    "\n",
    "N = 100\n",
    "sample1 = rnorm(N, mean=0, sd=1)\n",
    "hist(sample1, freq=FALSE)\n",
    "lines(sort(sample1), y=dnorm(sort(sample1), mean=0, sd=1))"
   ]
  },
  {
   "cell_type": "code",
   "execution_count": 29,
   "metadata": {},
   "outputs": [
    {
     "data": {
      "image/png": "[encoded data removed]",
      "text/plain": [
       "Plot with title \"Histogram of sample1\""
      ]
     },
     "metadata": {},
     "output_type": "display_data"
    }
   ],
   "source": [
    "N = 10000\n",
    "sample1 = rnorm(N, mean=0, sd=1)\n",
    "hist(sample1, freq=FALSE)\n",
    "lines(sort(sample1), y=dnorm(sort(sample1), mean=0, sd=1))"
   ]
  },
  {
   "cell_type": "markdown",
   "metadata": {},
   "source": [
    "So that it appears with larger sample sizes the histogram approaches the standard normal pdf."
   ]
  }
 ],
 "metadata": {
  "kernelspec": {
   "display_name": "R",
   "language": "R",
   "name": "ir"
  },
  "language_info": {
   "codemirror_mode": "r",
   "file_extension": ".r",
   "mimetype": "text/x-r-source",
   "name": "R",
   "pygments_lexer": "r",
   "version": "3.2.3"
  }
 },
 "nbformat": 4,
 "nbformat_minor": 2
}
