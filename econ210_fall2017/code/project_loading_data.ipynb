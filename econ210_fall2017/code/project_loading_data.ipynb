{
 "cells": [
  {
   "cell_type": "markdown",
   "metadata": {},
   "source": [
    "# Loading in Data From Compressed File\n",
    "I load data from the compressed file and use limited memory to do so. I select only the subset of columns I need."
   ]
  },
  {
   "cell_type": "code",
   "execution_count": 1,
   "metadata": {
    "collapsed": true
   },
   "outputs": [],
   "source": [
    "# <INPUT Required> Put path to compressed file here\n",
    "fpath = \"/home/jake/Dropbox/classes/3rd Year/Teaching/ECON210_Fall2017/Data/psid-base.zip\"\n",
    "\n",
    "# Collecting information about dataset without reading whole thing\n",
    "df.temp = read.table(unz(fpath, \"psid-base.csv\"), nrows=2, header=T, sep=\",\")\n",
    "ncols = dim(df.temp)[2]\n",
    "\n",
    "cols.all = colnames(df.temp)\n",
    "\n",
    "# <INPUT Required> Insert desired variables here\n",
    "yvars = c(\"inc_labor\", \"hours\") # variables with year suffix\n",
    "ivars = c(\"birthyear\", \"f_id\", \"id\") # variables without year suffix (keep birthyear and f_id)\n",
    "\n",
    "years = 1968:2011\n",
    "cols = ivars\n",
    "for (y in years){\n",
    "    for (v in yvars) {\n",
    "        if (paste(v, y, sep=\"\") %in% cols.all) {\n",
    "            cols = c(cols, paste(v, y, sep=\"\"))\n",
    "        }\n",
    "    }\n",
    "}\n",
    "\n",
    "if (length(match(cols, cols.all)) != length(cols)) {\n",
    "    print('Some columns not found, check columns')\n",
    "}\n",
    "\n",
    "cols.arg = rep(\"NULL\", ncols)\n",
    "for (c in 1:ncols) {\n",
    "    if (c %in% match(cols, cols.all)){\n",
    "        cols.arg[c] = \"numeric\"\n",
    "    }\n",
    "}\n",
    "\n",
    "# Reading in whole dataset for selected columns\n",
    "df.yr = read.table(unz(fpath, \"psid-base.csv\"), header=T, sep=\",\",\n",
    "    colClasses=cols.arg)"
   ]
  },
  {
   "cell_type": "markdown",
   "metadata": {},
   "source": [
    "You can use this dataset above. Below, I will construct a dataset that has variables by age instead of by year.\n",
    "\n",
    "# Converting Variables from by Year to by Age"
   ]
  },
  {
   "cell_type": "code",
   "execution_count": 2,
   "metadata": {
    "collapsed": true
   },
   "outputs": [],
   "source": [
    "df.yr.cc = df.yr[complete.cases(df.yr$birthyear), ]"
   ]
  },
  {
   "cell_type": "code",
   "execution_count": 3,
   "metadata": {
    "collapsed": true
   },
   "outputs": [],
   "source": [
    "# <INPUT Required> Desired age range\n",
    "ages = 25:50\n",
    "\n",
    "df.age = df.yr.cc[,ivars]\n",
    "for (v in yvars) {\n",
    "    for (a in ages){\n",
    "        avar = paste(v, \"_age\", a, sep=\"\")\n",
    "        df.age[,avar] = NaN\n",
    "        for (y in years) {\n",
    "            yvar = paste(v, y, sep=\"\")\n",
    "            if (yvar %in% cols.all) {\n",
    "                df.age[df.age$birthyear==y - a, avar] = df.yr.cc[df.yr.cc$birthyear==y - a, yvar]\n",
    "            }\n",
    "        }\n",
    "    }\n",
    "}"
   ]
  },
  {
   "cell_type": "markdown",
   "metadata": {},
   "source": [
    "# Reshaping Age and Year Datasets into Panel Datasets\n",
    "## Panel Data set by Age"
   ]
  },
  {
   "cell_type": "code",
   "execution_count": 4,
   "metadata": {
    "collapsed": true
   },
   "outputs": [],
   "source": [
    "library(data.table)\n",
    "\n",
    "df.age.panel = melt(as.data.table(df.age), \n",
    "     measure = patterns(sapply(yvars, function(y){paste(y, \"_age\", sep=\"\")})), ## identify columns by patterns\n",
    "     value.name = yvars)[    ## specify the resulting variable names\n",
    "       ## melt creates a numeric \"variable\" value. Replace with factored labels\n",
    "       , variable := factor(variable, labels=ages)][]\n",
    "names(df.age.panel)[names(df.age.panel) == \"variable\"] = \"age\"\n",
    "df.age.panel = as.data.frame(df.age.panel)"
   ]
  },
  {
   "cell_type": "code",
   "execution_count": 5,
   "metadata": {},
   "outputs": [
    {
     "data": {
      "text/html": [
       "<table>\n",
       "<thead><tr><th></th><th scope=col>birthyear</th><th scope=col>f_id</th><th scope=col>id</th><th scope=col>age</th><th scope=col>inc_labor</th><th scope=col>hours</th></tr></thead>\n",
       "<tbody>\n",
       "\t<tr><th scope=row>1</th><td>1970   </td><td>1335001</td><td>1335030</td><td>25     </td><td>41340.0</td><td>2450   </td></tr>\n",
       "\t<tr><th scope=row>2</th><td>1955   </td><td>1335001</td><td>1335006</td><td>25     </td><td>46240.0</td><td>2382   </td></tr>\n",
       "\t<tr><th scope=row>3</th><td>1952   </td><td>1335001</td><td>1335004</td><td>25     </td><td>    0.0</td><td>   0   </td></tr>\n",
       "\t<tr><th scope=row>5</th><td>1962   </td><td>1335001</td><td>1335010</td><td>25     </td><td>42000.0</td><td>2686   </td></tr>\n",
       "\t<tr><th scope=row>6</th><td>1958   </td><td>1335001</td><td>1335008</td><td>25     </td><td>11950.0</td><td> 800   </td></tr>\n",
       "\t<tr><th scope=row>7</th><td>1959   </td><td>1335001</td><td>1335009</td><td>25     </td><td>27571.6</td><td>2640   </td></tr>\n",
       "\t<tr><th scope=row>8</th><td>1953   </td><td>1335001</td><td>1335005</td><td>25     </td><td>  365.0</td><td>  34   </td></tr>\n",
       "\t<tr><th scope=row>9</th><td>1956   </td><td>1335001</td><td>1335007</td><td>25     </td><td>41920.0</td><td>1840   </td></tr>\n",
       "\t<tr><th scope=row>10</th><td>1964   </td><td>1335001</td><td>1335011</td><td>25     </td><td> 8640.0</td><td>1750   </td></tr>\n",
       "\t<tr><th scope=row>11</th><td>1967   </td><td>1411001</td><td>1411013</td><td>25     </td><td>27582.5</td><td>1485   </td></tr>\n",
       "</tbody>\n",
       "</table>\n"
      ],
      "text/latex": [
       "\\begin{tabular}{r|llllll}\n",
       "  & birthyear & f\\_id & id & age & inc\\_labor & hours\\\\\n",
       "\\hline\n",
       "\t1 & 1970    & 1335001 & 1335030 & 25      & 41340.0 & 2450   \\\\\n",
       "\t2 & 1955    & 1335001 & 1335006 & 25      & 46240.0 & 2382   \\\\\n",
       "\t3 & 1952    & 1335001 & 1335004 & 25      &     0.0 &    0   \\\\\n",
       "\t5 & 1962    & 1335001 & 1335010 & 25      & 42000.0 & 2686   \\\\\n",
       "\t6 & 1958    & 1335001 & 1335008 & 25      & 11950.0 &  800   \\\\\n",
       "\t7 & 1959    & 1335001 & 1335009 & 25      & 27571.6 & 2640   \\\\\n",
       "\t8 & 1953    & 1335001 & 1335005 & 25      &   365.0 &   34   \\\\\n",
       "\t9 & 1956    & 1335001 & 1335007 & 25      & 41920.0 & 1840   \\\\\n",
       "\t10 & 1964    & 1335001 & 1335011 & 25      &  8640.0 & 1750   \\\\\n",
       "\t11 & 1967    & 1411001 & 1411013 & 25      & 27582.5 & 1485   \\\\\n",
       "\\end{tabular}\n"
      ],
      "text/markdown": [
       "\n",
       "| <!--/--> | birthyear | f_id | id | age | inc_labor | hours | \n",
       "|---|---|---|---|---|---|---|---|---|---|\n",
       "| 1 | 1970    | 1335001 | 1335030 | 25      | 41340.0 | 2450    | \n",
       "| 2 | 1955    | 1335001 | 1335006 | 25      | 46240.0 | 2382    | \n",
       "| 3 | 1952    | 1335001 | 1335004 | 25      |     0.0 |    0    | \n",
       "| 5 | 1962    | 1335001 | 1335010 | 25      | 42000.0 | 2686    | \n",
       "| 6 | 1958    | 1335001 | 1335008 | 25      | 11950.0 |  800    | \n",
       "| 7 | 1959    | 1335001 | 1335009 | 25      | 27571.6 | 2640    | \n",
       "| 8 | 1953    | 1335001 | 1335005 | 25      |   365.0 |   34    | \n",
       "| 9 | 1956    | 1335001 | 1335007 | 25      | 41920.0 | 1840    | \n",
       "| 10 | 1964    | 1335001 | 1335011 | 25      |  8640.0 | 1750    | \n",
       "| 11 | 1967    | 1411001 | 1411013 | 25      | 27582.5 | 1485    | \n",
       "\n",
       "\n"
      ],
      "text/plain": [
       "   birthyear f_id    id      age inc_labor hours\n",
       "1  1970      1335001 1335030 25  41340.0   2450 \n",
       "2  1955      1335001 1335006 25  46240.0   2382 \n",
       "3  1952      1335001 1335004 25      0.0      0 \n",
       "5  1962      1335001 1335010 25  42000.0   2686 \n",
       "6  1958      1335001 1335008 25  11950.0    800 \n",
       "7  1959      1335001 1335009 25  27571.6   2640 \n",
       "8  1953      1335001 1335005 25    365.0     34 \n",
       "9  1956      1335001 1335007 25  41920.0   1840 \n",
       "10 1964      1335001 1335011 25   8640.0   1750 \n",
       "11 1967      1411001 1411013 25  27582.5   1485 "
      ]
     },
     "metadata": {},
     "output_type": "display_data"
    }
   ],
   "source": [
    "# first 10 observations with complete cases in yvars\n",
    "df.age.panel[complete.cases(df.age.panel[,yvars]),][1:10,]"
   ]
  },
  {
   "cell_type": "markdown",
   "metadata": {},
   "source": [
    "## Panel Data Set by Year"
   ]
  },
  {
   "cell_type": "code",
   "execution_count": 6,
   "metadata": {
    "collapsed": true
   },
   "outputs": [],
   "source": [
    "df.yr.full = df.yr\n",
    "\n",
    "for (y in years) {\n",
    "    for (v in yvars) {\n",
    "        if (!(paste(v, y, sep=\"\") %in% cols.all)) {\n",
    "            df.yr.full[, paste(v, y, sep=\"\")] = NaN\n",
    "        }\n",
    "    }\n",
    "}\n",
    "df.yr.panel = melt(as.data.table(df.yr.full), \n",
    "     measure = patterns(yvars), ## identify columns by patterns\n",
    "     value.name = yvars)[    ## specify the resulting variable names\n",
    "       ## melt creates a numeric \"variable\" value. Replace with factored labels\n",
    "       , variable := factor(variable, labels=years)][]\n",
    "names(df.yr.panel)[names(df.yr.panel) == \"variable\"] = \"year\"\n",
    "df.yr.panel = as.data.frame(df.yr.panel)"
   ]
  },
  {
   "cell_type": "code",
   "execution_count": 7,
   "metadata": {},
   "outputs": [
    {
     "data": {
      "text/html": [
       "<table>\n",
       "<thead><tr><th></th><th scope=col>id</th><th scope=col>birthyear</th><th scope=col>f_id</th><th scope=col>year</th><th scope=col>inc_labor</th><th scope=col>hours</th></tr></thead>\n",
       "<tbody>\n",
       "\t<tr><th scope=row>604</th><td>1554001</td><td>1895   </td><td>NA     </td><td>1968   </td><td>    0.0</td><td>   0   </td></tr>\n",
       "\t<tr><th scope=row>607</th><td>2688001</td><td>1912   </td><td>NA     </td><td>1968   </td><td>47880.0</td><td>2250   </td></tr>\n",
       "\t<tr><th scope=row>622</th><td>1101001</td><td>  NA   </td><td>NA     </td><td>1968   </td><td>23940.0</td><td>2256   </td></tr>\n",
       "\t<tr><th scope=row>633</th><td>5912002</td><td>1946   </td><td>NA     </td><td>1968   </td><td>13167.0</td><td>1290   </td></tr>\n",
       "\t<tr><th scope=row>638</th><td>5861001</td><td>1948   </td><td>NA     </td><td>1968   </td><td> 7660.8</td><td>1200   </td></tr>\n",
       "\t<tr><th scope=row>650</th><td>2829001</td><td>1934   </td><td>NA     </td><td>1968   </td><td>24624.0</td><td>4732   </td></tr>\n",
       "\t<tr><th scope=row>652</th><td>1677002</td><td>1941   </td><td>NA     </td><td>1968   </td><td>12996.0</td><td>1920   </td></tr>\n",
       "\t<tr><th scope=row>665</th><td> 717001</td><td>  NA   </td><td>NA     </td><td>1968   </td><td>54993.6</td><td>4080   </td></tr>\n",
       "\t<tr><th scope=row>677</th><td>2611002</td><td>1934   </td><td>NA     </td><td>1968   </td><td> 6840.0</td><td> 480   </td></tr>\n",
       "\t<tr><th scope=row>680</th><td>1227001</td><td>1916   </td><td>NA     </td><td>1968   </td><td>44460.0</td><td>2460   </td></tr>\n",
       "</tbody>\n",
       "</table>\n"
      ],
      "text/latex": [
       "\\begin{tabular}{r|llllll}\n",
       "  & id & birthyear & f\\_id & year & inc\\_labor & hours\\\\\n",
       "\\hline\n",
       "\t604 & 1554001 & 1895    & NA      & 1968    &     0.0 &    0   \\\\\n",
       "\t607 & 2688001 & 1912    & NA      & 1968    & 47880.0 & 2250   \\\\\n",
       "\t622 & 1101001 &   NA    & NA      & 1968    & 23940.0 & 2256   \\\\\n",
       "\t633 & 5912002 & 1946    & NA      & 1968    & 13167.0 & 1290   \\\\\n",
       "\t638 & 5861001 & 1948    & NA      & 1968    &  7660.8 & 1200   \\\\\n",
       "\t650 & 2829001 & 1934    & NA      & 1968    & 24624.0 & 4732   \\\\\n",
       "\t652 & 1677002 & 1941    & NA      & 1968    & 12996.0 & 1920   \\\\\n",
       "\t665 &  717001 &   NA    & NA      & 1968    & 54993.6 & 4080   \\\\\n",
       "\t677 & 2611002 & 1934    & NA      & 1968    &  6840.0 &  480   \\\\\n",
       "\t680 & 1227001 & 1916    & NA      & 1968    & 44460.0 & 2460   \\\\\n",
       "\\end{tabular}\n"
      ],
      "text/markdown": [
       "\n",
       "| <!--/--> | id | birthyear | f_id | year | inc_labor | hours | \n",
       "|---|---|---|---|---|---|---|---|---|---|\n",
       "| 604 | 1554001 | 1895    | NA      | 1968    |     0.0 |    0    | \n",
       "| 607 | 2688001 | 1912    | NA      | 1968    | 47880.0 | 2250    | \n",
       "| 622 | 1101001 |   NA    | NA      | 1968    | 23940.0 | 2256    | \n",
       "| 633 | 5912002 | 1946    | NA      | 1968    | 13167.0 | 1290    | \n",
       "| 638 | 5861001 | 1948    | NA      | 1968    |  7660.8 | 1200    | \n",
       "| 650 | 2829001 | 1934    | NA      | 1968    | 24624.0 | 4732    | \n",
       "| 652 | 1677002 | 1941    | NA      | 1968    | 12996.0 | 1920    | \n",
       "| 665 |  717001 |   NA    | NA      | 1968    | 54993.6 | 4080    | \n",
       "| 677 | 2611002 | 1934    | NA      | 1968    |  6840.0 |  480    | \n",
       "| 680 | 1227001 | 1916    | NA      | 1968    | 44460.0 | 2460    | \n",
       "\n",
       "\n"
      ],
      "text/plain": [
       "    id      birthyear f_id year inc_labor hours\n",
       "604 1554001 1895      NA   1968     0.0      0 \n",
       "607 2688001 1912      NA   1968 47880.0   2250 \n",
       "622 1101001   NA      NA   1968 23940.0   2256 \n",
       "633 5912002 1946      NA   1968 13167.0   1290 \n",
       "638 5861001 1948      NA   1968  7660.8   1200 \n",
       "650 2829001 1934      NA   1968 24624.0   4732 \n",
       "652 1677002 1941      NA   1968 12996.0   1920 \n",
       "665  717001   NA      NA   1968 54993.6   4080 \n",
       "677 2611002 1934      NA   1968  6840.0    480 \n",
       "680 1227001 1916      NA   1968 44460.0   2460 "
      ]
     },
     "metadata": {},
     "output_type": "display_data"
    }
   ],
   "source": [
    "# first 10 observations with complete cases in yvars\n",
    "df.yr.panel[complete.cases(df.yr.panel[,yvars]),][1:10,]"
   ]
  }
 ],
 "metadata": {
  "kernelspec": {
   "display_name": "R",
   "language": "R",
   "name": "ir"
  },
  "language_info": {
   "codemirror_mode": "r",
   "file_extension": ".r",
   "mimetype": "text/x-r-source",
   "name": "R",
   "pygments_lexer": "r",
   "version": "3.2.3"
  }
 },
 "nbformat": 4,
 "nbformat_minor": 2
}
