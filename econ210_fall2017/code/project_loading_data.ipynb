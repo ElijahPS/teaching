{
 "cells": [
  {
   "cell_type": "markdown",
   "metadata": {},
   "source": [
    "# Loading in Data From Compressed File\n",
    "I load data from the compressed file and use limited memory to do so. I select only the subset of columns I need."
   ]
  },
  {
   "cell_type": "code",
   "execution_count": 1,
   "metadata": {
    "collapsed": true
   },
   "outputs": [],
   "source": [
    "# <INPUT Required> Put path to compressed file here\n",
    "fpath = \"/home/jake/Dropbox/classes/3rd Year/Teaching/ECON210_Fall2017/Data/psid-base.zip\"\n",
    "\n",
    "# Collecting information about dataset without reading whole thing\n",
    "df.temp = read.table(unz(fpath, \"psid-base.csv\"), nrows=2, header=T, sep=\",\")\n",
    "ncols = dim(df.temp)[2]\n",
    "\n",
    "cols.all = colnames(df.temp)\n",
    "\n",
    "# <INPUT Required> Insert desired variables here\n",
    "yvars = c(\"inc_labor\", \"edu\", \"hhchildren\", \"married\", \"fam_inc\", \"works\", \"age\", \"state\", \"workexp\", \"f_edu\", \"m_edu\") # variables with year suffix\n",
    "# yvars = c(\"inc_labor\", \"edu\", \"hhchildren\", \"married\", \"fam_inc\", \"works\", \"age\", \"m_edu\", \"f_edu\", \"state\", \"workexp\")\n",
    "ivars = c(\"birthyear\", \"f_id\", \"black\", \"white\", \"id\") # variables without year suffix (keep birthyear and f_id)\n",
    "\n",
    "years = c(1968:1997, seq(1999, 2011, 2))\n",
    "cols = ivars\n",
    "for (y in years){\n",
    "    for (v in yvars) {\n",
    "        if (paste(v, y, sep=\"\") %in% cols.all) {\n",
    "            cols = c(cols, paste(v, y, sep=\"\"))\n",
    "        }\n",
    "    }\n",
    "}\n",
    "\n",
    "if (length(match(cols, cols.all)) != length(cols)) {\n",
    "    print('Some columns not found, check columns')\n",
    "}\n",
    "\n",
    "cols.arg = rep(\"NULL\", ncols)\n",
    "for (c in 1:ncols) {\n",
    "    if (c %in% match(cols, cols.all)){\n",
    "        cols.arg[c] = \"numeric\"\n",
    "    }\n",
    "}\n",
    "\n",
    "# Reading in whole dataset for selected columns\n",
    "df.yr = read.table(unz(fpath, \"psid-base.csv\"), header=T, sep=\",\",\n",
    "    colClasses=cols.arg)\n",
    "cols.all = colnames(df.yr)"
   ]
  },
  {
   "cell_type": "markdown",
   "metadata": {},
   "source": [
    "You can use this dataset above. Below, I will construct a dataset that has variables by age instead of by year.\n",
    "\n",
    "# Converting Variables from by Year to by Age"
   ]
  },
  {
   "cell_type": "code",
   "execution_count": 2,
   "metadata": {
    "collapsed": true
   },
   "outputs": [],
   "source": [
    "df.yr.cc = df.yr[complete.cases(df.yr$birthyear), ]"
   ]
  },
  {
   "cell_type": "code",
   "execution_count": 3,
   "metadata": {
    "collapsed": true
   },
   "outputs": [],
   "source": [
    "# <INPUT Required> Desired age range\n",
    "ages = 25:50\n",
    "\n",
    "df.age = df.yr.cc[,ivars]\n",
    "for (v in yvars[yvars!=\"age\"]) {\n",
    "    for (a in ages){\n",
    "        avar = paste(v, \"_age\", a, sep=\"\")\n",
    "        df.age[,avar] = NaN\n",
    "        for (y in years) {\n",
    "            yvar = paste(v, y, sep=\"\")\n",
    "            if (yvar %in% cols.all) {\n",
    "                df.age[df.age$birthyear==y - a, avar] = df.yr.cc[df.yr.cc$birthyear==y - a, yvar]\n",
    "            }\n",
    "        }\n",
    "    }\n",
    "}"
   ]
  },
  {
   "cell_type": "markdown",
   "metadata": {},
   "source": [
    "# Reshaping Age and Year Datasets into Panel Datasets\n",
    "## Panel Data set by Age"
   ]
  },
  {
   "cell_type": "code",
   "execution_count": 4,
   "metadata": {
    "scrolled": true
   },
   "outputs": [],
   "source": [
    "library(data.table)\n",
    "\n",
    "df.age.panel = melt(as.data.table(df.age), \n",
    "     measure = patterns(sapply(yvars[yvars!=\"age\"], function(y){paste(c(\"^\", y, \"_age\"), collapse=\"\")}, USE.NAMES=F)), ## identify columns by patterns\n",
    "     value.name = yvars[yvars!=\"age\"], variable.name=\"age\")\n",
    "df.age.panel$age = factor(df.age.panel$age, labels=ages)\n",
    "df.age.panel = as.data.frame(df.age.panel)"
   ]
  },
  {
   "cell_type": "code",
   "execution_count": 5,
   "metadata": {},
   "outputs": [
    {
     "data": {
      "text/html": [
       "<table>\n",
       "<thead><tr><th></th><th scope=col>birthyear</th><th scope=col>f_id</th><th scope=col>black</th><th scope=col>white</th><th scope=col>id</th><th scope=col>age</th><th scope=col>inc_labor</th><th scope=col>edu</th><th scope=col>hhchildren</th><th scope=col>married</th><th scope=col>fam_inc</th><th scope=col>works</th><th scope=col>state</th><th scope=col>workexp</th><th scope=col>f_edu</th><th scope=col>m_edu</th></tr></thead>\n",
       "<tbody>\n",
       "\t<tr><th scope=row>1</th><td>1970   </td><td>1335001</td><td>0      </td><td>1      </td><td>1335030</td><td>25     </td><td>41340.0</td><td>12     </td><td>0      </td><td>1      </td><td>41652.0</td><td>1      </td><td> 1     </td><td>1      </td><td> 9     </td><td>11     </td></tr>\n",
       "\t<tr><th scope=row>2</th><td>1955   </td><td>1335001</td><td>0      </td><td>1      </td><td>1335006</td><td>25     </td><td>46240.0</td><td>12     </td><td>1      </td><td>1      </td><td>46240.0</td><td>1      </td><td>24     </td><td>2      </td><td>10     </td><td>11     </td></tr>\n",
       "\t<tr><th scope=row>5</th><td>1962   </td><td>1335001</td><td>0      </td><td>1      </td><td>1335010</td><td>25     </td><td>42000.0</td><td>11     </td><td>2      </td><td>1      </td><td>58170.0</td><td>1      </td><td>24     </td><td>4      </td><td> 9     </td><td>11     </td></tr>\n",
       "\t<tr><th scope=row>6</th><td>1958   </td><td>1335001</td><td>0      </td><td>1      </td><td>1335008</td><td>25     </td><td>11950.0</td><td>12     </td><td>1      </td><td>1      </td><td>22705.0</td><td>1      </td><td>24     </td><td>3      </td><td>10     </td><td>11     </td></tr>\n",
       "\t<tr><th scope=row>7</th><td>1959   </td><td>1335001</td><td>0      </td><td>1      </td><td>1335009</td><td>25     </td><td>27571.6</td><td>12     </td><td>2      </td><td>1      </td><td>29380.7</td><td>1      </td><td>24     </td><td>1      </td><td>10     </td><td>11     </td></tr>\n",
       "\t<tr><th scope=row>10</th><td>1964   </td><td>1335001</td><td>0      </td><td>1      </td><td>1335011</td><td>25     </td><td> 8640.0</td><td>14     </td><td>0      </td><td>0      </td><td> 8640.0</td><td>1      </td><td>21     </td><td>4      </td><td> 9     </td><td>11     </td></tr>\n",
       "\t<tr><th scope=row>11</th><td>1967   </td><td>1411001</td><td>1      </td><td>0      </td><td>1411013</td><td>25     </td><td>27582.5</td><td>16     </td><td>2      </td><td>0      </td><td>32908.6</td><td>1      </td><td>29     </td><td>5      </td><td>11     </td><td>11     </td></tr>\n",
       "\t<tr><th scope=row>12</th><td>1966   </td><td>1411001</td><td>1      </td><td>0      </td><td>1411012</td><td>25     </td><td>24500.0</td><td>12     </td><td>0      </td><td>0      </td><td>24500.0</td><td>0      </td><td>29     </td><td>6      </td><td>11     </td><td>11     </td></tr>\n",
       "\t<tr><th scope=row>15</th><td>1954   </td><td>1411001</td><td>1      </td><td>0      </td><td>1411005</td><td>25     </td><td>30176.0</td><td>14     </td><td>0      </td><td>1      </td><td>55104.0</td><td>1      </td><td>29     </td><td>5      </td><td>12     </td><td>11     </td></tr>\n",
       "\t<tr><th scope=row>16</th><td>1962   </td><td>1411001</td><td>1      </td><td>0      </td><td>1411010</td><td>25     </td><td>37590.0</td><td>13     </td><td>1      </td><td>1      </td><td>85940.4</td><td>1      </td><td>29     </td><td>7      </td><td>11     </td><td>11     </td></tr>\n",
       "</tbody>\n",
       "</table>\n"
      ],
      "text/latex": [
       "\\begin{tabular}{r|llllllllllllllll}\n",
       "  & birthyear & f\\_id & black & white & id & age & inc\\_labor & edu & hhchildren & married & fam\\_inc & works & state & workexp & f\\_edu & m\\_edu\\\\\n",
       "\\hline\n",
       "\t1 & 1970    & 1335001 & 0       & 1       & 1335030 & 25      & 41340.0 & 12      & 0       & 1       & 41652.0 & 1       &  1      & 1       &  9      & 11     \\\\\n",
       "\t2 & 1955    & 1335001 & 0       & 1       & 1335006 & 25      & 46240.0 & 12      & 1       & 1       & 46240.0 & 1       & 24      & 2       & 10      & 11     \\\\\n",
       "\t5 & 1962    & 1335001 & 0       & 1       & 1335010 & 25      & 42000.0 & 11      & 2       & 1       & 58170.0 & 1       & 24      & 4       &  9      & 11     \\\\\n",
       "\t6 & 1958    & 1335001 & 0       & 1       & 1335008 & 25      & 11950.0 & 12      & 1       & 1       & 22705.0 & 1       & 24      & 3       & 10      & 11     \\\\\n",
       "\t7 & 1959    & 1335001 & 0       & 1       & 1335009 & 25      & 27571.6 & 12      & 2       & 1       & 29380.7 & 1       & 24      & 1       & 10      & 11     \\\\\n",
       "\t10 & 1964    & 1335001 & 0       & 1       & 1335011 & 25      &  8640.0 & 14      & 0       & 0       &  8640.0 & 1       & 21      & 4       &  9      & 11     \\\\\n",
       "\t11 & 1967    & 1411001 & 1       & 0       & 1411013 & 25      & 27582.5 & 16      & 2       & 0       & 32908.6 & 1       & 29      & 5       & 11      & 11     \\\\\n",
       "\t12 & 1966    & 1411001 & 1       & 0       & 1411012 & 25      & 24500.0 & 12      & 0       & 0       & 24500.0 & 0       & 29      & 6       & 11      & 11     \\\\\n",
       "\t15 & 1954    & 1411001 & 1       & 0       & 1411005 & 25      & 30176.0 & 14      & 0       & 1       & 55104.0 & 1       & 29      & 5       & 12      & 11     \\\\\n",
       "\t16 & 1962    & 1411001 & 1       & 0       & 1411010 & 25      & 37590.0 & 13      & 1       & 1       & 85940.4 & 1       & 29      & 7       & 11      & 11     \\\\\n",
       "\\end{tabular}\n"
      ],
      "text/markdown": [
       "\n",
       "| <!--/--> | birthyear | f_id | black | white | id | age | inc_labor | edu | hhchildren | married | fam_inc | works | state | workexp | f_edu | m_edu | \n",
       "|---|---|---|---|---|---|---|---|---|---|\n",
       "| 1 | 1970    | 1335001 | 0       | 1       | 1335030 | 25      | 41340.0 | 12      | 0       | 1       | 41652.0 | 1       |  1      | 1       |  9      | 11      | \n",
       "| 2 | 1955    | 1335001 | 0       | 1       | 1335006 | 25      | 46240.0 | 12      | 1       | 1       | 46240.0 | 1       | 24      | 2       | 10      | 11      | \n",
       "| 5 | 1962    | 1335001 | 0       | 1       | 1335010 | 25      | 42000.0 | 11      | 2       | 1       | 58170.0 | 1       | 24      | 4       |  9      | 11      | \n",
       "| 6 | 1958    | 1335001 | 0       | 1       | 1335008 | 25      | 11950.0 | 12      | 1       | 1       | 22705.0 | 1       | 24      | 3       | 10      | 11      | \n",
       "| 7 | 1959    | 1335001 | 0       | 1       | 1335009 | 25      | 27571.6 | 12      | 2       | 1       | 29380.7 | 1       | 24      | 1       | 10      | 11      | \n",
       "| 10 | 1964    | 1335001 | 0       | 1       | 1335011 | 25      |  8640.0 | 14      | 0       | 0       |  8640.0 | 1       | 21      | 4       |  9      | 11      | \n",
       "| 11 | 1967    | 1411001 | 1       | 0       | 1411013 | 25      | 27582.5 | 16      | 2       | 0       | 32908.6 | 1       | 29      | 5       | 11      | 11      | \n",
       "| 12 | 1966    | 1411001 | 1       | 0       | 1411012 | 25      | 24500.0 | 12      | 0       | 0       | 24500.0 | 0       | 29      | 6       | 11      | 11      | \n",
       "| 15 | 1954    | 1411001 | 1       | 0       | 1411005 | 25      | 30176.0 | 14      | 0       | 1       | 55104.0 | 1       | 29      | 5       | 12      | 11      | \n",
       "| 16 | 1962    | 1411001 | 1       | 0       | 1411010 | 25      | 37590.0 | 13      | 1       | 1       | 85940.4 | 1       | 29      | 7       | 11      | 11      | \n",
       "\n",
       "\n"
      ],
      "text/plain": [
       "   birthyear f_id    black white id      age inc_labor edu hhchildren married\n",
       "1  1970      1335001 0     1     1335030 25  41340.0   12  0          1      \n",
       "2  1955      1335001 0     1     1335006 25  46240.0   12  1          1      \n",
       "5  1962      1335001 0     1     1335010 25  42000.0   11  2          1      \n",
       "6  1958      1335001 0     1     1335008 25  11950.0   12  1          1      \n",
       "7  1959      1335001 0     1     1335009 25  27571.6   12  2          1      \n",
       "10 1964      1335001 0     1     1335011 25   8640.0   14  0          0      \n",
       "11 1967      1411001 1     0     1411013 25  27582.5   16  2          0      \n",
       "12 1966      1411001 1     0     1411012 25  24500.0   12  0          0      \n",
       "15 1954      1411001 1     0     1411005 25  30176.0   14  0          1      \n",
       "16 1962      1411001 1     0     1411010 25  37590.0   13  1          1      \n",
       "   fam_inc works state workexp f_edu m_edu\n",
       "1  41652.0 1      1    1        9    11   \n",
       "2  46240.0 1     24    2       10    11   \n",
       "5  58170.0 1     24    4        9    11   \n",
       "6  22705.0 1     24    3       10    11   \n",
       "7  29380.7 1     24    1       10    11   \n",
       "10  8640.0 1     21    4        9    11   \n",
       "11 32908.6 1     29    5       11    11   \n",
       "12 24500.0 0     29    6       11    11   \n",
       "15 55104.0 1     29    5       12    11   \n",
       "16 85940.4 1     29    7       11    11   "
      ]
     },
     "metadata": {},
     "output_type": "display_data"
    }
   ],
   "source": [
    "# first 10 observations with complete cases in yvars\n",
    "df.age.panel[complete.cases(df.age.panel[,yvars]),][1:10,]"
   ]
  },
  {
   "cell_type": "markdown",
   "metadata": {},
   "source": [
    "## Panel Data Set by Year"
   ]
  },
  {
   "cell_type": "code",
   "execution_count": 6,
   "metadata": {},
   "outputs": [],
   "source": [
    "df.yr.full = df.yr\n",
    "\n",
    "for (y in years) {\n",
    "    for (v in yvars) {\n",
    "        if (!(paste(v, y, sep=\"\") %in% cols.all)) {\n",
    "            df.yr.full[, paste(v, y, sep=\"\")] = NaN\n",
    "        }\n",
    "    }\n",
    "}\n",
    "df.yr.panel = melt(as.data.table(df.yr.full), \n",
    "     measure = patterns(sapply(yvars, function(y){paste(\"^\",y,sep=\"\")}, USE.NAMES=F)), ## identify columns by patterns\n",
    "     value.name = yvars, variable.name=\"year\")\n",
    "df.yr.panel$year = factor(df.yr.panel$year, labels=years)\n",
    "df.yr.panel = as.data.frame(df.yr.panel)"
   ]
  },
  {
   "cell_type": "code",
   "execution_count": 7,
   "metadata": {},
   "outputs": [
    {
     "data": {
      "text/html": [
       "<table>\n",
       "<thead><tr><th></th><th scope=col>id</th><th scope=col>birthyear</th><th scope=col>f_id</th><th scope=col>black</th><th scope=col>white</th><th scope=col>year</th><th scope=col>inc_labor</th><th scope=col>edu</th><th scope=col>hhchildren</th><th scope=col>married</th><th scope=col>fam_inc</th><th scope=col>works</th><th scope=col>age</th><th scope=col>state</th><th scope=col>workexp</th><th scope=col>f_edu</th><th scope=col>m_edu</th></tr></thead>\n",
       "<tbody>\n",
       "\t<tr><th scope=row>3959</th><td>2808001 </td><td>1923    </td><td> 897001 </td><td>0       </td><td>1       </td><td>1968    </td><td>51300   </td><td>12      </td><td>0       </td><td>1       </td><td>80712.00</td><td>1       </td><td>44      </td><td>34      </td><td>32      </td><td> 6      </td><td> 8      </td></tr>\n",
       "\t<tr><th scope=row>35080</th><td>1342001 </td><td>1924    </td><td>1343001 </td><td>0       </td><td>1       </td><td>1968    </td><td>47880   </td><td>10      </td><td>1       </td><td>1       </td><td>48222.00</td><td>1       </td><td>44      </td><td>36      </td><td>31      </td><td> 5      </td><td> 8      </td></tr>\n",
       "\t<tr><th scope=row>35776</th><td>1694001 </td><td>1934    </td><td>1694002 </td><td>0       </td><td>1       </td><td>1968    </td><td>34884   </td><td>12      </td><td>0       </td><td>0       </td><td>57264.48</td><td>1       </td><td>33      </td><td> 2      </td><td>22      </td><td> 8      </td><td> 8      </td></tr>\n",
       "\t<tr><th scope=row>39201</th><td>2392001 </td><td>1941    </td><td>2391001 </td><td>0       </td><td>1       </td><td>1968    </td><td>23940   </td><td> 8      </td><td>4       </td><td>1       </td><td>30711.60</td><td>1       </td><td>26      </td><td>45      </td><td>13      </td><td> 5      </td><td> 7      </td></tr>\n",
       "\t<tr><th scope=row>41435</th><td>6652001 </td><td>1944    </td><td>6651001 </td><td>0       </td><td>1       </td><td>1968    </td><td>44460   </td><td>15      </td><td>0       </td><td>0       </td><td>44460.00</td><td>1       </td><td>24      </td><td>21      </td><td>12      </td><td>14      </td><td>12      </td></tr>\n",
       "\t<tr><th scope=row>41919</th><td>1210001 </td><td>1928    </td><td>1212001 </td><td>0       </td><td>1       </td><td>1968    </td><td>82080   </td><td>10      </td><td>2       </td><td>1       </td><td>82080.00</td><td>1       </td><td>39      </td><td>31      </td><td>25      </td><td>12      </td><td>12      </td></tr>\n",
       "\t<tr><th scope=row>42684</th><td>  57001 </td><td>1933    </td><td>  56001 </td><td>0       </td><td>1       </td><td>1968    </td><td>42408   </td><td>11      </td><td>3       </td><td>1       </td><td>64296.00</td><td>1       </td><td>35      </td><td>39      </td><td>23      </td><td> 3      </td><td> 3      </td></tr>\n",
       "\t<tr><th scope=row>69163</th><td>1485001 </td><td>1943    </td><td>1046001 </td><td>0       </td><td>1       </td><td>1968    </td><td>47880   </td><td>12      </td><td>2       </td><td>1       </td><td>51833.52</td><td>1       </td><td>24      </td><td>21      </td><td>13      </td><td> 7      </td><td>12      </td></tr>\n",
       "\t<tr><th scope=row>73144</th><td>2019001 </td><td>1935    </td><td>2020001 </td><td>0       </td><td>1       </td><td>1968    </td><td>68400   </td><td>12      </td><td>4       </td><td>1       </td><td>68400.00</td><td>1       </td><td>33      </td><td> 6      </td><td>21      </td><td>12      </td><td>16      </td></tr>\n",
       "\t<tr><th scope=row>75223</th><td> 242003 </td><td>1945    </td><td> 242001 </td><td>0       </td><td>1       </td><td>1969    </td><td>27907   </td><td>12      </td><td>0       </td><td>1       </td><td>34397.00</td><td>1       </td><td>24      </td><td>41      </td><td>12      </td><td> 8      </td><td> 8      </td></tr>\n",
       "</tbody>\n",
       "</table>\n"
      ],
      "text/latex": [
       "\\begin{tabular}{r|lllllllllllllllll}\n",
       "  & id & birthyear & f\\_id & black & white & year & inc\\_labor & edu & hhchildren & married & fam\\_inc & works & age & state & workexp & f\\_edu & m\\_edu\\\\\n",
       "\\hline\n",
       "\t3959 & 2808001  & 1923     &  897001  & 0        & 1        & 1968     & 51300    & 12       & 0        & 1        & 80712.00 & 1        & 44       & 34       & 32       &  6       &  8      \\\\\n",
       "\t35080 & 1342001  & 1924     & 1343001  & 0        & 1        & 1968     & 47880    & 10       & 1        & 1        & 48222.00 & 1        & 44       & 36       & 31       &  5       &  8      \\\\\n",
       "\t35776 & 1694001  & 1934     & 1694002  & 0        & 1        & 1968     & 34884    & 12       & 0        & 0        & 57264.48 & 1        & 33       &  2       & 22       &  8       &  8      \\\\\n",
       "\t39201 & 2392001  & 1941     & 2391001  & 0        & 1        & 1968     & 23940    &  8       & 4        & 1        & 30711.60 & 1        & 26       & 45       & 13       &  5       &  7      \\\\\n",
       "\t41435 & 6652001  & 1944     & 6651001  & 0        & 1        & 1968     & 44460    & 15       & 0        & 0        & 44460.00 & 1        & 24       & 21       & 12       & 14       & 12      \\\\\n",
       "\t41919 & 1210001  & 1928     & 1212001  & 0        & 1        & 1968     & 82080    & 10       & 2        & 1        & 82080.00 & 1        & 39       & 31       & 25       & 12       & 12      \\\\\n",
       "\t42684 &   57001  & 1933     &   56001  & 0        & 1        & 1968     & 42408    & 11       & 3        & 1        & 64296.00 & 1        & 35       & 39       & 23       &  3       &  3      \\\\\n",
       "\t69163 & 1485001  & 1943     & 1046001  & 0        & 1        & 1968     & 47880    & 12       & 2        & 1        & 51833.52 & 1        & 24       & 21       & 13       &  7       & 12      \\\\\n",
       "\t73144 & 2019001  & 1935     & 2020001  & 0        & 1        & 1968     & 68400    & 12       & 4        & 1        & 68400.00 & 1        & 33       &  6       & 21       & 12       & 16      \\\\\n",
       "\t75223 &  242003  & 1945     &  242001  & 0        & 1        & 1969     & 27907    & 12       & 0        & 1        & 34397.00 & 1        & 24       & 41       & 12       &  8       &  8      \\\\\n",
       "\\end{tabular}\n"
      ],
      "text/markdown": [
       "\n",
       "| <!--/--> | id | birthyear | f_id | black | white | year | inc_labor | edu | hhchildren | married | fam_inc | works | age | state | workexp | f_edu | m_edu | \n",
       "|---|---|---|---|---|---|---|---|---|---|\n",
       "| 3959 | 2808001  | 1923     |  897001  | 0        | 1        | 1968     | 51300    | 12       | 0        | 1        | 80712.00 | 1        | 44       | 34       | 32       |  6       |  8       | \n",
       "| 35080 | 1342001  | 1924     | 1343001  | 0        | 1        | 1968     | 47880    | 10       | 1        | 1        | 48222.00 | 1        | 44       | 36       | 31       |  5       |  8       | \n",
       "| 35776 | 1694001  | 1934     | 1694002  | 0        | 1        | 1968     | 34884    | 12       | 0        | 0        | 57264.48 | 1        | 33       |  2       | 22       |  8       |  8       | \n",
       "| 39201 | 2392001  | 1941     | 2391001  | 0        | 1        | 1968     | 23940    |  8       | 4        | 1        | 30711.60 | 1        | 26       | 45       | 13       |  5       |  7       | \n",
       "| 41435 | 6652001  | 1944     | 6651001  | 0        | 1        | 1968     | 44460    | 15       | 0        | 0        | 44460.00 | 1        | 24       | 21       | 12       | 14       | 12       | \n",
       "| 41919 | 1210001  | 1928     | 1212001  | 0        | 1        | 1968     | 82080    | 10       | 2        | 1        | 82080.00 | 1        | 39       | 31       | 25       | 12       | 12       | \n",
       "| 42684 |   57001  | 1933     |   56001  | 0        | 1        | 1968     | 42408    | 11       | 3        | 1        | 64296.00 | 1        | 35       | 39       | 23       |  3       |  3       | \n",
       "| 69163 | 1485001  | 1943     | 1046001  | 0        | 1        | 1968     | 47880    | 12       | 2        | 1        | 51833.52 | 1        | 24       | 21       | 13       |  7       | 12       | \n",
       "| 73144 | 2019001  | 1935     | 2020001  | 0        | 1        | 1968     | 68400    | 12       | 4        | 1        | 68400.00 | 1        | 33       |  6       | 21       | 12       | 16       | \n",
       "| 75223 |  242003  | 1945     |  242001  | 0        | 1        | 1969     | 27907    | 12       | 0        | 1        | 34397.00 | 1        | 24       | 41       | 12       |  8       |  8       | \n",
       "\n",
       "\n"
      ],
      "text/plain": [
       "      id      birthyear f_id    black white year inc_labor edu hhchildren\n",
       "3959  2808001 1923       897001 0     1     1968 51300     12  0         \n",
       "35080 1342001 1924      1343001 0     1     1968 47880     10  1         \n",
       "35776 1694001 1934      1694002 0     1     1968 34884     12  0         \n",
       "39201 2392001 1941      2391001 0     1     1968 23940      8  4         \n",
       "41435 6652001 1944      6651001 0     1     1968 44460     15  0         \n",
       "41919 1210001 1928      1212001 0     1     1968 82080     10  2         \n",
       "42684   57001 1933        56001 0     1     1968 42408     11  3         \n",
       "69163 1485001 1943      1046001 0     1     1968 47880     12  2         \n",
       "73144 2019001 1935      2020001 0     1     1968 68400     12  4         \n",
       "75223  242003 1945       242001 0     1     1969 27907     12  0         \n",
       "      married fam_inc  works age state workexp f_edu m_edu\n",
       "3959  1       80712.00 1     44  34    32       6     8   \n",
       "35080 1       48222.00 1     44  36    31       5     8   \n",
       "35776 0       57264.48 1     33   2    22       8     8   \n",
       "39201 1       30711.60 1     26  45    13       5     7   \n",
       "41435 0       44460.00 1     24  21    12      14    12   \n",
       "41919 1       82080.00 1     39  31    25      12    12   \n",
       "42684 1       64296.00 1     35  39    23       3     3   \n",
       "69163 1       51833.52 1     24  21    13       7    12   \n",
       "73144 1       68400.00 1     33   6    21      12    16   \n",
       "75223 1       34397.00 1     24  41    12       8     8   "
      ]
     },
     "metadata": {},
     "output_type": "display_data"
    }
   ],
   "source": [
    "# first 10 observations with complete cases in yvars\n",
    "df.yr.panel[complete.cases(df.yr.panel[,yvars]),][1:10,]"
   ]
  }
 ],
 "metadata": {
  "kernelspec": {
   "display_name": "R",
   "language": "R",
   "name": "ir"
  },
  "language_info": {
   "codemirror_mode": "r",
   "file_extension": ".r",
   "mimetype": "text/x-r-source",
   "name": "R",
   "pygments_lexer": "r",
   "version": "3.2.3"
  }
 },
 "nbformat": 4,
 "nbformat_minor": 2
}
