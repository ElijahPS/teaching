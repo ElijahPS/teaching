{
 "cells": [
  {
   "cell_type": "markdown",
   "metadata": {},
   "source": [
    "# (1)\n",
    "Suppose I have an iid sample $(X_i)_{i=1}^N$ such that $X_i\\sim X$ for all $i$. Further, assume that $Var[X^3]<\\infty$. Consider the following:\n",
    "$$\n",
    "\\frac{1}{N}\\sum_{i=1}^NX_i^3.\n",
    "$$\n",
    "Prove that\n",
    "$$\n",
    "\\frac{1}{N}\\sum_{i=1}^NX_i^3 \\overset{p}{\\to} E[X^3].\n",
    "$$\n",
    "To prove this we can apply the weak law of large numbers (WLLN). Notice that $\\frac{1}{N}\\sum_{i=1}^NX_i^3$ is just the sample mean of a random variable $Z_i$, defined as $Z_i=X_i^3$.  Since $Var[Z_i]<\\infty$ (by assumption), and $(Z_i)_{i=1}^N$ is iid since $(X_i)_{i=1}^N$ is iid, then by WLLN, $\\bar{Z}_N = \\frac{1}{N}\\sum_{i=1}^NX_i^3 \\overset{p}{\\to}E[X^3]$."
   ]
  },
  {
   "cell_type": "markdown",
   "metadata": {},
   "source": [
    "# (2)\n",
    "Again let $(X_i)_{i=1}^N$ be an iid sample such that $X_i\\sim X$ for all $i$. Assume that $Var[X^2]<\\infty$ and $Var[X^4] < \\infty$. Consider the following:\n",
    "$$\n",
    "\\frac{\\sum_{i=1}^NX_i^2}{\\sum_{i=1}^NX_i^4}.\n",
    "$$\n",
    "Prove that\n",
    "$$\n",
    "\\frac{\\sum_{i=1}^NX_i^2}{\\sum_{i=1}^NX_i^4} \\overset{p}{\\to} \\frac{E[X^2]}{E[X^4]}.\n",
    "$$\n",
    "To prove this define the following random variables: $Z_i=X_i^2$ and $W_i=X_i^4$. Since $(X_i)_{i=1}^N$ is iid then $(Z_i)_{i=1}^N$ and $(W_i)_{i=1}^N$ is iid. Furthermore, by assumption $Var[Z_i]<\\infty$ and $Var[W_i]<\\infty$. Rewrite the ratio by dividing both the numerator and denominator by $1/N$:\n",
    "$$\n",
    "\\frac{\\frac{1}{N}\\sum_{i=1}^NX_i^2}{\\frac{1}{N}\\sum_{i=1}^NX_i^4}\n",
    "$$\n",
    "Notice that the numerator is the sample mean $\\bar{Z}_N$ and the denominator the sample mean $\\bar{W}_N$. By WLLN, $\\bar{Z}_N\\overset{p}{\\to}E[Z] = E[X^2]$. Also by WLLN, $\\bar{W}_N\\overset{p}{\\to}E[W] = E[X^4]$. Therefore, since $\\bar{Z}_N\\overset{p}{\\to}E[X^2]$ and $\\bar{W}_N\\overset{p}{\\to}E[W] = E[X^4]$ (marginal convergence in probability) then $(\\bar{Z}_N,\\bar{W}_N)\\overset{p}{\\to}(E[X^2],E[X^4])$ (joint convergence in probability). Then by the continuous mapping theorem, for any continuous function $g(\\cdot)$, $g(\\bar{Z}_N, \\bar{W}_N)$ will converge in probability to $g(E[X^2],E[X^4])$. In particular, if we define $g(\\cdot)$ such that $g(a,b)=a/b$, then\n",
    "$$\n",
    "\\frac{\\frac{1}{N}\\sum_{i=1}^NX_i^2}{\\frac{1}{N}\\sum_{i=1}^NX_i^4} = \\frac{\\bar{Z}_N}{\\bar{W}_N} = g(\\bar{Z}_N,\\bar{W}_N) \\overset{p}{\\to} g(E[X^2],E[X^4]) = \\frac{E[X^2]}{E[X^4]}.\n",
    "$$"
   ]
  },
  {
   "cell_type": "markdown",
   "metadata": {},
   "source": [
    "# (3)\n",
    "Let $(Y_i,X_i)_{i=1}^N$ be iid such that $X_i\\sim X$ for all $i$. Assume that all necessary variances are finite. Define $\\boldsymbol{1}\\{X\\leq x\\}$ as the random variable\n",
    "$$\n",
    "\\boldsymbol{1}\\{X\\leq x\\} =\n",
    "\\begin{cases}\n",
    "1 & \\text{ if } X \\leq x \\\\\n",
    "0 & \\text{ if } X > x.\n",
    "\\end{cases}\n",
    "$$\n",
    "Show that\n",
    "$$\n",
    "\\frac{\\sum_{i=1}^N\\boldsymbol{1}\\{X_i\\leq x\\}Y_i}{\\sum_{i=1}^N\\boldsymbol{1}\\{X_i\\leq x\\}}\\overset{p}{\\to}E[Y|X\\leq x].\n",
    "$$\n",
    "Notice that this sample quantity is just the sample mean of $Y$ when $X$ is less than some fixed value $x$. For instance, this could be the mean wages (Y) of individuals with less than $x=100$ hours of experience (X). \n",
    "\n",
    "To begin the proof, first rewrite by dividing both the numerator and denominator by $\\frac{1}{N}$.\n",
    "$$\n",
    "\\frac{\\frac{1}{N}\\sum_{i=1}^N\\boldsymbol{1}\\{X_i\\leq x\\}Y_i}{\\frac{1}{N}\\sum_{i=1}^N\\boldsymbol{1}\\{X_i\\leq x\\}}.\n",
    "$$\n",
    "If we define $Z_i = \\boldsymbol{1}\\{X_i\\leq x\\}Y_i$ and $W_i = \\boldsymbol{1}\\{X_i\\leq x\\}$, then this expression is just the ratio of two samples means $\\bar{Z}_N$ and $\\bar{W}_N$. Since $(Y_i,X_i)_{i=1}^N$ is iid then $(Z_i)_{i=1}^N$ and $(W_i)_{i=1}^N$ is iid. By assumption, $Var[Z]<\\infty$ and $Var[W]<\\infty$. Thus, by the WLLN, $\\bar{Z}_N\\overset{p}{\\to}E[Z] = E[\\boldsymbol{1}\\{X\\leq x\\}Y]$ and $\\bar{W}_N\\overset{p}{\\to}E[W] = E[\\boldsymbol{1}\\{X\\leq x\\}]$. Because marginal convergence in probability implies joint convergence in probability, then $(\\bar{Z}_N,\\bar{W}_N)\\overset{p}{\\to}(E[\\boldsymbol{1}\\{X\\leq x\\}Y], E[\\boldsymbol{1}\\{X\\leq x\\}])$. Now we can apply the CMT. By the CMT, for any continuous function $g(\\cdot)$, $g(\\bar{Z}_N,\\bar{W}_N)\\overset{p}{\\to}g(E[\\boldsymbol{1}\\{X\\leq x\\}Y], E[\\boldsymbol{1}\\{X\\leq x\\}])$. In particular, if we define $g(a,b)=a/b$, then\n",
    "$$\n",
    "\\frac{\\frac{1}{N}\\sum_{i=1}^N\\boldsymbol{1}\\{X_i\\leq x\\}Y_i}{\\frac{1}{N}\\sum_{i=1}^N\\boldsymbol{1}\\{X_i\\leq x\\}} = \\frac{\\bar{Z}_N}{\\bar{W}_N} = g(\\bar{Z}_N,\\bar{W}_N) \\overset{p}{\\to} g(E[\\boldsymbol{1}\\{X\\leq x\\}Y], E[\\boldsymbol{1}\\{X\\leq x\\}]) = \\frac{E[\\boldsymbol{1}\\{X\\leq x\\}Y]}{E[\\boldsymbol{1}\\{X\\leq x\\}]}.\n",
    "$$\n",
    "\n",
    "The only thing we have left to do is show that this last expression equals $E[Y|X\\leq x]$. Notice first that $E[\\boldsymbol{1}\\{X\\leq x\\}] = P(X\\leq x)$. Why? Recall from class that we can write probabilities as\n",
    "$$\n",
    "P(X\\in A) = \\int_{-\\infty}^{\\infty}\\boldsymbol{1}\\{a\\in A\\}f(a)da = E[\\boldsymbol{1}\\{X\\in A\\}].\n",
    "$$\n",
    "\n",
    "If we let $A$ denote the set $\\{a|a\\leq x\\}$, then we get our result. Thus, we now have the following expression:\n",
    "$$\n",
    "\\frac{E[\\boldsymbol{1}\\{X\\leq x\\}Y]}{P(X\\leq x)}.\n",
    "$$\n",
    "\n",
    "Consider the numerator. By the law of iterated expecations,\n",
    "$$\n",
    "E[\\boldsymbol{1}\\{X\\leq x\\}Y] = E[\\boldsymbol{1}\\{X\\leq x\\}Y|X\\leq x]P(X\\leq x) + E[\\boldsymbol{1}\\{X\\leq x\\}Y|X> x]P(X> x)\n",
    "$$\n",
    "$$=\n",
    "E[1\\cdot Y|X\\leq x]P(X\\leq x) + E[0\\cdot Y|X> x]P(X> x) = E[Y|X\\leq x]P(X\\leq x).\n",
    "$$\n",
    "So that we can simplify our final expresson to $E[Y|X\\leq x]$. "
   ]
  }
 ],
 "metadata": {
  "kernelspec": {
   "display_name": "R",
   "language": "R",
   "name": "ir"
  },
  "language_info": {
   "codemirror_mode": "r",
   "file_extension": ".r",
   "mimetype": "text/x-r-source",
   "name": "R",
   "pygments_lexer": "r",
   "version": "3.2.3"
  }
 },
 "nbformat": 4,
 "nbformat_minor": 2
}
