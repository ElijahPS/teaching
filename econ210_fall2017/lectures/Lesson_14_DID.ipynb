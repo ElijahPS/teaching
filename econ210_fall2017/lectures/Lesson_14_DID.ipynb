{
 "cells": [
  {
   "cell_type": "markdown",
   "metadata": {},
   "source": [
    "# Difference in Differences Strategy\n",
    "In the previous lesson we saw how fixed effects estimands identify causal parameters when we observe individuals from families, the variable of interest changes within families, and omitted variables vary at the family level. We now consider including another dimension to our data and including another fixed effect for this dimension. For instance, suppose our structural model is now\n",
    "$$\n",
    "Y_{ijt} = \\gamma_1X_{1,ijt} + \\alpha_j + \\delta_t + \\epsilon_{ijt}\n",
    "$$\n",
    "which can be written equivalently with time and group dummies\n",
    "$$\n",
    "Y_{ijt} = \\gamma_1X_{1,ijt} + \\sum_{k=1}^J\\boldsymbol{1}\\{j=k\\}\\alpha_k + \\sum_{\\tau=1}^T\\boldsymbol{1}\\{t=\\tau\\}\\delta_{\\tau} + \\epsilon_{ijt}\n",
    "$$\n",
    "where $E[\\epsilon_{ijt}]=0$. We've now included the dimension $t$, which usually denotes time. The index $j$ may denote family but it commonly refers to some location, like state or county. It is very common for $X_1$ not to vary across $i$ but only over $j$ and $t$, in which case $X_{1,ijt}=X_{1,jt}$. Suppose $j=1,...,J$ and $t=1,...,T$. Below, we show how to interpret the assumption required for the regression of $Y$ on $X_1$ and family and time dummies to identify the causal effect of $X_1$ on $Y$."
   ]
  },
  {
   "cell_type": "markdown",
   "metadata": {},
   "source": [
    "## Example: J=2, T=2\n",
    "Let $X_2=1$ if $j=1$ and 0 otherwise and let $X_3=1$ if $t=1$ and 0 otherwise. We can now write\n",
    "$$\n",
    "Y_{ijt} = \\gamma_1X_{1,ijt} + \\alpha_1X_{2,ijt} + \\alpha_2(1-X_{2,ijt}) + \\delta_1X_{3,ijt} + \\delta_2(1-X_{3,ijt}) + \\epsilon_{ijt}\n",
    "$$\n",
    "$$\n",
    "= \\alpha_2 + \\delta_2 + \\gamma_1X_{1,ijt} + (\\alpha_1-\\alpha_2)X_{2,ijt} + (\\delta_1-\\delta_2)X_{3,ijt} + \\epsilon_{ijt}\n",
    "$$\n",
    "$$\n",
    "= \\gamma_0 + \\gamma_1X_{1,ijt} + \\gamma_2X_{2,ijt} + \\gamma_3X_{3,ijt} + \\epsilon_{ijt}\n",
    "$$\n",
    "Now what happens if we regress $Y$ on $X_1$? We obtain\n",
    "$$\n",
    "\\beta_1 = \\frac{Cov[\\tilde{\\tilde{Y}},\\tilde{\\tilde{X}}_1]}{Var[\\tilde{\\tilde{X}}_1]}\n",
    "$$\n",
    "where $\\tilde{\\tilde{Y}}$ and $\\tilde{\\tilde{X}}_1$ are just the residuals of a regression of the residuals of a regression of $Y$ and $X_1$ on $X_2$ on $X_2$, on $X_3$. But a better interpretation would be that they are the deviations in deviations (difference in differences) from the group means, where the first difference is the deviation from the group mean (over all time periods, i.e., capturing within group trends) and the second difference is the mean difference in the deviation between groups (i.e., the difference in trends between the groups). That is\n",
    "$$\n",
    "\\tilde{\\tilde{Y}} = (Y - BLP(Y|X_2)) - BLP\\bigg(Y - BLP(Y|X_2)\\bigg|X_3\\bigg)\n",
    "$$\n",
    "$$\n",
    "= \\tilde{Y} - BLP(\\tilde{Y}|X_3)\n",
    "$$\n",
    "where $\\tilde{Y} = Y - BLP(Y|X_2) = Y-E[Y|X_2=1]X_2 - E[Y|X_2=0](1-X_2)$ is the deviation from the group mean. A similar definition holds for $\\tilde{\\tilde{X}}_3$. The identifying assumption is that the groups experience \"parallel trends\" in $Y$ had they had the same level of treatment $X_1$. But all of this is a little hard to interpret. And it's harder still to interpret the identifying assumption that would allow $\\beta_1$ to identify $\\gamma_1$. So below, we'll consider an even more special case with a typical sufficient condition for identification.\n",
    "\n",
    "Thus, what variation are we using to identify the effect? We exploit variation across groups in within group changes over time. Thus, if group $j=1$ experiences a larger increase in $X_1$ relative to group $j=2$, and we see a corresponding larger increase in $Y$, this is evidence that $X_1$ increases $Y$. "
   ]
  },
  {
   "cell_type": "markdown",
   "metadata": {},
   "source": [
    "## Example: J=2, T=2, Binary Treatment\n",
    "Now let $X_1$ only take values 0 or 1, with 1 indicating treatment. A seminal example is Card and Krueger's (1994) analysis of the impact of the minimum wage on employment. Let $X_1=1$ denote lowering the minimum wage and let there only be two states $j=1$ is New Jersey (NJ) and $j=2$ is Pennsylvania (PA). Let $t=1$ denote the period before the minimum wage increase and $t=2$ denote the period after the minimum wage increase. Both NJ and PA had the same minimum wage prior to the November 1992 increase in NJ's minimum wage. $i$ will denote a fast food establishment. $Y_{ijt}$ will denote employment at fast food establishment $i$ in state $j$ at time $t$.\n",
    "\n",
    "For simplicity, we will denote $\\alpha_{NJ}$ and $\\alpha_{PA}$ as the state fixed effects and $\\delta_{Nov}$ and $\\delta_{Feb}$ as the time fixed effects. We have the following conditional moments from the data:\n",
    "- $E[Y_{ijt}|j=NJ,t=Feb] = E[Y|j=NJ,t=Feb,X_1=0] = \\alpha_{NJ} + \\delta_{Feb} + E[\\epsilon|j=NJ,t=Feb]$\n",
    "- $E[Y_{ijt}|j=NJ,t=Nov] = E[Y|j=NJ,t=Nov,X_1=1] = \\alpha_{NJ} + \\delta_{Nov} + \\gamma_1 + E[\\epsilon|j=NJ,t=Nov]$\n",
    "- $E[Y_{ijt}|j=PA,t=Feb] = E[Y|j=PA,t=Feb,X_1=0] = \\alpha_{PA} + \\delta_{Feb} + E[\\epsilon|j=PA,t=Feb]$\n",
    "- $E[Y_{ijt}|j=PA,t=Nov] = E[Y|j=PA,t=Nov,X_1=0] = \\alpha_{PA} + \\delta_{Nov} + E[\\epsilon|j=PA,t=Nov]$\n",
    "\n",
    "Now, if we compute the difference in differences, we obtain\n",
    "$$\n",
    "\\bigg(E[Y_{ijt}|j=NJ,t=Nov] - E[Y_{ijt}|j=NJ,t=Feb]\\bigg) - \\bigg(E[Y_{ijt}|j=PA,t=Nov] - E[Y_{ijt}|j=PA,t=Feb]\\bigg)\n",
    "$$\n",
    "$$\n",
    "= (\\delta_{Nov} - \\delta_{Feb} + \\gamma_1) + (\\delta_{Nov} - \\delta_{Feb}) + (E[\\epsilon|j=NJ,t=Nov] - E[\\epsilon|j=NJ,t=Feb]) - (E[\\epsilon|j=PA,t=Nov] - E[\\epsilon|j=PA,t=Feb])\n",
    "$$\n",
    "$$\n",
    "\\gamma_1 + (E[\\epsilon|j=NJ,t=Nov] - E[\\epsilon|j=NJ,t=Feb]) - (E[\\epsilon|j=PA,t=Nov] - E[\\epsilon|j=PA,t=Feb])\n",
    "$$\n",
    "so that if this last difference is 0 then we can identify $\\gamma_1$ from the difference in differences. This assumption is equivalent to\n",
    "$$\n",
    "E[\\epsilon|j=NJ,t=Nov] - E[\\epsilon|j=NJ,t=Feb] = E[\\epsilon|j=PA,t=Nov] - E[\\epsilon|j=PA,t=Feb]\n",
    "$$\n",
    "which shows that if movements in $\\epsilon$ are parallel between NJ and PA then we identify $\\gamma_1$. Another way of seeing this is to look at counterfactual outcomes. Define $Y_{1ijt}$ and $Y_{0ijt}$ as the counterfactual employment levels at fast food establishment $i$ in state $j$ at time $t$ with and without the increase in the minimum wage. The following assumption is equivalent to the assumption above:\n",
    "$$\n",
    "E[Y_{0ijt}|j=NJ,t=Nov] - E[Y_{0ijt}|j=NJ,t=Feb] = E[Y_{0ijt}|j=NJ,t=Nov] - E[Y_{0ijt}|j=NJ,t=Feb].\n",
    "$$\n",
    "This is the most clear way of seeing the \"parallel trends\" assumption mathematically. It says that in the absence of the reform the states would experience parallel (sometimes called common) trends in employment. But an even better way to see it is graphically."
   ]
  },
  {
   "cell_type": "markdown",
   "metadata": {},
   "source": [
    "If we were to write out a model that would use this assumption we would write\n",
    "$$\n",
    "Y_{ijt} = \\alpha_{PA} + \\delta_{Feb} + \\gamma_1X_{1,ijt} + (\\alpha_{NJ} - \\alpha_{PA})NJ_j + (\\delta_{Nov} - \\delta_{Feb})D_t + \\epsilon_{ijt}\n",
    "$$\n",
    "$$\n",
    "= \\gamma_0 + \\gamma_1X_{1,ijt} + \\gamma_2NJ_j + \\gamma_3D_t + \\epsilon_{ijt}\n",
    "$$\n",
    "where $NJ_j$ is an indicator for whether the state is NJ and $D_t$ is an indicator for whether the month is February. Under the parallel trends assumption $\\beta_1$ of the regression corresponding to the structural model above will identify $\\gamma_1$. "
   ]
  },
  {
   "cell_type": "markdown",
   "metadata": {},
   "source": [
    "## Causes of Endogeneity\n",
    "Any trends in time common across all states will be captured by $\\delta_t$ and any time-invariant characteristics of each state will be captured by $\\alpha_j$, so these will not be a concern.\n",
    "\n",
    "### Multiple Concurrent Reforms\n",
    "The toughest argument you need to make with these DID designs is that your reform or policy change does not coincide with any other policy change that might also affect $Y$. This perfectly matches up with our structural equation. It says that if there is an unobservable $\\epsilon_{ijt}$ that is correlated with $X_{1,ijt}$ (which essentially just marks a point in time for a particular state) then the regression does not identify $\\gamma_1$.\n",
    "\n",
    "If another reform does take place we clearly violate the parallel trends assumption. The other reform causes trends to deviate from parallel in the absence of the reform of interest. \n",
    "\n",
    "### Anticipatory Effects\n",
    "Another way to violate the parallel trends assumption is for there to be anticipatory effects of the reform. Suppose firms anticipated the increase in the minimum wage in NJ. Then they might begin to move to PA, thus increasing employment in PA and decreasing employment in NJ. As a result, the estimated effect will be biased toward 0. "
   ]
  }
 ],
 "metadata": {
  "kernelspec": {
   "display_name": "R",
   "language": "R",
   "name": "ir"
  },
  "language_info": {
   "codemirror_mode": "r",
   "file_extension": ".r",
   "mimetype": "text/x-r-source",
   "name": "R",
   "pygments_lexer": "r",
   "version": "3.2.3"
  }
 },
 "nbformat": 4,
 "nbformat_minor": 2
}
