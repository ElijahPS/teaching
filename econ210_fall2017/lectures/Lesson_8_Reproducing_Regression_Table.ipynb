{
 "cells": [
  {
   "cell_type": "markdown",
   "metadata": {},
   "source": [
    "# Reproducing a Regression Table (Heteroskedastic Variance)\n",
    "Suppose we have the following table of data.\n",
    "```\n",
    "     +--------------+\n",
    "     |  y   x1   x2 |\n",
    "     |--------------|\n",
    "  1. |  3    4    5 |\n",
    "  2. |  2    1    3 |\n",
    "  3. |  9   11   18 |\n",
    "  4. |  0    4   -2 |\n",
    "  5. |  9    8    3 |\n",
    "     |--------------|\n",
    "  6. | 12    9   25 |\n",
    "  7. |  3    7   18 |\n",
    "  8. | 15   15   12 |\n",
    "  9. |  4   16    8 |\n",
    " 10. | 11   14   13 |\n",
    "     +--------------+\n",
    "```\n",
    "Suppose we use the built-in command for regression in R: `lm`. Note that `type=\"HC\"` is for heteroskedasticity robust standard errors, `type=\"HC1\"` is for heteroskedasticty robust standard errors with bias correction."
   ]
  },
  {
   "cell_type": "code",
   "execution_count": 1,
   "metadata": {},
   "outputs": [
    {
     "name": "stderr",
     "output_type": "stream",
     "text": [
      "Loading required package: zoo\n",
      "\n",
      "Attaching package: ‘zoo’\n",
      "\n",
      "The following objects are masked from ‘package:base’:\n",
      "\n",
      "    as.Date, as.Date.numeric\n",
      "\n"
     ]
    },
    {
     "data": {
      "text/plain": [
       "\n",
       "t test of coefficients:\n",
       "\n",
       "            Estimate Std. Error t value Pr(>|t|)\n",
       "(Intercept)  0.10417    1.43119  0.0728   0.9440\n",
       "x1           0.50192    0.29387  1.7080   0.1314\n",
       "x2           0.21638    0.14088  1.5359   0.1684\n"
      ]
     },
     "metadata": {},
     "output_type": "display_data"
    }
   ],
   "source": [
    "library(lmtest)\n",
    "library(sandwich)\n",
    "\n",
    "df = data.frame(\n",
    "    cbind(\n",
    "    c(3, 2 ,9, 0, 9, 12, 3, 15, 4, 11),\n",
    "    c(4, 1, 11, 4, 8, 9, 7, 15, 16, 14),\n",
    "    c(5, 3, 18, -2, 3, 25, 18, 12, 8, 13))\n",
    ")\n",
    "N = dim(df)[1] # sample size\n",
    "K = dim(df)[2] - 1 # number of regressors\n",
    "\n",
    "colnames(df) <- c(\"y\", \"x1\", \"x2\")\n",
    "fit = lm(y ~ x1 + x2, data=df)\n",
    "coeftest(fit, vcov=vcovHC(fit, type=\"HC\"))"
   ]
  },
  {
   "cell_type": "markdown",
   "metadata": {},
   "source": [
    "Can we reproduce the important numbers in the table? First let's start with the regression coefficients."
   ]
  },
  {
   "cell_type": "code",
   "execution_count": 2,
   "metadata": {},
   "outputs": [
    {
     "data": {
      "text/html": [
       "<table>\n",
       "<tbody>\n",
       "\t<tr><th scope=row></th><td>0.1041661</td></tr>\n",
       "\t<tr><th scope=row>x1</th><td>0.5019225</td></tr>\n",
       "\t<tr><th scope=row>x2</th><td>0.2163809</td></tr>\n",
       "</tbody>\n",
       "</table>\n"
      ],
      "text/latex": [
       "\\begin{tabular}{r|l}\n",
       "\t & 0.1041661\\\\\n",
       "\tx1 & 0.5019225\\\\\n",
       "\tx2 & 0.2163809\\\\\n",
       "\\end{tabular}\n"
      ],
      "text/markdown": [
       "\n",
       "|  | 0.1041661 | \n",
       "| x1 | 0.5019225 | \n",
       "| x2 | 0.2163809 | \n",
       "\n",
       "\n"
      ],
      "text/plain": [
       "   [,1]     \n",
       "   0.1041661\n",
       "x1 0.5019225\n",
       "x2 0.2163809"
      ]
     },
     "metadata": {},
     "output_type": "display_data"
    }
   ],
   "source": [
    "data = data.matrix(df)\n",
    "Y = data[,1]\n",
    "X = cbind(rep(1, ), data[, 2:3])\n",
    "\n",
    "reg = function(Y, X){solve(t(X)%*%X)%*%t(X)%*%Y}\n",
    "res = function(Y, X){Y - X%*%reg(Y, X)}\n",
    "\n",
    "b.hat = reg(Y, X)\n",
    "b.hat"
   ]
  },
  {
   "cell_type": "markdown",
   "metadata": {},
   "source": [
    "Next we will reproduce the (robust) standard error. \n",
    "\n",
    "- Recall from previous lessons that\n",
    "$$\n",
    "\\sqrt{N}(\\hat{\\beta}_N - \\beta) \\overset{d}{\\to} \\mathcal{N}(0, V)\n",
    "$$\n",
    "where $V = E[XX']^{-1}Var[XU]E[XX']^{-1}$ so that the sample counterpart to $V$ is\n",
    "$$\n",
    "\\hat{V}_N  = \\left(\\frac{1}{N}\\boldsymbol{X}'\\boldsymbol{X}\\right)^{-1}\\frac{1}{N}\\left(\\boldsymbol{X}'\\hat{\\Omega}\\boldsymbol{X}\\right)\\left(\\frac{1}{N}\\boldsymbol{X}'\\boldsymbol{X}\\right)^{-1} \n",
    "$$\n",
    "$$ = N\\left(\\boldsymbol{X}'\\boldsymbol{X}\\right)^{-1}\\left(\\boldsymbol{X}'\\hat{\\Omega}\\boldsymbol{X}\\right)\\left(\\boldsymbol{X}'\\boldsymbol{X}\\right)^{-1}\n",
    "$$\n",
    "where $\\hat{\\Omega}_N$ is an $N\\times N$ diagonal matrix\n",
    "$$\n",
    "\\hat{\\Omega} =\n",
    "\\begin{pmatrix}\n",
    "\\hat{U}_1^2 & 0 & \\cdots & \\cdots & 0 \\\\\n",
    "0 & \\hat{U}_2^2 & 0 & \\cdots & 0 \\\\\n",
    "\\vdots & 0 & \\ddots & \\vdots & \\vdots \\\\\n",
    "\\vdots & \\vdots & \\vdots & \\ddots & \\vdots \\\\\n",
    "0 & \\cdots & \\cdots & 0 & \\hat{U}_N^2 \n",
    "\\end{pmatrix}\n",
    "$$\n",
    "Thus, estimated variance of $\\hat{\\beta}_N$ is $\\frac{\\hat{V}_N}{N}$.\n",
    "- Note: Stata calculates an unbiased version of the variance that corrects for degrees of freedom by estimating $Var[X_iU_i]$ with $\\frac{1}{N-(K+1)}\\boldsymbol{X}'\\hat{\\Omega}\\boldsymbol{X}$ instead of $\\frac{1}{N}\\boldsymbol{X}'\\hat{\\Omega}\\boldsymbol{X}$, where $K$ is the number of regressors (excluding the constant). We will not do this bias correction below so that we match the standard errors of R's output using the type=\"HC\""
   ]
  },
  {
   "cell_type": "code",
   "execution_count": 3,
   "metadata": {},
   "outputs": [
    {
     "data": {
      "text/html": [
       "<dl class=dl-horizontal>\n",
       "\t<dt>1</dt>\n",
       "\t\t<dd>1.43118741219674</dd>\n",
       "\t<dt>x1</dt>\n",
       "\t\t<dd>0.293869888206802</dd>\n",
       "\t<dt>x2</dt>\n",
       "\t\t<dd>0.140879465958184</dd>\n",
       "</dl>\n"
      ],
      "text/latex": [
       "\\begin{description*}\n",
       "\\item[1] 1.43118741219674\n",
       "\\item[x1] 0.293869888206802\n",
       "\\item[x2] 0.140879465958184\n",
       "\\end{description*}\n"
      ],
      "text/markdown": [
       "1\n",
       ":   1.43118741219674x1\n",
       ":   0.293869888206802x2\n",
       ":   0.140879465958184\n",
       "\n"
      ],
      "text/plain": [
       "                 x1        x2 \n",
       "1.4311874 0.2938699 0.1408795 "
      ]
     },
     "metadata": {},
     "output_type": "display_data"
    }
   ],
   "source": [
    "U.hat = res(Y, X)\n",
    "\n",
    "# Multiplying row in X by corresponding element in U.hat\n",
    "XU = sweep(X, MARGIN=1, U.hat, `*`)\n",
    "\n",
    "# Calculating variance matrix\n",
    "V = N*solve(t(X)%*%X)%*%t(XU)%*%XU%*%solve(t(X)%*%X)\n",
    "# V = (N^2/(N-K))*solve(t(X)%*%X)%*%t(XU)%*%XU%*%solve(t(X)%*%X)\n",
    "se = sqrt(diag(V)/N)\n",
    "se"
   ]
  },
  {
   "cell_type": "markdown",
   "metadata": {},
   "source": [
    "Now the t-statistics."
   ]
  },
  {
   "cell_type": "code",
   "execution_count": 4,
   "metadata": {},
   "outputs": [
    {
     "data": {
      "text/html": [
       "<table>\n",
       "<tbody>\n",
       "\t<tr><th scope=row></th><td>0.07278296</td></tr>\n",
       "\t<tr><th scope=row>x1</th><td>1.70797541</td></tr>\n",
       "\t<tr><th scope=row>x2</th><td>1.53592934</td></tr>\n",
       "</tbody>\n",
       "</table>\n"
      ],
      "text/latex": [
       "\\begin{tabular}{r|l}\n",
       "\t & 0.07278296\\\\\n",
       "\tx1 & 1.70797541\\\\\n",
       "\tx2 & 1.53592934\\\\\n",
       "\\end{tabular}\n"
      ],
      "text/markdown": [
       "\n",
       "|  | 0.07278296 | \n",
       "| x1 | 1.70797541 | \n",
       "| x2 | 1.53592934 | \n",
       "\n",
       "\n"
      ],
      "text/plain": [
       "   [,1]      \n",
       "   0.07278296\n",
       "x1 1.70797541\n",
       "x2 1.53592934"
      ]
     },
     "metadata": {},
     "output_type": "display_data"
    }
   ],
   "source": [
    "t.stats = b.hat/se\n",
    "t.stats"
   ]
  },
  {
   "cell_type": "markdown",
   "metadata": {},
   "source": [
    "And the p-values. By default, R uses a t-distribution (instead of a normal distribution, as we derived in class) with $N-K-1$ degrees of freedom. The answers won't change much if you use a normal cdf instead."
   ]
  },
  {
   "cell_type": "code",
   "execution_count": 5,
   "metadata": {},
   "outputs": [
    {
     "data": {
      "text/html": [
       "<table>\n",
       "<tbody>\n",
       "\t<tr><th scope=row></th><td>0.9440149</td></tr>\n",
       "\t<tr><th scope=row>x1</th><td>0.1313962</td></tr>\n",
       "\t<tr><th scope=row>x2</th><td>0.1684344</td></tr>\n",
       "</tbody>\n",
       "</table>\n"
      ],
      "text/latex": [
       "\\begin{tabular}{r|l}\n",
       "\t & 0.9440149\\\\\n",
       "\tx1 & 0.1313962\\\\\n",
       "\tx2 & 0.1684344\\\\\n",
       "\\end{tabular}\n"
      ],
      "text/markdown": [
       "\n",
       "|  | 0.9440149 | \n",
       "| x1 | 0.1313962 | \n",
       "| x2 | 0.1684344 | \n",
       "\n",
       "\n"
      ],
      "text/plain": [
       "   [,1]     \n",
       "   0.9440149\n",
       "x1 0.1313962\n",
       "x2 0.1684344"
      ]
     },
     "metadata": {},
     "output_type": "display_data"
    }
   ],
   "source": [
    "2*(1 - pt(t.stats, df=N-K-1))"
   ]
  },
  {
   "cell_type": "markdown",
   "metadata": {},
   "source": [
    "You can also perform a chi-squared test or F-test."
   ]
  },
  {
   "cell_type": "code",
   "execution_count": 6,
   "metadata": {},
   "outputs": [
    {
     "data": {
      "text/html": [
       "<ol class=list-inline>\n",
       "\t<li>11.4865436698001</li>\n",
       "\t<li>0.00615577819376534</li>\n",
       "</ol>\n"
      ],
      "text/latex": [
       "\\begin{enumerate*}\n",
       "\\item 11.4865436698001\n",
       "\\item 0.00615577819376534\n",
       "\\end{enumerate*}\n"
      ],
      "text/markdown": [
       "1. 11.4865436698001\n",
       "2. 0.00615577819376534\n",
       "\n",
       "\n"
      ],
      "text/plain": [
       "[1] 11.486543670  0.006155778"
      ]
     },
     "metadata": {},
     "output_type": "display_data"
    }
   ],
   "source": [
    "R = rbind(c(0, 1, 0), c(0, 0, 1))\n",
    "q = dim(R)[1]\n",
    "f.stat = N*t(R%*%b.hat)%*%solve(R%*%V%*%t(R))%*%(R%*%b.hat)/q\n",
    "p.val = 1 - pf(f.stat, df1=q, df2=N-K-1)\n",
    "c(f.stat, p.val)"
   ]
  },
  {
   "cell_type": "markdown",
   "metadata": {},
   "source": [
    "# Reproducing a Regression Table (Homoskedastic Variance)\n",
    "The default behavior in R's `lm` function is to perform statistics of OLS using homoskedastic variance. These errors assume that $E[U^2|X] = E[U^2]$. This will imply that\n",
    "$$\n",
    "V = E[XX']^{-1}Var[XU]E[XX']^{-1} = E[XX']^{-1}E[XX']E[U^2]E[XX']^{-1} = E[U^2]E[XX']^{-1}\n",
    "$$\n",
    "and therefore that\n",
    "$$\n",
    "\\hat{V}_N = (\\boldsymbol{X}'\\boldsymbol{X})^{-1}\\sum_{i=1}^N\\hat{U}_i^2.\n",
    "$$\n",
    "We will use this new estimate of the variance matix to compute what R produces without manually calculating the robust version. The default behavior in R is to also use the bias corrected version of the homoskedastic variance, which we will also reproduce below."
   ]
  },
  {
   "cell_type": "code",
   "execution_count": 7,
   "metadata": {},
   "outputs": [
    {
     "data": {
      "text/plain": [
       "\n",
       "Call:\n",
       "lm(formula = y ~ x1 + x2, data = df)\n",
       "\n",
       "Residuals:\n",
       "    Min      1Q  Median      3Q     Max \n",
       "-5.8660 -1.3894  0.2755  1.7407  4.7704 \n",
       "\n",
       "Coefficients:\n",
       "            Estimate Std. Error t value Pr(>|t|)\n",
       "(Intercept)   0.1042     2.6515   0.039    0.970\n",
       "x1            0.5019     0.2783   1.803    0.114\n",
       "x2            0.2164     0.1684   1.285    0.240\n",
       "\n",
       "Residual standard error: 3.856 on 7 degrees of freedom\n",
       "Multiple R-squared:  0.5426,\tAdjusted R-squared:  0.4119 \n",
       "F-statistic: 4.152 on 2 and 7 DF,  p-value: 0.06473\n"
      ]
     },
     "metadata": {},
     "output_type": "display_data"
    }
   ],
   "source": [
    "summary(fit)"
   ]
  },
  {
   "cell_type": "code",
   "execution_count": 8,
   "metadata": {},
   "outputs": [
    {
     "data": {
      "text/html": [
       "<dl class=dl-horizontal>\n",
       "\t<dt>1</dt>\n",
       "\t\t<dd>2.6515301938539</dd>\n",
       "\t<dt>x1</dt>\n",
       "\t\t<dd>0.27831914056934</dd>\n",
       "\t<dt>x2</dt>\n",
       "\t\t<dd>0.168408931787342</dd>\n",
       "</dl>\n"
      ],
      "text/latex": [
       "\\begin{description*}\n",
       "\\item[1] 2.6515301938539\n",
       "\\item[x1] 0.27831914056934\n",
       "\\item[x2] 0.168408931787342\n",
       "\\end{description*}\n"
      ],
      "text/markdown": [
       "1\n",
       ":   2.6515301938539x1\n",
       ":   0.27831914056934x2\n",
       ":   0.168408931787342\n",
       "\n"
      ],
      "text/plain": [
       "                 x1        x2 \n",
       "2.6515302 0.2783191 0.1684089 "
      ]
     },
     "metadata": {},
     "output_type": "display_data"
    }
   ],
   "source": [
    "V.hom = (N/(N-K-1))*solve(t(X)%*%X)*sum(U.hat^2)\n",
    "se = sqrt(diag(V.hom)/N)\n",
    "se"
   ]
  },
  {
   "cell_type": "markdown",
   "metadata": {},
   "source": [
    "t-statistics and p-values are calculated in a similar way."
   ]
  },
  {
   "cell_type": "code",
   "execution_count": 9,
   "metadata": {},
   "outputs": [
    {
     "data": {
      "text/html": [
       "<table>\n",
       "<tbody>\n",
       "\t<tr><th scope=row></th><td>0.03928526</td></tr>\n",
       "\t<tr><th scope=row>x1</th><td>1.80340648</td></tr>\n",
       "\t<tr><th scope=row>x2</th><td>1.28485409</td></tr>\n",
       "</tbody>\n",
       "</table>\n"
      ],
      "text/latex": [
       "\\begin{tabular}{r|l}\n",
       "\t & 0.03928526\\\\\n",
       "\tx1 & 1.80340648\\\\\n",
       "\tx2 & 1.28485409\\\\\n",
       "\\end{tabular}\n"
      ],
      "text/markdown": [
       "\n",
       "|  | 0.03928526 | \n",
       "| x1 | 1.80340648 | \n",
       "| x2 | 1.28485409 | \n",
       "\n",
       "\n"
      ],
      "text/plain": [
       "   [,1]      \n",
       "   0.03928526\n",
       "x1 1.80340648\n",
       "x2 1.28485409"
      ]
     },
     "metadata": {},
     "output_type": "display_data"
    }
   ],
   "source": [
    "t.stats = b.hat/se\n",
    "t.stats"
   ]
  },
  {
   "cell_type": "code",
   "execution_count": 10,
   "metadata": {},
   "outputs": [
    {
     "data": {
      "text/html": [
       "<table>\n",
       "<tbody>\n",
       "\t<tr><th scope=row></th><td>0.9697599</td></tr>\n",
       "\t<tr><th scope=row>x1</th><td>0.1143131</td></tr>\n",
       "\t<tr><th scope=row>x2</th><td>0.2397226</td></tr>\n",
       "</tbody>\n",
       "</table>\n"
      ],
      "text/latex": [
       "\\begin{tabular}{r|l}\n",
       "\t & 0.9697599\\\\\n",
       "\tx1 & 0.1143131\\\\\n",
       "\tx2 & 0.2397226\\\\\n",
       "\\end{tabular}\n"
      ],
      "text/markdown": [
       "\n",
       "|  | 0.9697599 | \n",
       "| x1 | 0.1143131 | \n",
       "| x2 | 0.2397226 | \n",
       "\n",
       "\n"
      ],
      "text/plain": [
       "   [,1]     \n",
       "   0.9697599\n",
       "x1 0.1143131\n",
       "x2 0.2397226"
      ]
     },
     "metadata": {},
     "output_type": "display_data"
    }
   ],
   "source": [
    "p.vals = 2*(1 - pt(t.stats, df=N-K-1))\n",
    "p.vals"
   ]
  },
  {
   "cell_type": "code",
   "execution_count": 11,
   "metadata": {},
   "outputs": [
    {
     "data": {
      "text/html": [
       "<ol class=list-inline>\n",
       "\t<li>4.15172143987022</li>\n",
       "\t<li>0.0647263513022056</li>\n",
       "</ol>\n"
      ],
      "text/latex": [
       "\\begin{enumerate*}\n",
       "\\item 4.15172143987022\n",
       "\\item 0.0647263513022056\n",
       "\\end{enumerate*}\n"
      ],
      "text/markdown": [
       "1. 4.15172143987022\n",
       "2. 0.0647263513022056\n",
       "\n",
       "\n"
      ],
      "text/plain": [
       "[1] 4.15172144 0.06472635"
      ]
     },
     "metadata": {},
     "output_type": "display_data"
    }
   ],
   "source": [
    "f.stat = N*t(R%*%b.hat)%*%solve(R%*%V.hom%*%t(R))%*%(R%*%b.hat)/q\n",
    "p.val = 1 - pf(f.stat, df1=q, df2=N-K-1)\n",
    "c(f.stat, p.val)"
   ]
  },
  {
   "cell_type": "markdown",
   "metadata": {},
   "source": [
    "You can also calculate the R-squared."
   ]
  },
  {
   "cell_type": "code",
   "execution_count": 12,
   "metadata": {},
   "outputs": [
    {
     "data": {
      "text/html": [
       "0.542586589500916"
      ],
      "text/latex": [
       "0.542586589500916"
      ],
      "text/markdown": [
       "0.542586589500916"
      ],
      "text/plain": [
       "[1] 0.5425866"
      ]
     },
     "metadata": {},
     "output_type": "display_data"
    }
   ],
   "source": [
    "R2 = 1 - sum(U.hat^2)/sum((Y - mean(Y))^2)\n",
    "R2"
   ]
  },
  {
   "cell_type": "markdown",
   "metadata": {},
   "source": [
    "And using the $R^2$, in the homoskedastic case you can also get the F-statistic."
   ]
  },
  {
   "cell_type": "code",
   "execution_count": 13,
   "metadata": {},
   "outputs": [
    {
     "data": {
      "text/html": [
       "4.15172143987023"
      ],
      "text/latex": [
       "4.15172143987023"
      ],
      "text/markdown": [
       "4.15172143987023"
      ],
      "text/plain": [
       "[1] 4.151721"
      ]
     },
     "metadata": {},
     "output_type": "display_data"
    }
   ],
   "source": [
    "f.stat = ((R2)/(1-R2))*((N-K-1)/q)\n",
    "f.stat"
   ]
  }
 ],
 "metadata": {
  "kernelspec": {
   "display_name": "R",
   "language": "R",
   "name": "ir"
  },
  "language_info": {
   "codemirror_mode": "r",
   "file_extension": ".r",
   "mimetype": "text/x-r-source",
   "name": "R",
   "pygments_lexer": "r",
   "version": "3.2.3"
  }
 },
 "nbformat": 4,
 "nbformat_minor": 2
}
