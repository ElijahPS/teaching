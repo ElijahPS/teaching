{
 "cells": [
  {
   "cell_type": "markdown",
   "metadata": {},
   "source": [
    "# Toward a Further Understanding of the Relationship Between Variables\n",
    "We've reviewed all the tools in statistics we need to push further into new territory. But before we start to apply this knowledge toward learning about the economic forces generating the data, we need to further develop our understanding of how statistics describes the relationship between variables. Economics describes the structural dependence between variables whereas statistics describes distributional dependence. Econometrics as about how to utilize statistics or distributional dependence to understand structural dependence. But more on this later. For now, let's retreat to the more familiar domain of statistics and distributional dependence.\n",
    "\n",
    "We've seen a few concepts that measure this dependence, including conditional means and covariance. We will elaborate further on these concepts as we proceed to regression analysis."
   ]
  },
  {
   "cell_type": "markdown",
   "metadata": {},
   "source": [
    "# Regression\n",
    "There is plenty of confusion about what regression actually means. It is sometimes referred to as any study of the conditional distribution of a variable $Y$ and a single or vector of (independent) variables $X$. This could include how the quantiles of $Y$ change with $X$. But for this class, regression analysis will be the study of the conditional mean $E[Y|X=x]$, that is, how the mean or expectation of $Y$ changes for different realizations of the random variable $X$.\n",
    "\n",
    "We've already discussed that $E[Y|X=x]$ is just a function of $x$. We can denote this function $f(x)$ and call it the regression function."
   ]
  },
  {
   "cell_type": "markdown",
   "metadata": {},
   "source": [
    "# Linear Regression\n",
    "Linear regression can equivalently be thought of as \"the best linear predictor of Y given $X$,\" or the best linear approximation to $E[Y|X=x]$. In what sense is it best? We can define this best approximation as $g(x) = \\beta_0 + \\beta_1x$ where $\\beta_0$ and $\\beta_1$ are\n",
    "$$\n",
    "(\\beta_0,\\beta_1)  = \\text{arg}\\min_{b_0,b_1}E_X\\big[\\big(E[Y|X] - (b_0 + b_1X)\\big)^2\\big]\n",
    "$$\n",
    "$$\n",
    "= \\text{arg}\\min_{b_0,b_1}E\\big[\\big(Y - (b_0 + b_1X)\\big)^2\\big]\n",
    "$$\n",
    "where the second equality follows by working out the first equality. So what exactly are $\\beta_0$ and $\\beta_1$ in terms of concepts we already know? Let's take FOCs of the second optimization problem. The FOC with respect to $b_1$ and evaluated at $(b_0,b_1)=(\\beta_0,\\beta_1)$ is\n",
    "$$\n",
    "2E\\big[X\\big(Y - (\\beta_0 + \\beta_1X)\\big)\\big] = 0\n",
    "$$\n",
    "$$\n",
    "\\implies  E[XY - \\beta_0X - \\beta_1X^2] = 0\n",
    "$$\n",
    "$$\n",
    "\\implies  \\beta_1 = \\frac{E[XY] - \\beta_0E[X]}{E[X^2]}\n",
    "$$\n",
    "and the FOC for $b_0$ and evaluated at $(b_0,b_1)=(\\beta_0,\\beta_1)$ is\n",
    "$$\n",
    "E[Y - \\beta_0 - \\beta_1X] = 0\n",
    "$$\n",
    "$$\n",
    "\\implies  \\beta_0 = E[Y] - \\beta_1E[X]\n",
    "$$\n",
    "and inserting this expression for $\\beta_0$ in the expression for $\\beta_1$ we obtain\n",
    "$$\n",
    "\\beta_1  = \\frac{E[XY] - \\left(E[Y] - \\beta_1E[X]\\right)E[X]}{E[X^2]}\n",
    "$$\n",
    "$$\n",
    "= \\frac{E[XY] - E[Y]E[X] + \\beta_1E[X]^2}{E[X^2]}\n",
    "$$\n",
    "$$\n",
    "\\implies \\beta_1  = \\frac{E[XY] - E[Y]E[X]}{E[X^2] - E[X]^2} = \\frac{Cov[X,Y]}{Var[X]},\n",
    "$$\n",
    "which is a nice expression which shows that the linear relationship between the mean of $Y$ and $X$ has a slope proportional to the covariance between the two. Thus, the covariance has a direct link to understanding the linear relationship between $Y$ and $X$. We will denote $\\beta_0 + \\beta_1X$ as $BLP(Y|X)$ and refer to this as the best linear predictor."
   ]
  },
  {
   "cell_type": "markdown",
   "metadata": {},
   "source": [
    "## Properties of the BLP\n",
    "1. From the FOC, $E[X(Y-BLP(Y|X))] = 0$. We may sometimes define the regression residual $U=Y-BLP(Y|X)$. Thus, this condition is equivalent to $E[XU]=0$.\n",
    "2. $BLP(Y|X)=\\beta_0 + \\beta_1X$ is a linear function of $X$, and is therefore a random variable."
   ]
  },
  {
   "cell_type": "markdown",
   "metadata": {},
   "source": [
    "# Regression using Matrix Notation\n",
    "As brief aside, we'll sometimes find it useful to write everything in matrix notation. Actually, because of the ubiquity of computer use in the profession nowadays, its essential that we introduce matrix notation sooner, because the way we will work on our computers is to use vectors and matrices to represent our data.\n",
    "\n",
    "Suppose we grouped everything, denoting the random variable $X$ with $X_1$ and redefining $X$ as the random vector $X=(1,X_1)'$ so that $X$ is now a $2\\times 1$ (2 rows, 1 column) vector and define $\\beta = (\\beta_0, \\beta_1)'$ so $\\beta$ is also a $2\\times 1$ vector. In this class, we will always think of a vector as a column vector, meaning a $K\\times 1$ matrix. This should help you remember dimensions.\n",
    "\n",
    "By writing $X'$ we mean the transpose of $X$. The transpose of $X$ is a $1\\times 2$ vector. Define $b=(b_0, b_1)'$ and $\\hat{\\beta}_N$ similarly. Then we can write $\\beta_0 + \\beta_1X_1$ in matrix notation as $X'\\beta$ in our new notation. Then our maximization problem from above would look like\n",
    "$$\n",
    "\\max_bE[(Y - X'b)^2]\n",
    "$$\n",
    "and our FOCs could be very simply written as\n",
    "$$\n",
    "0 = E[X(Y - X'b)] =\n",
    "\\begin{pmatrix}\n",
    "E[1\\cdot(Y - X'b)] \\\\ E[X_1(Y - X'b)]\n",
    "\\end{pmatrix} =\n",
    "\\begin{pmatrix}\n",
    "E[1\\cdot(Y - b_0 - b_1X_1)] \\\\ E[X_1(Y - b_0 - b_1X_1)].\n",
    "\\end{pmatrix}\n",
    "$$\n",
    "What is nice about matrix notation is that we can write the solution with much greater ease. Taking the FOCs above and using $\\beta$ in place of $b$, we have\n",
    "$$\n",
    "0  = E[X(Y - X'\\beta)] = E[XY] - E[XX']\\beta \\implies \\beta = E[XX']^{-1}E[XY]\n",
    "$$\n",
    "$$ = \\begin{pmatrix}\n",
    "E[1^2] & E[1\\cdot X_1] \\\\\n",
    "E[X_1\\cdot 1] & E[X_1^2]\n",
    "\\end{pmatrix}^{-1}\n",
    "\\begin{pmatrix}\n",
    "E[1\\cdot Y] \\\\ E[X_1Y]\n",
    "\\end{pmatrix},\n",
    "$$\n",
    "which can readily be expressed to look like the solution we obtained above for $\\beta_0$ and $\\beta_1$.\n",
    "- Note that we could have just as readily defined $X$ as an arbitrary $K\\times 1$ random vector $X=(X_1,X_2,...,X_K)'$ and the above matrix notation would be exactly the same."
   ]
  },
  {
   "cell_type": "markdown",
   "metadata": {},
   "source": [
    "## Conditions Required for Regression\n",
    "1. Invertibility of $E[XX']$. $E[XX']$ is a $2\\times 2$ matrix and we need to be able to invert it! $E[XX']$ is invertible if and only if $X$ has no perfect collinearity, i.e., $\\nexists$ a non-zero  vector $c\\in\\boldsymbol{R}^2$ such that $P(X'c = 0)=1$. This is just a mathy way of saying that the components of $X$ can't be linear combinations of one another for \"everyone.\" In our example with $X=(1, X_1)$, this means that there is some variation in $X_1$, i.e., $Var[X_1]>0$. You can get this result by using the fact that the determinant of an invertible matrix is non-zero, and $det(E[XX'])=Var[X_1]$.\n",
    "\n",
    "### Looking closer at invertibility\n",
    "Why is no perfect collinearity equivalent to invertibility of $E[XX']$? Recall that a matrix is invertible if and only if it is positive definite and symmetric. $E[XX']$ is clearly symmetric. So $E[XX']$ is invertible if and only if it is positive definite. A matrix $M$ is positive definite if for all $c\\neq 0$, $c'Mc>0$. In the case of $E[XX']$ this means that $c'E[XX']c>0$ for all $c\\neq 0$. Let's see if we can show the equivalence between this case and our definition of no perfect collinearity.\n",
    "\n",
    "**Proof.** $\\rightarrow$. Suppose we have no perfect collinearity in $X$. Then there does not exist $c\\neq 0$ such that $P(X'c=0)=1$. Therefore, for all $c\\neq 0$, $P(X'c=0)<1$. Therefore, $P(X'c\\neq 0)>0$. Then, using that $c'E[XX']c=E[c'XX'c]$, it must be that $E[c'XX'c]>0$ since $c'XX'c\\geq 0$ (this is just a sum of squares) and $P(X'c\\neq 0)>0$. $\\leftarrow$ Now suppose $E[XX']$ is invertible. Then it is positive definite and symmetric. Thus, for all $c\\neq 0$, $c'E[XX']c>0$. Furthermore, $E[c'XX'c]>0$. But since $c'XX'c\\geq 0$, in order for the strict inequality to hold, we must have $P(X'c\\neq 0) > 0$. Therefore, $P(X'c=0)<1$ for $c\\neq 0$. Or, $\\nexists c$ such that $P(X'c=0)=1$.\n",
    "\n",
    "### Equivalent conditions for invertibility\n",
    "Suppose $W$ is a square, $K\\times K$ matrix. The following conditions are equivalent to $W$ being invertible.\n",
    "1. If we further assume that $W$ is symmetric, then $W$ is invertible if and only if it is positive definite, where positive definite means for all $c\\neq 0$, $c'Wc>0$.\n",
    "2. $W$ has non-vanishing determinant, i.e., $det(W)\\neq 0$\n",
    "3. All eigenvalues of $W$ are positive, where an eigenvalue $\\lambda$ is such that $Wc=\\lambda c$ for some $c\\neq 0$. \n",
    "4. $rank(W)=row(W)=col(W)=K$, where $row(\\cdot)$ and $col(\\cdot)$ denote the dimension of the row and column spaces (i.e., the number of linearly independent rows and columns), respectively. These are sometimes called the row or column ranks of the matrix. This condition is sometimes called \"the full rank condition.\"\n",
    "\n",
    "To understand invertibility of matrices, it is important to first remember the definition of invertibility for a function and then to notice that matrices can be considered linear mappings (i.e., linear functions). The intuition of invertibility of a matrix follows from recalling that a linear function is invertible if it is a bijective linear mapping. When a matrix is square and has full rank, then it is a bijective linear mapping, and therefore has an inverse.\n",
    "\n",
    "Why is a matrix is linear mapping? Consider a $N\\times K$ matrix $W$. You can take any vector $c$ of length $N$ and right multiply it by $W$ to obtain a vector of length $K$, e.g, $c'W = v$ for some $N\\times 1$ vector $c$ and $K\\times 1$ vector $v$. Thus, $W$ just represents a function $f:\\boldsymbol{R}^N\\to\\boldsymbol{R}^K$. In order for $f$ to be bijective, it needs to be one-to-one and onto, which translates into the matrix $W$ representing $f$ to be square and have columns/rows that are linearly independent.\n",
    "\n",
    "### Quick example of non-invertibility\n",
    "Let $X=(1,X_1,X_2)'$ where $X_1$ takes on a value of 1 if male and 0 if female and $X_2$ takes a value of 1 if female and 0 if male. Thus, you can interpret $X_1$ as a binary indicator for male and $X_2$ as a binary indicator for female. Let $c=(-1, 1, 1)'$. Then $X'c=-1 + X_1 + X_2$ but since $X_1=1-X_2$, then $X'c = -1 + (1-X_2) + X_2 = 0$. Thus, we have shown $\\exists$ c such that $P(X'c=0)=1$, and there is perfect collinearity in $X$. Therefore $E[XX']$ is not invertible."
   ]
  },
  {
   "cell_type": "markdown",
   "metadata": {},
   "source": [
    "## Estimators of the Linear Regression Function\n",
    "Now how would we go about finding estimators for $\\beta_0$ and $\\beta_1$? Going back to our lesson on constructing estimators, we learned three approaches: replacing population moments with their sample counterparts, least squares and maximum likelihood. We noticed that all three approaches happened to achieve the same results. We will obtain similar results when estimating the linear regression function."
   ]
  },
  {
   "cell_type": "markdown",
   "metadata": {},
   "source": [
    "### Using Sample Moments as Estimates of Population Moments\n",
    "Then we obtain estimators\n",
    "$$\n",
    "\\hat{\\beta}_{1,N}  = \\frac{\\frac{1}{N}\\sum_{i=1}^N(Y_i - \\bar{Y}_N)(X_i - \\bar{X}_N)}{\\frac{1}{N}\\sum_{i=1}^N(X_i - \\bar{X}_N)^2} = \\frac{\\hat{\\sigma}_{XY}}{\\hat{\\sigma}_X^2}\n",
    "$$\n",
    "$$\n",
    "\\hat{\\beta}_{0,N}  = \\bar{Y}_N - \\hat{\\beta}_{1,N}\\bar{X}_N.\n",
    "$$\n",
    "We next show that using least squares we obtain the same result as above."
   ]
  },
  {
   "cell_type": "markdown",
   "metadata": {},
   "source": [
    "### The Ordinary Least Squares (OLS) Estimator\n",
    "Suppose we have a sample of data $(Y_i,X_i)_{i=1}^N$. Similar to our previous experience with least squares, let's solve the following problem:\n",
    "$$\n",
    "\\min_{b_0,b_1}\\sum_{i=1}^N\\big(Y_i - (b_0 + b_1X_i)\\big)^2.\n",
    "$$\n",
    "Taking FOCs w.r.t $b_0$ and $b_1$ and letting $\\hat{\\beta}_{0,N}$ and $\\hat{\\beta}_{1,N}$ denote our estimators, we have\n",
    "$$\n",
    "2\\sum_{i=1}^NX_i(Y_i - \\hat{\\beta}_{0,N} - \\hat{\\beta}_{1,N}X_i) = 0\n",
    "$$\n",
    "$$\n",
    "\\sum_{i=1}^N(Y_i - \\hat{\\beta}_{0,N} - \\hat{\\beta}_{1,N}X_i) = 0,\n",
    "$$\n",
    "which, solving for $\\hat{\\beta}_{0,N}$ and $\\hat{\\beta}_{1,N}$ we obtain\n",
    "$$\n",
    "\\hat{\\beta}_{1,N} = \\frac{\\frac{1}{N}\\sum_{i=1}^N(Y_i - \\bar{Y}_N)(X_i - \\bar{X}_N)}{\\frac{1}{N}\\sum_{i=1}^N(X_i - \\bar{X}_N)^2} = \\frac{\\hat{\\sigma}_{XY}}{\\hat{\\sigma}_X^2}\n",
    "$$\n",
    "$$\n",
    "\\hat{\\beta}_{0,N} = \\bar{Y}_N - \\hat{\\beta}_{1,N}\\bar{X}_N.\n",
    "$$\n",
    "which is exactly what we got by replacing sample moments for their population counterparts in the expressions for $\\beta_0$ and $\\beta_1$. "
   ]
  },
  {
   "cell_type": "markdown",
   "metadata": {},
   "source": [
    "### The OLS Estimator using Matrix Notation\n",
    "\n",
    "Just as we did above to define $\\beta$, we can now define $\\hat{\\beta}_N$ using matrix algebra. Denote $X_i=(1, X_{1,i})'$ as a $2\\times 1$ vector. Our problem is to solve\n",
    "$$\n",
    "\\min_b\\sum_{i=1}^N(Y_i - X_i'b)^2\n",
    "$$\n",
    "Taking FOCs and taking $\\hat{\\beta}_N$ as our maximizer, we obtain\n",
    "$$\n",
    "0  = \\sum_{i=1}^NX_i(Y_i - X_i'\\hat{\\beta}_N) = \\sum_{i=1}^NX_iY_i - \\sum_{i=1}^NX_iX_i'\\hat{\\beta}_N\n",
    "$$\n",
    "$$\n",
    "\\implies \\hat{\\beta}_N  = \\left(\\sum_{i=1}^NX_iX_i'\\right)^{-1}\\sum_{i=1}^NX_iY_i\n",
    "$$\n",
    "$$ = \\begin{pmatrix}\n",
    "\\sum_{i=1}^N1^2 & \\sum_{i=1}^NX_{1,i} \\\\\n",
    "\\sum_{i=1}^NX_{1,i} & \\sum_{i=1}X_{1,i}^2\n",
    "\\end{pmatrix}^{-1}\n",
    "\\begin{pmatrix}\n",
    "\\sum_{i=1}^NY_i \\\\ \\sum_{i=1}^NX_{1,i}Y_i.\n",
    "\\end{pmatrix}\n",
    "$$\n",
    "We can show that we obtain the same answer as above for $\\hat{\\beta}_{0,N}$ and $\\hat{\\beta}_{1,N}$\n",
    "\n",
    "#### Sample Conditions for Regression Estimation\n",
    "1. $\\sum_{i=1}^NX_iX_i'$ must be invertible! In order to be invertible, we must have no perfect collinearity in $X_i$. In practice, when we use actual realizations of $X_i$ (i.e., data) then we just need that there are at least two unique values of $X_{1,i}$ in the data (otherwise $X_{1,i}$ would be perfectly collinear with a constant!)"
   ]
  },
  {
   "cell_type": "markdown",
   "metadata": {},
   "source": [
    "### The OLS Estimator Using (Super) Matrix Notation\n",
    "A well versed student of linear algebra would look at what we did above and think we could go one step further. Indeed, we can. Now let $\\boldsymbol{X}$ denote an $N\\times K$ matrix where each row $i$ is $X_i'=(1, X_{1,i})$. Let $\\boldsymbol{Y}$ denote an $N\\times 1$ vector.\n",
    "\n",
    "We talked previously how matrix notation can be useful because we will write code that utilizes matrices and vectors. This is especially true with our (super) matrix notation. Below you'll see that writing computer code that estimates linear regression parameters using OLS will be surprisingly simple! An important note: in this class, we will always think of matrices as having the number of observations $N$ as the number of rows.\n",
    "\n",
    "Our least squares optimization problem now looks like\n",
    "$$\n",
    "\\min_b (\\boldsymbol{Y}-\\boldsymbol{X}b)'(\\boldsymbol{Y}-\\boldsymbol{X}b)\n",
    "$$\n",
    "Taking FOCs we obtain\n",
    "$$\n",
    "0 = \\boldsymbol{X}'(\\boldsymbol{Y} - \\boldsymbol{X}\\hat{\\beta}_N)\n",
    "$$\n",
    "$$\n",
    "\\implies \\hat{\\beta}_N = (\\boldsymbol{X}'\\boldsymbol{X})^{-1}\\boldsymbol{X}'\\boldsymbol{Y}\n",
    "$$\n",
    "$$\n",
    "= \\left(\n",
    "\\begin{pmatrix}\n",
    "1 & 1 & \\cdots & 1 \\\\\n",
    "X_{1,1} & X_{1,2} & \\cdots & X_{1,N}\n",
    "\\end{pmatrix}\n",
    "\\begin{pmatrix}\n",
    "1 & X_{1,1} \\\\\n",
    "1 & X_{1,2} \\\\\n",
    "\\vdots & \\vdots \\\\\n",
    "1 & X_{1, N}\n",
    "\\end{pmatrix}\n",
    "\\right)^{-1}\n",
    "\\begin{pmatrix}\n",
    "1 & 1 & \\cdots & 1 \\\\\n",
    "X_{1,1} & X_{1,2} & \\cdots & X_{1,N}\n",
    "\\end{pmatrix}\n",
    "\\begin{pmatrix}\n",
    "Y_1 \\\\ Y_2 \\\\ \\vdots \\\\ Y_N\n",
    "\\end{pmatrix}\n",
    "$$\n",
    "$$ = \\begin{pmatrix}\n",
    "1 + 1 + \\cdots 1 & 1\\cdot X_{1,1} + 1\\cdot X_{1,2} + \\cdots 1\\cdot X_{1,N} \\\\\n",
    "1\\cdot X_{1,1} + 1\\cdot X_{1,2} + \\cdots 1\\cdot X_{1,N} & X_{1,1}^2 + X_{1,2}^2 + \\cdots X_{1,N}^2\n",
    "\\end{pmatrix}^{-1}\n",
    "\\begin{pmatrix}\n",
    "1\\cdot Y_1 + 1\\cdot Y_2 + \\cdots + 1\\cdot Y_N \\\\\n",
    "X_{1,1}Y_1 + X_{1,2}Y_2 + \\cdots + X_{1,N}Y_N\n",
    "\\end{pmatrix}\n",
    "$$\n",
    "$$ = \\begin{pmatrix}\n",
    "\\sum_{i=1}^N1^2 & \\sum_{i=1}^NX_{1,i} \\\\\n",
    "\\sum_{i=1}^NX_{1,i} & \\sum_{i=1}X_{1,i}^2\n",
    "\\end{pmatrix}^{-1}\n",
    "\\begin{pmatrix}\n",
    "\\sum_{i=1}^NY_i \\\\ \\sum_{i=1}^NX_{1,i}Y_i.\n",
    "\\end{pmatrix}\n",
    "$$\n",
    "\n",
    "#### Sample Conditions for Regression Estimation\n",
    "1. $\\boldsymbol{X}'\\boldsymbol{X} = \\sum_{i=1}^NX_iX_i'$ needs to be invertible, as before."
   ]
  },
  {
   "cell_type": "markdown",
   "metadata": {},
   "source": [
    "#### Checking for Invertibility\n",
    "Suppose I have a matrix $\\boldsymbol{X}$ of data:\n",
    "$$\n",
    "\\begin{pmatrix}\n",
    "1 & 1 \\\\\n",
    "1 & 2 \\\\\n",
    "1 & 4\n",
    "\\end{pmatrix},\n",
    "$$\n",
    "and I want to see if $\\boldsymbol{X}'\\boldsymbol{X}$ is invertible.\n",
    "\n",
    "##### Method 1: Is it full rank?\n",
    "Yes, it is full rank, i.e., $rank(\\boldsymbol{X})=2$, since you cannot write $(1,1,1)'$ as a linear combination of $(1,2,4)'$. To see why, suppose we can. Then $\\exists c\\neq 0$ such that $c(1,1,1)' = (1,2,4)'$. But this implies that $c=1$ and $c=2$, a contradiction.\n",
    "\n",
    "What about $\\boldsymbol{X}'\\boldsymbol{X}$? When we multiply this out\n",
    "$$\n",
    "\\boldsymbol{X}'\\boldsymbol{X} = \n",
    "\\begin{pmatrix}\n",
    "3 & 7 \\\\ 7 & 21\n",
    "\\end{pmatrix}.\n",
    "$$\n",
    "We can apply the same logic as above to show that the columns and rows of this matrix are also linearly independent. Therefore, we have satisfied the full rank condition and $\\boldsymbol{X}'\\boldsymbol{X}$ is invertible.\n",
    "\n",
    "##### Method 2: Non-vanishing determinant\n",
    "The determinant of a $2\\times 2$ matrix\n",
    "$$\n",
    "A = \\begin{pmatrix} a & b \\\\ c & d \\end{pmatrix}\n",
    "$$\n",
    "is $det(A)=ad - bc$. Thus, the determinant of $\\boldsymbol{X}'\\boldsymbol{X}$ is $3\\cdot21 - 7\\cdot 7 = 63-49=14\\neq 0$ so that the matrix is invertible. We can verify this in R."
   ]
  },
  {
   "cell_type": "code",
   "execution_count": 1,
   "metadata": {},
   "outputs": [
    {
     "data": {
      "text/html": [
       "14"
      ],
      "text/latex": [
       "14"
      ],
      "text/markdown": [
       "14"
      ],
      "text/plain": [
       "[1] 14"
      ]
     },
     "metadata": {},
     "output_type": "display_data"
    }
   ],
   "source": [
    "X = cbind(c(1, 1, 1),c(1, 2, 4))\n",
    "det(t(X)%*%X)"
   ]
  },
  {
   "cell_type": "markdown",
   "metadata": {},
   "source": [
    "##### Method 3: Non-zero Eigenvalues\n",
    "An eigenvalue $\\lambda$ of $\\boldsymbol{X}'\\boldsymbol{X}$ must satisfy the equation $\\boldsymbol{X}'\\boldsymbol{X}v = \\lambda v$ for some non-zero $v$. Therefore, $(I\\lambda - \\boldsymbol{X}'\\boldsymbol{X})v=0$ and the matrix $(I\\lambda - \\boldsymbol{X}'\\boldsymbol{X})$ is singular (i.e., not invertible) since $v\\neq 0$. Therefore $det(I\\lambda - \\boldsymbol{X}'\\boldsymbol{X})=0$ and one can solve for values of $\\lambda$ using this equation. In our example, \n",
    "$$\n",
    "(I\\lambda - \\boldsymbol{X}'\\boldsymbol{X}) = \n",
    "\\begin{pmatrix}\n",
    "\\lambda - 3 & -7 \\\\ -7 & \\lambda - 21\n",
    "\\end{pmatrix},\n",
    "$$\n",
    "so that by taking the determinant and setting equal to zero, we obtain $(\\lambda - 3)(\\lambda - 21) + 49 = 0$ or $\\lambda^2 - 24\\lambda + 14 = 0$. Thus, $\\lambda$ solves\n",
    "$$\n",
    "\\lambda = \\frac{24 \\pm \\sqrt{24^2 - 56}}{2}\n",
    "$$\n",
    "and therefore our eigenvalues are $\\lambda_1 = 12 + \\sqrt{520}/2\\approx 23.4$ and $\\lambda_2 = 12 - \\sqrt{520}/2\\approx 0.6$. We can confirm in R."
   ]
  },
  {
   "cell_type": "code",
   "execution_count": 2,
   "metadata": {},
   "outputs": [
    {
     "data": {
      "text/html": [
       "<dl>\n",
       "\t<dt>$values</dt>\n",
       "\t\t<dd><ol class=list-inline>\n",
       "\t<li>23.4017542509914</li>\n",
       "\t<li>0.59824574900862</li>\n",
       "</ol>\n",
       "</dd>\n",
       "\t<dt>$vectors</dt>\n",
       "\t\t<dd><table>\n",
       "<tbody>\n",
       "\t<tr><td>0.3245364 </td><td>-0.9458732</td></tr>\n",
       "\t<tr><td>0.9458732 </td><td> 0.3245364</td></tr>\n",
       "</tbody>\n",
       "</table>\n",
       "</dd>\n",
       "</dl>\n"
      ],
      "text/latex": [
       "\\begin{description}\n",
       "\\item[\\$values] \\begin{enumerate*}\n",
       "\\item 23.4017542509914\n",
       "\\item 0.59824574900862\n",
       "\\end{enumerate*}\n",
       "\n",
       "\\item[\\$vectors] \\begin{tabular}{ll}\n",
       "\t 0.3245364  & -0.9458732\\\\\n",
       "\t 0.9458732  &  0.3245364\\\\\n",
       "\\end{tabular}\n",
       "\n",
       "\\end{description}\n"
      ],
      "text/markdown": [
       "$values\n",
       ":   1. 23.4017542509914\n",
       "2. 0.59824574900862\n",
       "\n",
       "\n",
       "\n",
       "$vectors\n",
       ":   \n",
       "| 0.3245364  | -0.9458732 | \n",
       "| 0.9458732  |  0.3245364 | \n",
       "\n",
       "\n",
       "\n",
       "\n",
       "\n"
      ],
      "text/plain": [
       "$values\n",
       "[1] 23.4017543  0.5982457\n",
       "\n",
       "$vectors\n",
       "          [,1]       [,2]\n",
       "[1,] 0.3245364 -0.9458732\n",
       "[2,] 0.9458732  0.3245364\n"
      ]
     },
     "metadata": {},
     "output_type": "display_data"
    }
   ],
   "source": [
    "eigen(t(X)%*%X)"
   ]
  },
  {
   "cell_type": "markdown",
   "metadata": {},
   "source": [
    "Though we might be concerned that one of the eigenvalues is close to zero, the matrix is technically invertible."
   ]
  },
  {
   "cell_type": "markdown",
   "metadata": {},
   "source": [
    "## Estimating Your First Regression\n",
    "We will simulate data from a joint distribution of $X$ and $Y$ such that $\\beta_0=2$ and $\\beta_1=10$. Then we will see if our estimates of these regression parameters is close to the truth."
   ]
  },
  {
   "cell_type": "code",
   "execution_count": 3,
   "metadata": {},
   "outputs": [
    {
     "data": {
      "text/html": [
       "<table>\n",
       "<thead><tr><th scope=col>y</th><th scope=col></th><th scope=col>x</th></tr></thead>\n",
       "<tbody>\n",
       "\t<tr><td>28.10027</td><td>1       </td><td>3.030109</td></tr>\n",
       "\t<tr><td>44.11410</td><td>1       </td><td>4.243059</td></tr>\n",
       "\t<tr><td>19.10097</td><td>1       </td><td>2.470715</td></tr>\n",
       "\t<tr><td>27.46297</td><td>1       </td><td>2.409526</td></tr>\n",
       "\t<tr><td>31.40854</td><td>1       </td><td>2.908111</td></tr>\n",
       "</tbody>\n",
       "</table>\n"
      ],
      "text/latex": [
       "\\begin{tabular}{lll}\n",
       " y &  & x\\\\\n",
       "\\hline\n",
       "\t 28.10027 & 1        & 3.030109\\\\\n",
       "\t 44.11410 & 1        & 4.243059\\\\\n",
       "\t 19.10097 & 1        & 2.470715\\\\\n",
       "\t 27.46297 & 1        & 2.409526\\\\\n",
       "\t 31.40854 & 1        & 2.908111\\\\\n",
       "\\end{tabular}\n"
      ],
      "text/markdown": [
       "\n",
       "y |  | x | \n",
       "|---|---|---|---|---|\n",
       "| 28.10027 | 1        | 3.030109 | \n",
       "| 44.11410 | 1        | 4.243059 | \n",
       "| 19.10097 | 1        | 2.470715 | \n",
       "| 27.46297 | 1        | 2.409526 | \n",
       "| 31.40854 | 1        | 2.908111 | \n",
       "\n",
       "\n"
      ],
      "text/plain": [
       "     y          x       \n",
       "[1,] 28.10027 1 3.030109\n",
       "[2,] 44.11410 1 4.243059\n",
       "[3,] 19.10097 1 2.470715\n",
       "[4,] 27.46297 1 2.409526\n",
       "[5,] 31.40854 1 2.908111"
      ]
     },
     "metadata": {},
     "output_type": "display_data"
    }
   ],
   "source": [
    "sim_data = function(N, b0=2, b1=10, x.var=1, x.mean=3, noise.var=20){\n",
    "    \n",
    "    x = rnorm(N, mean=x.mean, sd=sqrt(x.var))\n",
    "    noise = rnorm(N, mean=0, sd=sqrt(noise.var))\n",
    "    y = b0 + b1*x + noise\n",
    "    \n",
    "    return(cbind(y, rep(1, N), x))\n",
    "}\n",
    "\n",
    "set.seed(210)\n",
    "data = sim_data(N=25)\n",
    "data[1:5,]"
   ]
  },
  {
   "cell_type": "code",
   "execution_count": 4,
   "metadata": {},
   "outputs": [
    {
     "data": {
      "text/html": [
       "<ol class=list-inline>\n",
       "\t<li>4.41723362427488</li>\n",
       "\t<li>9.40293876474449</li>\n",
       "</ol>\n"
      ],
      "text/latex": [
       "\\begin{enumerate*}\n",
       "\\item 4.41723362427488\n",
       "\\item 9.40293876474449\n",
       "\\end{enumerate*}\n"
      ],
      "text/markdown": [
       "1. 4.41723362427488\n",
       "2. 9.40293876474449\n",
       "\n",
       "\n"
      ],
      "text/plain": [
       "[1] 4.417234 9.402939"
      ]
     },
     "metadata": {},
     "output_type": "display_data"
    }
   ],
   "source": [
    "Y = data[,1]\n",
    "X = data[,2:3]\n",
    "b_hat = solve(t(X)%*%X)%*%t(X)%*%Y\n",
    "b_hat = c(b_hat)\n",
    "b_hat"
   ]
  },
  {
   "cell_type": "markdown",
   "metadata": {},
   "source": [
    "Looks like our estimates are not too close to the true value of $\\beta$. But this is likely because we simulated a really small sample of data. Shortly, we explore what happens to the estimates when we increase the sample size. \n",
    "\n",
    "But for now we ask, what are we doing when obtaining this estimator? We can take a closer look graphically."
   ]
  },
  {
   "cell_type": "code",
   "execution_count": 5,
   "metadata": {},
   "outputs": [
    {
     "data": {
      "image/png": "[encoded data removed]",
      "text/plain": [
       "plot without title"
      ]
     },
     "metadata": {},
     "output_type": "display_data"
    }
   ],
   "source": [
    "plot(x=data[,3], y=data[,1], xlab=\"X_1\", ylab=\"Y\", bg=\"red\", pch=21,\n",
    "    col=\"red\")\n",
    "lines(x=seq(min(data[,3]), max(data[,3]), length.out=100), \n",
    "      y=b_hat[1] + b_hat[2]*seq(min(data[,3]), max(data[,3]), length.out=100),\n",
    "      col=\"blue\", lwd=3)"
   ]
  },
  {
   "cell_type": "markdown",
   "metadata": {},
   "source": [
    "The line is fit to minimize the average distance between itself and the data. "
   ]
  },
  {
   "cell_type": "markdown",
   "metadata": {},
   "source": [
    "# Multiple Linear Regression\n",
    "We have covered the case where we've regressed $Y$ on a single regressor $X_1$ and a constant. This is univariate regression. But luckily, we've already explored regression by writing $X=(1,X_1)'$ as a vector. So now, just think that we have more regressors so that $X=(1,X_1,X_2,...,X_K)$ is a $K+1$ vector, i.e., that we have $K$ total regressors. Writing with $i$ subscripts this is $X_i = (1, X_{1,i},...,X_{K,i})'$.\n",
    "\n",
    "Because we have already solved for the linear regression parameters when $X_i$ is a vector, the math is the same, except the matrices and vectors are of a higher dimension. We still have $\\beta = E[XX']^{-1}E[XY]$ where $X$ is now a $(K+1)\\times 1$ vector. The OLS estimator of $\\beta$ is (in super matrix notation) $\\hat{\\beta}_N = (\\boldsymbol{X}'\\boldsymbol{X})^{-1}\\boldsymbol{X}'\\boldsymbol{Y}$ where $\\boldsymbol{X}$ is now an $N \\times (K+1)$ matrix. Note that $K=1$ is the univariate case from above.\n",
    "\n",
    "The main insight from multiple (or multivariate) linear regression is the interpretation of the parameters and how the parameters can change with the introduction of more explanatory variables. To help explain the intuition, let's consider the case when $K=2$, so that we have two explanatory variables, $X_{1,i}$ and $X_{2,i}$, and $X_i = (1, X_{1,i}, X_{2,i})'$. "
   ]
  },
  {
   "cell_type": "markdown",
   "metadata": {},
   "source": [
    "## Interpreting Regression Coefficients from Multiple Regression: The Frisch-Waugh Theorem\n",
    "Suppose that the linear regression of $Y$ on $X_1$ and $X_2$ can be denoted as $\\beta_0 + \\beta_1X_1 + \\beta_2X_2$ or $X'\\beta$ where $X\\equiv (1, X_1, X_2)$. Next consider the linear regression of $Y$ on $X_2$, denoted $BLP(Y|X_2)$ and the linear regression of $X_1$ on $X_2$ as $BLP(X_1|X_2)$. Let the residual from these regressions be defined as $U \\equiv Y - X'\\beta$, $\\tilde{Y} \\equiv Y - BLP(Y|X_2)$ and $\\tilde{X}_1\\equiv X_1 - BLP(X_1|X_2)$. By properties of BLP, $E[XU] = E[U] = E[\\tilde{X}_1] = E[\\tilde{Y}] = E[\\tilde{X}_1X_2] = E[\\tilde{Y}X_2]=0$. \n",
    "\n",
    "It turns out, we can interpret $\\beta_1$ as the slope coefficient of a regression of $\\tilde{Y}$ on $\\tilde{X}_1$. Why? Let's prove it! Let $\\tilde{\\beta}_1$ be the slope coefficient from a regression of $\\tilde{Y}$ on $\\tilde{X}_1$.\n",
    "$$\n",
    "\\tilde{\\beta}_1  = \\frac{Cov[\\tilde{Y},\\tilde{X}_1]}{Var[\\tilde{X}_1]} = \\frac{E[\\tilde{Y}\\tilde{X}_1]}{E[\\tilde{X}_1^2]}\n",
    "$$\n",
    "$$\n",
    "= \\frac{E[(Y - BLP(Y|X_2))\\tilde{X}_1]}{E[\\tilde{X}_1^2]} = \\frac{E[Y\\tilde{X}_1]}{E[\\tilde{X}_1^2]}\n",
    "$$\n",
    "$$\n",
    "= \\frac{E[(\\beta_0 + \\beta_1X_1 + \\beta_2X_2 + U)\\tilde{X}_1]}{E[\\tilde{X}_1^2]}\n",
    "$$\n",
    "$$\n",
    "= \\beta_1\\frac{E[X_1\\tilde{X}_1]}{E[\\tilde{X}_1^2]} = \\beta_1\\frac{E[(\\tilde{X}_1 + BLP(X_1|X_2))\\tilde{X}_1]}{E[\\tilde{X}_1^2]}\n",
    "$$\n",
    "$$\n",
    "= \\beta_1\\frac{E[\\tilde{X}_1\\tilde{X}_1]}{E[\\tilde{X}_1^2]} = \\beta_1.\n",
    "$$\n",
    "What we have just done is to show that $\\beta_1$ is the (linear) \"effect\" of $X_1$ on $Y$ after \"controlling\" (linearly) for $X_2$. This result is known as the **Frisch-Waugh theorem**.\n",
    "\n",
    "One can also prove that the OLS estimator corresponding to these quantities is also the same, i.e., \n",
    "that\n",
    "$$\n",
    "\\hat{\\tilde{\\beta}}_{1,N} = \\frac{\\sum_{i=1}^N(\\hat{\\tilde{Y}}_i - \\bar{\\tilde{Y}}_N)(\\hat{\\tilde{X}}_{1,i} - \\bar{\\tilde{X}}_{1,N})}{\\sum_{i=1}^N(\\hat{\\tilde{X}}_{1,i} - \\bar{\\tilde{X}}_{1,N})^2} = \\hat{\\beta}_{1,N}\n",
    "$$\n",
    "where $\\hat{\\tilde{Y}}_i$ is the estimated residual of a regression of $Y$ on $X_2$ and $\\hat{\\tilde{X}}_{1,N}$ is the estimated residual of a regression of $X_1$ on $X_2$. To see this, let's do a Monte Carlo exercise, calculating estimates of the regression by first using a single regression and second by separately regression $Y$ and $X_1$ on $X_2$, and then doing residual regression. Let \n",
    "$$\n",
    "\\begin{pmatrix}\n",
    "X_1 \\\\ X_2 \n",
    "\\end{pmatrix} \\sim\n",
    "\\mathcal{N}\n",
    "\\left(\\begin{pmatrix}\n",
    "1 \\\\ 2\n",
    "\\end{pmatrix},\n",
    "\\begin{pmatrix}\n",
    "1 & 0.5 \\\\ 0.5 & 2\n",
    "\\end{pmatrix}\n",
    "\\right),\n",
    "$$\n",
    "$N=1000$ and $U = Y - BLP(Y|X_1,X_2)\\sim \\mathcal{N}(0,10)$ and $\\beta=(2, 3, 4)'$."
   ]
  },
  {
   "cell_type": "code",
   "execution_count": 14,
   "metadata": {},
   "outputs": [
    {
     "data": {
      "text/html": [
       "3.16528331101283"
      ],
      "text/latex": [
       "3.16528331101283"
      ],
      "text/markdown": [
       "3.16528331101283"
      ],
      "text/plain": [
       "[1] 3.165283"
      ]
     },
     "metadata": {},
     "output_type": "display_data"
    }
   ],
   "source": [
    "library(MASS)\n",
    "sim_data2 = function(N) {\n",
    "    mean = c(1, 2)\n",
    "    cov = cbind(c(1, 0.5), c(0.5, 2))\n",
    "    x = mvrnorm(N, mu=mean, Sigma=cov)\n",
    "    x = cbind(rep(1, N), x)\n",
    "    noise = rnorm(N, mean=0, sd=sqrt(10))\n",
    "    \n",
    "    b = c(2, 3, 4)\n",
    "    dim(b) <- c(3, 1)\n",
    "    \n",
    "    y = x%*%b + noise\n",
    "    \n",
    "    cbind(y, x)\n",
    "}\n",
    "\n",
    "N = 1000\n",
    "set.seed(210)\n",
    "\n",
    "# simulating data\n",
    "data = sim_data2(N)\n",
    "\n",
    "reg = function(Y, X){solve(t(X)%*%X)%*%t(X)%*%Y}\n",
    "res = function(Y, X){Y - X%*%reg(Y, X)}\n",
    "\n",
    "# One regression procedure\n",
    "Y = data[, 1]\n",
    "X = data[, 2:4]\n",
    "b = reg(Y, X)\n",
    "b[2]"
   ]
  },
  {
   "cell_type": "code",
   "execution_count": 16,
   "metadata": {},
   "outputs": [
    {
     "data": {
      "text/html": [
       "3.16528331101285"
      ],
      "text/latex": [
       "3.16528331101285"
      ],
      "text/markdown": [
       "3.16528331101285"
      ],
      "text/plain": [
       "[1] 3.165283"
      ]
     },
     "metadata": {},
     "output_type": "display_data"
    }
   ],
   "source": [
    "# two regression procedure\n",
    "X1 = data[, c(2,3)] # column with 1s and column with X_1\n",
    "X2 = data[, 4] # column with X_2\n",
    "\n",
    "# Step 1: get residuals\n",
    "# residual of Y on X2\n",
    "Y.til = res(Y, X2)\n",
    "\n",
    "# residual of X1 on X2\n",
    "X1.til = res(X1, X2)\n",
    "\n",
    "# Step 2: regress residuals on residuals\n",
    "b.til = reg(Y.til, X1.til)\n",
    "\n",
    "b.til[2]"
   ]
  },
  {
   "cell_type": "markdown",
   "metadata": {},
   "source": [
    "We obtain numerically identical estimates using both procedures. If we want to see why this is true analytically, let's first introduce some new matrices helpful for the proof.\n",
    "\n",
    "## Projection Interpretation of Least Squares\n",
    "Define the projection matrix $\\boldsymbol{P} = \\boldsymbol{X}(\\boldsymbol{X}'\\boldsymbol{X})^{-1}\\boldsymbol{X}'$, which is a $N\\times N$ matrix. Further, define the residual maker matrix as $\\boldsymbol{M} = (I - \\boldsymbol{P})$, which is also $N\\times N$. Both of these matrices are symmetric, i.e., $\\boldsymbol{P}=\\boldsymbol{P}'$ and idempotent, i.e., $\\boldsymbol{P}\\boldsymbol{P}=\\boldsymbol{P}$.\n",
    "\n",
    "- The predicted values of $Y$ are $\\hat{\\boldsymbol{Y}} = \\boldsymbol{X}\\hat{\\beta} = \\boldsymbol{P}\\boldsymbol{Y}$ (we project $\\boldsymbol{Y}$ onto the column space of $\\boldsymbol{X}$)\n",
    "- But $\\boldsymbol{P}\\boldsymbol{X} = \\boldsymbol{X}$\n",
    "- Estimated regression residuals are $\\hat{\\boldsymbol{U}} = \\boldsymbol{Y} - \\hat{\\boldsymbol{Y}} = \\boldsymbol{M}\\boldsymbol{Y}$\n",
    "- But $\\boldsymbol{M}\\boldsymbol{X} = 0$\n",
    "    - Note that anything in column space of $\\boldsymbol{X}$, e.g., $\\boldsymbol{X}c$ for some $(K+1)\\times L$ selection matric $c$, where $L\\leq K+1$, will be such that $\\boldsymbol{M}\\boldsymbol{X}c=0$ as well."
   ]
  },
  {
   "cell_type": "markdown",
   "metadata": {},
   "source": [
    "## Frisch-Waugh Theorem for Sample\n",
    "Let $\\boldsymbol{X} = (\\boldsymbol{X}_1 \\boldsymbol{X}_2)$. Define $\\boldsymbol{P}_2 = \\boldsymbol{X}_2(\\boldsymbol{X}_2'\\boldsymbol{X}_2)^{-1}\\boldsymbol{X}_2'$ and $\\boldsymbol{M}_2 = I - \\boldsymbol{P}_2$. Let $\\hat{\\beta} = (\\boldsymbol{X}'\\boldsymbol{X})^{-1}\\boldsymbol{X}'\\boldsymbol{Y}$ be our OLS estimator of the regression of $Y$ on $X=(1,X_1,X_2)$. The components of $\\hat{\\beta} = (\\hat{\\beta}_1, \\hat{\\beta}_2)'$. Therefore, we can write\n",
    "$$\n",
    "\\boldsymbol{Y} = \\boldsymbol{X}\\hat{\\beta} + \\hat{\\boldsymbol{U}} = \\boldsymbol{X}_1\\hat{\\beta}_1 + \\boldsymbol{X}_2\\hat{\\beta}_2 + \\hat{\\boldsymbol{U}}\n",
    "$$\n",
    "Multiplying both sides on the left by $\\boldsymbol{M}_2$,\n",
    "$$\n",
    "\\boldsymbol{M}_2\\boldsymbol{Y} = \\boldsymbol{M}_2\\boldsymbol{X}_1\\hat{\\beta}_1 + \\boldsymbol{M}_2\\boldsymbol{X}_2\\hat{\\beta}_2 + \\boldsymbol{M}_2\\hat{\\boldsymbol{U}}\n",
    "$$\n",
    "we can use the fact that $\\boldsymbol{M}_2\\boldsymbol{X}_2=0$ and $\\boldsymbol{M}_2\\hat{\\boldsymbol{U}} = \\hat{\\boldsymbol{U}} = (I - \\boldsymbol{P}_2)\\hat{\\boldsymbol{U}} = \\hat{\\boldsymbol{U}} - \\boldsymbol{P}_2\\hat{\\boldsymbol{U}} = \\hat{\\boldsymbol{U}}$, since $\\boldsymbol{P}_2\\hat{\\boldsymbol{U}}=\\boldsymbol{X}_2(\\boldsymbol{X}_2'\\boldsymbol{X}_2)^{-1}\\boldsymbol{X}_2'\\boldsymbol{M}\\boldsymbol{Y}=0$ and $\\boldsymbol{X}_2=\\boldsymbol{X}c$ (for some selection matrix $c$), which means that $\\boldsymbol{X}_2$ is in the column space of $\\boldsymbol{X}$. Thus, we are left with\n",
    "$$\n",
    "\\boldsymbol{M}_2\\boldsymbol{Y} = \\boldsymbol{M}_2\\boldsymbol{X}_1\\hat{\\beta}_1 + \\hat{\\boldsymbol{U}}.\n",
    "$$\n",
    "Now left multiply by $(\\boldsymbol{M}_2\\boldsymbol{X}_1)'$, \n",
    "$$\n",
    "(\\boldsymbol{M}_2\\boldsymbol{X}_1)'\\boldsymbol{M}_2\\boldsymbol{Y} = (\\boldsymbol{M}_2\\boldsymbol{X}_1)'\\boldsymbol{M}_2\\boldsymbol{X}_1\\hat{\\beta}_1 + (\\boldsymbol{M}_2\\boldsymbol{X}_1)'\\hat{\\boldsymbol{U}},\n",
    "$$\n",
    "where since $(\\boldsymbol{M}_2\\boldsymbol{X}_1)'\\hat{\\boldsymbol{U}} = 0$, we can multiply by the inverse of $(\\boldsymbol{M}_2\\boldsymbol{X}_1)'\\boldsymbol{M}_2\\boldsymbol{X}_1$ on both sides to obtain\n",
    "$$\n",
    "\\hat{\\beta}_1 = [(\\boldsymbol{M}_2\\boldsymbol{X}_1)'\\boldsymbol{M}_2\\boldsymbol{X}_1]^{-1}(\\boldsymbol{M}_2\\boldsymbol{X}_1)'\\boldsymbol{M}_2\\boldsymbol{Y}\n",
    "$$\n",
    "which shows that $\\hat{\\beta}_1$ is just equal to slope coefficient estimate by OLS of the estimated residuals from a regression of $Y$ on $X_2$, $\\boldsymbol{M}_2\\boldsymbol{Y}$ on the estimated residuals from a regression of $X_1$ on $X_2$, $\\boldsymbol{M}_2\\boldsymbol{X}_1$. That is, notice that $\\boldsymbol{M}_2\\boldsymbol{X}_1 = \\hat{\\tilde{\\boldsymbol{X}}}_1$ and $\\boldsymbol{M}_2\\boldsymbol{Y} = \\hat{\\tilde{\\boldsymbol{Y}}}$."
   ]
  },
  {
   "cell_type": "markdown",
   "metadata": {},
   "source": [
    "# Relationship between Multivariate and Univariate Regression Parameters\n",
    "Now that we've introduced multivariate regression, we can ask an additional question which will help us in the future. Consider the linear regression of $Y$ on $X_1$, denoted $BLP(Y|X_1) = \\beta_0 + \\beta_1X_1$. How would $\\beta_1$ change if we had included $X_2$ in the regression?\n",
    "\n",
    "To answer this question, write the linear regression of $Y$ on $X_1$ and $X_2$ as $BLP(Y|X_1,X_2)=\\gamma_0 + \\gamma_1X_1 + \\gamma_2X_2$ and define the residual of this regression as $U = Y - BLP(Y|X_1,X_2)$. Recall that $U$ has the property that $E[U] = E[X_1U] = E[X_2U] = 0$. \n",
    "\n",
    "Our question reduces to, what is the relationship between $\\beta_1$ and $\\gamma_1$?\n",
    "\\begin{align}\n",
    "\\beta_1 & = \\frac{Cov[Y,X_1]}{Var[X_1]} = \\frac{Cov[\\gamma_0 + \\gamma_1X_1 + \\gamma_1X_2 + U,X_1]}{Var[X_1]} \\\\\n",
    "& = \\gamma_1 + \\gamma_2\\frac{Cov[X_1,X_2]}{Var[X_1]},\n",
    "\\end{align}\n",
    "so that $\\beta_1=\\gamma_1$ if $\\gamma_2=0$ or $Cov[X_1,X_2]=0$."
   ]
  },
  {
   "cell_type": "markdown",
   "metadata": {},
   "source": [
    "## An Empirical Example\n",
    "Let's try to use the formula above to make a prediction about a particular $\\beta_1$ and $\\gamma_1$. Let's consider the impact of education $X_1$ and race $X_2$ on labor income $Y$. Let $\\beta_1$ denote the coefficient on years of education for a regression with only education. And let $\\gamma_1$ denote the coefficient when we include race.\n",
    "\n",
    "Do we expect $\\beta_1 > \\gamma_1$ or $\\beta_1 < \\gamma_1$ or $\\beta_1 = \\gamma_1$? First consider $\\gamma_2$. We expect $\\gamma_2 < 0$ since it is a well-known fact that blacks earn less than whites on average. Some popular explanations are discrimination, lack of quality public goods (e.g., schooling) and historical wealth differences. It is also well-known that blacks obtain fewer years of education on average. Thus, we expect $Cov[X_1,X_2]<0$. Therefore, we expect that $\\beta_1 > \\gamma_1$, because part of the larger effect of education is the effect of being non-black.\n",
    "\n",
    "Let's see if we can confirm our prediction in the data."
   ]
  },
  {
   "cell_type": "code",
   "execution_count": 67,
   "metadata": {},
   "outputs": [
    {
     "data": {
      "text/html": [
       "8811.12606408393"
      ],
      "text/latex": [
       "8811.12606408393"
      ],
      "text/markdown": [
       "8811.12606408393"
      ],
      "text/plain": [
       "[1] 8811.126"
      ]
     },
     "metadata": {},
     "output_type": "display_data"
    }
   ],
   "source": [
    "url = \"https://raw.githubusercontent.com/jtorcasso/teaching/master/econ210_fall2017/data/psid_2011.csv\"\n",
    "df = read.csv(url)\n",
    "N = dim(df)[1]\n",
    "\n",
    "Y = df[, \"inc_labor\"]\n",
    "X1 = df[, \"edu\"]\n",
    "X2 = df[, \"black\"]\n",
    "\n",
    "b = reg(Y, cbind(rep(1, N), X1))\n",
    "b[2]"
   ]
  },
  {
   "cell_type": "code",
   "execution_count": 68,
   "metadata": {},
   "outputs": [
    {
     "data": {
      "text/html": [
       "8594.32063565554"
      ],
      "text/latex": [
       "8594.32063565554"
      ],
      "text/markdown": [
       "8594.32063565554"
      ],
      "text/plain": [
       "[1] 8594.321"
      ]
     },
     "metadata": {},
     "output_type": "display_data"
    }
   ],
   "source": [
    "g = reg(Y, cbind(rep(1, N), X1, X2))\n",
    "g[2]"
   ]
  },
  {
   "cell_type": "markdown",
   "metadata": {},
   "source": [
    "And we have confirmed our prediction. An additional year of education is associated with a \\$8,811 increase in labor income but this reduces to \\$8,594 after controlling for race."
   ]
  },
  {
   "cell_type": "markdown",
   "metadata": {},
   "source": [
    "# Interpreting the Slope Coefficient with log Transformations\n",
    "Let $Y$ denote the outcome and $X$ your regressor of interest with $\\beta_1$ the slope coefficient on $X$. Sometimes we transform the data with logs and this changes the interpretation of $\\beta_1$. Consider the following cases:\n",
    "\n",
    "- Case 1: Regress $Y$ on $X$. Then a 1 unit increase in $X$ is associated with a $\\beta_1$ unit increase in $Y$. In the discrete case, $\\beta_1=\\frac{\\Delta y}{\\Delta x}$ with $\\Delta y = \\Delta x = 1$, then you can see this clearly.\n",
    "- Case 2: Regress $log(Y)$ on $X$. Then a 1 unit increase in $X$ is associated with a $100\\cdot\\beta_1$ percent increase in $Y$. In the discrete case, suppose $y=1$ and $\\Delta y=1$ with $\\Delta x = 1$. Then $\\beta_1 = \\frac{\\Delta y/y}{\\Delta x} = 1$, or a 100% change in $y$ associated with a 1 unit change in x.\n",
    "- Case 3: Regress $Y$ on $log(X)$. Then a 1 percent increase in $X$ is associated with a $\\beta_1/100$ unit increase in $Y$. Suppose $\\Delta y = 1$, $\\Delta x = 0.01$ and $x=1$, then $\\beta_1=\\frac{\\Delta y}{\\Delta x/x} = 1/0.01 = 100$. \n",
    "- Case 4: Regress $log(Y)$ on $log(X)$. Then a 1 percent increase in $X$ is associated with a $\\beta_1$ percent increase in $Y$. Suppose $x = y=1$, $\\Delta x=0.01$ and $\\Delta y = 0.02$, then $\\beta_1=\\frac{\\Delta y/y}{\\Delta x/x} = .02/.01 = 2$.\n",
    "\n",
    "Why? Using chain rule we have that $dlog(Y)$ = $dY/Y$ and $dlog(X)=dX/X$, both of which represent percent changes, where $dY$ and $dX$ are unit changes."
   ]
  },
  {
   "cell_type": "markdown",
   "metadata": {},
   "source": [
    "# Measure of Fit: The R-Squared\n",
    "How much of the variance in $Y$ is explained by the variation in $X$? We can answer this question by looking at the $R^2$:\n",
    "$$\n",
    "R^2 = \\frac{\\beta'Var[X]\\beta}{Var[Y]} = 1 - \\frac{Var[U]}{Var[Y]},\n",
    "$$\n",
    "where $U$ is defined as $U = Y - X'\\beta$. We can estimate this with\n",
    "$$\n",
    "R^2_N = 1 - \\frac{\\sum_{i=1}^N\\hat{U}_i^2}{\\sum_{i=1}^N(Y_i - \\bar{Y}_N)^2} = 1 - \\frac{\\sum_{i=1}^N(Y_i - X_i'\\hat{\\beta}_N)^2}{\\sum_{i=1}^N(Y_i - \\bar{Y}_N)^2}\n",
    "$$\n",
    "or utilize an unbiased estimator, called the adjusted $R^2$, denoted $\\bar{R}^2_N$,\n",
    "$$\n",
    "\\bar{R}^2_N = 1 - \\frac{N - 1}{N - K - 1}\\frac{\\sum_{i=1}^N\\hat{U}_i^2}{\\sum_{i=1}^N(Y_i - \\bar{Y}_N)^2}\n",
    "$$\n",
    "where $K$ is the number of regressors. In our example above, $K=2$. The advantage of the estimator $R^2_N$ is that it is bound between $0$ (no variance explained by $X$) and $1$ (all of the variance explained by $X$). But this also means that it must be biased, since our estimator will have almost zero probability of being exactly $0$. Another drawback of using $R^2$ is that adding an additional explanatory variable always increases the $R^2$, even if this variable adds no new \"real\" information for explaining variance in $Y$. This is why the adjusted $R^2$, $\\bar{R}^2_N$ is often used, as it penalizes the addition of more variables to the regression.\n",
    "\n",
    "Let's calculate $R^2_N$ and $\\bar{R}^2_N$ for the data we simulated and compare it to the truth. Since $Var[U] = 10$ and\n",
    "$$\n",
    "Var[Y] = Var[\\beta_0 + \\beta_1X_1 + \\beta_2X_2 + U] = \\beta_1^2Var[X_1] + \\beta_2^2Var[X_2] + 2\\beta_1\\beta_2Cov[X_1,X_2] + Var[U]\n",
    "$$\n",
    "$$\n",
    "= 9\\cdot 1 + 16\\cdot 2 + 2\\cdot12\\cdot 0.5 + 10 = 63\n",
    "$$\n",
    "then the true $R^2=1 - \\frac{Var[U]}{Var[Y]} = 1 - \\frac{10}{63} = 53/63$."
   ]
  },
  {
   "cell_type": "code",
   "execution_count": 8,
   "metadata": {},
   "outputs": [
    {
     "data": {
      "text/html": [
       "0.841269841269841"
      ],
      "text/latex": [
       "0.841269841269841"
      ],
      "text/markdown": [
       "0.841269841269841"
      ],
      "text/plain": [
       "[1] 0.8412698"
      ]
     },
     "metadata": {},
     "output_type": "display_data"
    }
   ],
   "source": [
    "53/63"
   ]
  },
  {
   "cell_type": "code",
   "execution_count": 9,
   "metadata": {},
   "outputs": [
    {
     "data": {
      "text/html": [
       "<ol class=list-inline>\n",
       "\t<li>0.858854998810704</li>\n",
       "\t<li>0.858571859390064</li>\n",
       "</ol>\n"
      ],
      "text/latex": [
       "\\begin{enumerate*}\n",
       "\\item 0.858854998810704\n",
       "\\item 0.858571859390064\n",
       "\\end{enumerate*}\n"
      ],
      "text/markdown": [
       "1. 0.858854998810704\n",
       "2. 0.858571859390064\n",
       "\n",
       "\n"
      ],
      "text/plain": [
       "[1] 0.8588550 0.8585719"
      ]
     },
     "metadata": {},
     "output_type": "display_data"
    }
   ],
   "source": [
    "U = res(Y, X)\n",
    "R2 = 1 - sum(U^2)/sum((Y - mean(Y))^2)\n",
    "R2.adj = 1 - ((N - 1)/(N - 3))*sum(U^2)/sum((Y - mean(Y))^2)\n",
    "c(R2, R2.adj)"
   ]
  },
  {
   "cell_type": "markdown",
   "metadata": {},
   "source": [
    "# A Note on the Constant in the Regression\n",
    "Some of you may have thought it was strange to include a column of ones in the matrix $\\boldsymbol{X}$ when producing the OLS estimates. But remember, we've defined the \"best linear predictor\" $BLP(Y|X)$ or the regression of $Y$ on $X$ as $\\beta_0 + \\beta_1X_1 + \\beta_2X_2 + ... + \\beta_KX_K$. So to produce estimates of all the coefficients, including $\\beta_0$, we need to include a column of 1s in $\\boldsymbol{X}$.\n",
    "\n",
    "This way, our predicted values look like\n",
    "$$\n",
    "\\hat{\\boldsymbol{Y}} = \\begin{pmatrix}\n",
    "1 & X_{11} & \\dots & X_{K1} \\\\\n",
    "1 & X_{12} & \\dots & X_{K2} \\\\\n",
    "\\vdots & \\vdots & \\vdots & \\vdots \\\\\n",
    "1 & X_{1N} \\dots & X_{KN} \\\\\n",
    "\\end{pmatrix}\n",
    "\\begin{pmatrix}\n",
    "\\hat{\\beta}_0 \\\\ \\hat{\\beta}_1 \\\\ \\vdots \\\\ \\hat{\\beta}_K\n",
    "\\end{pmatrix}\n",
    "$$\n",
    "$$\n",
    "= \\begin{pmatrix}\n",
    "\\hat{\\beta}_0 + \\hat{\\beta}_1X_{11} + \\dots + \\hat{\\beta}_KX_{K1} \\\\\n",
    "\\hat{\\beta}_0 + \\hat{\\beta}_1X_{12} + \\dots + \\hat{\\beta}_KX_{K2} \\\\\n",
    "\\vdots \\\\\n",
    "\\hat{\\beta}_0 + \\hat{\\beta}_1X_{1N} + \\dots + \\hat{\\beta}_KX_{KN} \\\\\n",
    "\\end{pmatrix}\n",
    "$$\n",
    "Failure to include the column of 1s in the regression would mean we'd have to fit a \"line\" of best fit through the origin, which clearly isn't getting at the notion of \"best linear predictor.\" To see this graphically, we fit a line with and without a constant below."
   ]
  },
  {
   "cell_type": "code",
   "execution_count": 94,
   "metadata": {},
   "outputs": [
    {
     "data": {
      "image/png": "[encoded data removed]",
      "text/plain": [
       "Plot with title “Bad Fit, no constant”"
      ]
     },
     "metadata": {},
     "output_type": "display_data"
    }
   ],
   "source": [
    "y = c(6, 5, 4, 6, 8, 7, 4, 6, 5, 8, 7)\n",
    "x = c(0, 1, 2, 3, 4, 5, 6, 7, 8, 9, 10)\n",
    "\n",
    "plot(x, y, xlim=c(0, 10), ylim=c(0, 10), col='red', bg='red', pch=21,\n",
    "    main=\"Bad Fit, no constant\")\n",
    "lines(x, reg(y, x)*x)"
   ]
  },
  {
   "cell_type": "markdown",
   "metadata": {},
   "source": [
    "We can see that the fit of the line to the data is bad because we force the line to go through the origin, instead of also fitting an intercept."
   ]
  },
  {
   "cell_type": "code",
   "execution_count": 102,
   "metadata": {},
   "outputs": [
    {
     "data": {
      "image/png": "[encoded data removed]",
      "text/plain": [
       "Plot with title “Good Fit, with constant”"
      ]
     },
     "metadata": {},
     "output_type": "display_data"
    }
   ],
   "source": [
    "plot(x, y, xlim=c(0, 10), ylim=c(0, 10), col='red', bg='red', pch=21,\n",
    "    main=\"Good Fit, with constant\")\n",
    "X = cbind(rep(1, 11), x)\n",
    "lines(x, X%*%reg(y, X))"
   ]
  }
 ],
 "metadata": {
  "kernelspec": {
   "display_name": "R",
   "language": "R",
   "name": "ir"
  },
  "language_info": {
   "codemirror_mode": "r",
   "file_extension": ".r",
   "mimetype": "text/x-r-source",
   "name": "R",
   "pygments_lexer": "r",
   "version": "3.2.3"
  }
 },
 "nbformat": 4,
 "nbformat_minor": 2
}
